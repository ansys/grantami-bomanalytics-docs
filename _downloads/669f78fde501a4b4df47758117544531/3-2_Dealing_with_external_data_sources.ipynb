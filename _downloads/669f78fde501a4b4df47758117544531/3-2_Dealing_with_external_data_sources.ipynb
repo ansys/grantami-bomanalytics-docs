{
 "cells": [
  {
   "cell_type": "markdown",
   "id": "549f069f",
   "metadata": {},
   "source": [
    "# Determining Compliance for BoMs in External Data Sources"
   ]
  },
  {
   "cell_type": "markdown",
   "id": "b8f3563c",
   "metadata": {},
   "source": [
    "## Introduction"
   ]
  },
  {
   "cell_type": "markdown",
   "id": "27c74443",
   "metadata": {},
   "source": [
    "You may have to deal with Bills of Materials or other data structures stored in third-party systems. This\n",
    "example shows a scenario where compliance needs to be determined for a BoM-type structure in a JSON file,\n",
    "with the result added to the input file."
   ]
  },
  {
   "cell_type": "markdown",
   "id": "7c240afa",
   "metadata": {},
   "source": [
    "Although it is unlikely that the data structures and processing presented here will be an exact match for your\n",
    "requirements, this example is intended to demonstrate the principles behind using the BoM Analytics API within\n",
    "your existing processes. It shows how a BoM-like data structure can be loaded from a neutral format and used as\n",
    "a starting point for compliance analysis. The approach is applicable to data in other formats, or data loaded from\n",
    "other software platform APIs."
   ]
  },
  {
   "cell_type": "markdown",
   "id": "705865f9",
   "metadata": {},
   "source": [
    "The external data source used in this example can be downloaded\n",
    "[here](supporting-files/source_data.json)."
   ]
  },
  {
   "cell_type": "markdown",
   "id": "42da89aa",
   "metadata": {},
   "source": [
    "## Load the External Data"
   ]
  },
  {
   "cell_type": "markdown",
   "id": "7e7d09d9",
   "metadata": {},
   "source": [
    "First load the JSON file and use the ``json`` module to convert the text into a hierarchical structure of ``dict`` and\n",
    "``list`` objects."
   ]
  },
  {
   "cell_type": "code",
   "execution_count": null,
   "id": "ca31355e",
   "metadata": {
    "tags": []
   },
   "outputs": [],
   "source": [
    "import json\n",
    "from pprint import pprint\n",
    "\n",
    "with open(\"supporting-files/source_data.json\") as f:\n",
    "    data = json.load(f)\n",
    "pprint(data)"
   ]
  },
  {
   "cell_type": "markdown",
   "id": "9e304b3d",
   "metadata": {},
   "source": [
    "The list of components will be used frequently, so we store this in a variable for convenience."
   ]
  },
  {
   "cell_type": "code",
   "execution_count": null,
   "id": "b52f0b08",
   "metadata": {
    "tags": []
   },
   "outputs": [],
   "source": [
    "components = data[\"components\"]"
   ]
  },
  {
   "cell_type": "markdown",
   "id": "8a6bb2df",
   "metadata": {},
   "source": [
    "It is clear from viewing this data that some parts include multiple materials, and some materials appear in the JSON\n",
    "file more than once. However, the material compliance is not dependent on the component it is used in, and the\n",
    "compliance of a part only depends on the worst compliance status of the constituent materials. Therefore we can\n",
    "simplify the compliance query by get the compliance for the unique set of materials in the JSON file, and perform some\n",
    "data manipulation of the results."
   ]
  },
  {
   "cell_type": "markdown",
   "id": "e0189779",
   "metadata": {},
   "source": [
    "Since the compliance status of a material does not depend on which component it is used in, and part compliance\n",
    "depends only on the worst compliance status of its constituent materials, we can simplify the query by running it\n",
    "against the set of unique materials in the JSON file. We can then rebuild the data structure from these results to\n",
    "view the compliance by component."
   ]
  },
  {
   "cell_type": "markdown",
   "id": "07f04296",
   "metadata": {},
   "source": [
    "First, use a set comprehension to get the unique materials, which we can then cast into a list."
   ]
  },
  {
   "cell_type": "code",
   "execution_count": null,
   "id": "51a4a877",
   "metadata": {
    "tags": []
   },
   "outputs": [],
   "source": [
    "material_ids = {m for comp in components for m in comp[\"materials\"]}\n",
    "material_ids"
   ]
  },
  {
   "cell_type": "markdown",
   "id": "631d6063",
   "metadata": {},
   "source": [
    "## Getting the Compliance Status"
   ]
  },
  {
   "cell_type": "markdown",
   "id": "21e3ab04",
   "metadata": {},
   "source": [
    "Next, create and run a compliance query using the list of material IDs, as shown in previous exercises."
   ]
  },
  {
   "cell_type": "code",
   "execution_count": null,
   "id": "30cda064",
   "metadata": {
    "tags": []
   },
   "outputs": [],
   "source": [
    "from ansys.grantami.bomanalytics import Connection, indicators, queries\n",
    "\n",
    "server_url = \"http://my_grantami_server/mi_servicelayer\"\n",
    "cxn = Connection(server_url).with_credentials(\"user_name\", \"password\").connect()\n",
    "svhc = indicators.WatchListIndicator(\n",
    "    name=\"SVHC\",\n",
    "    legislation_names=[\"REACH - The Candidate List\"],\n",
    "    default_threshold_percentage=0.1,\n",
    ")\n",
    "mat_query = (\n",
    "    queries.MaterialComplianceQuery()\n",
    "    .with_indicators([svhc])\n",
    "    .with_material_ids(material_ids)\n",
    ")\n",
    "mat_results = cxn.run(mat_query)\n",
    "mat_results"
   ]
  },
  {
   "cell_type": "markdown",
   "id": "12215c55",
   "metadata": {},
   "source": [
    "## Post-Processing the Results"
   ]
  },
  {
   "cell_type": "markdown",
   "id": "09a91558",
   "metadata": {},
   "source": [
    "The results above describe the compliance status for each material, but more work is needed to\n",
    "provide the compliance status for all the components in the original JSON."
   ]
  },
  {
   "cell_type": "markdown",
   "id": "e6e8c6bb",
   "metadata": {},
   "source": [
    "When a component contains only one material, the result can simply be copied over.  In the general case, moving from\n",
    "material compliance to component compliance means taking the worst compliance result across all the constituent\n",
    "materials."
   ]
  },
  {
   "cell_type": "markdown",
   "id": "725b8448",
   "metadata": {},
   "source": [
    "To do this, first create a dictionary that maps a material ID to the indicator result returned by the query."
   ]
  },
  {
   "cell_type": "code",
   "execution_count": null,
   "id": "d21c480d",
   "metadata": {
    "tags": []
   },
   "outputs": [],
   "source": [
    "material_lookup = {mat.material_id: mat.indicators[\"SVHC\"]\n",
    "                   for mat in mat_results.compliance_by_material_and_indicator}"
   ]
  },
  {
   "cell_type": "markdown",
   "id": "7162c3f4",
   "metadata": {
    "lines_to_next_cell": 2
   },
   "source": [
    "Next, define a function that takes a list of material IDs and returns the worst compliance status associated with the\n",
    "materials in the list.\n",
    "\n",
    "We can use the built-in ``max()`` function to do this, because ``WatchListIndicator`` objects can be compared with >\n",
    "and < operators. The convention is that a worse result is 'greater than' a better result."
   ]
  },
  {
   "cell_type": "code",
   "execution_count": null,
   "id": "34c203e1",
   "metadata": {
    "tags": []
   },
   "outputs": [],
   "source": [
    "def rollup_results(material_ids) -> str:\n",
    "    indicator_results = [material_lookup[mat_id] for mat_id in material_ids]\n",
    "    worst_result = max(indicator_results)\n",
    "    return worst_result.flag.name"
   ]
  },
  {
   "cell_type": "markdown",
   "id": "ca629dc5",
   "metadata": {},
   "source": [
    "Now call this function for each component in a ``dict`` comprehension to obtain a mapping between part number\n",
    "and compliance status."
   ]
  },
  {
   "cell_type": "code",
   "execution_count": null,
   "id": "3a252ccf",
   "metadata": {
    "tags": []
   },
   "outputs": [],
   "source": [
    "component_results = {comp[\"part_number\"]: rollup_results(comp[\"materials\"])\n",
    "                     for comp in components}\n",
    "component_results"
   ]
  },
  {
   "cell_type": "markdown",
   "id": "0c5d9fe7",
   "metadata": {},
   "source": [
    "These results include text defined by the API for compliance status. However, we may want the compliance\n",
    "status to determine the approvals required to release the part in a design review process. In that case, we can define\n",
    "a mapping between compliance status and approval requirements."
   ]
  },
  {
   "cell_type": "code",
   "execution_count": null,
   "id": "e0690c3c",
   "metadata": {
    "tags": []
   },
   "outputs": [],
   "source": [
    "flags = indicators.WatchListFlag\n",
    "result_map = {\n",
    "    flags.WatchListCompliant.name: \"No Approval Required\",\n",
    "    flags.WatchListAllSubstancesBelowThreshold.name: \"Level 1 Approval Required\",\n",
    "    flags.WatchListHasSubstanceAboveThreshold.name: \"Level 2 Approval Required\",\n",
    "}"
   ]
  },
  {
   "cell_type": "markdown",
   "id": "ce1edb2a",
   "metadata": {},
   "source": [
    "We can now use this dictionary to map from the Granta MI result to the approval requirements."
   ]
  },
  {
   "cell_type": "code",
   "execution_count": null,
   "id": "f783aa32",
   "metadata": {
    "tags": []
   },
   "outputs": [],
   "source": [
    "results = {part_number: result_map[result]\n",
    "           for part_number, result in component_results.items()}\n",
    "results"
   ]
  },
  {
   "cell_type": "markdown",
   "id": "79ba9896",
   "metadata": {},
   "source": [
    "## Write the Output"
   ]
  },
  {
   "cell_type": "markdown",
   "id": "3615bdb6",
   "metadata": {},
   "source": [
    "Once we have our final result, we can take our result ``dict`` and use it to extend the original JSON data structure,\n",
    "with approval requirements added in."
   ]
  },
  {
   "cell_type": "code",
   "execution_count": null,
   "id": "854df257",
   "metadata": {},
   "outputs": [],
   "source": [
    "components_with_result = []\n",
    "for component in components:\n",
    "    component_with_result = component\n",
    "    part_number = component[\"part_number\"]\n",
    "    component_with_result[\"approval\"] = results[part_number]\n",
    "    components_with_result.append(component_with_result)\n",
    "\n",
    "data_results = {}\n",
    "data_results[\"components\"] = components_with_result"
   ]
  },
  {
   "cell_type": "markdown",
   "id": "791908c6",
   "metadata": {},
   "source": [
    "Printing the results shows the new data structure with the results included."
   ]
  },
  {
   "cell_type": "code",
   "execution_count": null,
   "id": "fd113620",
   "metadata": {
    "tags": []
   },
   "outputs": [],
   "source": [
    "pprint(data_results)"
   ]
  }
 ],
 "metadata": {
  "jupytext": {
   "formats": "ipynb,py:light"
  },
  "kernelspec": {
   "display_name": "Python 3 (ipykernel)",
   "language": "python",
   "name": "python3"
  }
 },
 "nbformat": 4,
 "nbformat_minor": 5
}
