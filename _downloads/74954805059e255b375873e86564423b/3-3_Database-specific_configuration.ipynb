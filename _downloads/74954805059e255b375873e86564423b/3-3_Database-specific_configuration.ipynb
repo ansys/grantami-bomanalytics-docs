{
 "cells": [
  {
   "cell_type": "markdown",
   "id": "e8b1afcb",
   "metadata": {},
   "source": [
    "# Database-Specific Configuration Options"
   ]
  },
  {
   "cell_type": "markdown",
   "id": "37e90fae",
   "metadata": {},
   "source": [
    "The BoM Analytics package will work with an off-the-shelf Granta MI Restricted Substances database. However, there are\n",
    "some situations in which additional run-time configuration changes are required:\n",
    "\n",
    "- If the database key or table names have been modified from their default values, these must be set on the\n",
    "  ``Connection`` object\n",
    "- If the number of linked records is very large, the batch sizes should be changed for each query (see\n",
    "  [Batching Requests](../../api/batching.rst) for more details)"
   ]
  },
  {
   "cell_type": "markdown",
   "id": "408a8528",
   "metadata": {},
   "source": [
    "## Specifying a Custom Database Key or Table Name"
   ]
  },
  {
   "cell_type": "markdown",
   "id": "73ebc532",
   "metadata": {},
   "source": [
    "The default database key, ``MI_Restricted_Substances``, is used if no database key is specified. To specify an\n",
    "alternative, use the ``Connection.set_database_details()`` method. This database key will be used for all queries made\n",
    "with this ``Connection`` object."
   ]
  },
  {
   "cell_type": "code",
   "execution_count": null,
   "id": "e3b8d4b2",
   "metadata": {
    "tags": []
   },
   "outputs": [],
   "source": [
    "from ansys.grantami.bomanalytics import Connection\n",
    "\n",
    "server_url = \"http://my_grantami_server/mi_servicelayer\"\n",
    "cxn = Connection(server_url).with_credentials(\"user_name\", \"password\").connect()\n",
    "cxn.set_database_details(database_key=\"ACME_SUBSTANCES_DATABASE\")\n",
    "cxn"
   ]
  },
  {
   "cell_type": "markdown",
   "id": "39a588be",
   "metadata": {},
   "source": [
    "It is also possible to specify alternative names for the relevant Restricted Substances tables, if they\n",
    "have been modified from the defaults. These are provided to the ``.set_database_details()`` method in the same way."
   ]
  },
  {
   "cell_type": "code",
   "execution_count": null,
   "id": "7140a61a",
   "metadata": {
    "tags": []
   },
   "outputs": [],
   "source": [
    "cxn.set_database_details(in_house_materials_table_name=\"ACME Materials\")\n",
    "cxn"
   ]
  },
  {
   "cell_type": "markdown",
   "id": "d64cdb24",
   "metadata": {},
   "source": [
    "## Batch Size"
   ]
  },
  {
   "cell_type": "markdown",
   "id": "c5d8b5d2",
   "metadata": {},
   "source": [
    "The queries that can be performed with this package are batched if they exceed a certain size. This is achieved by\n",
    "splitting the list of parts, materials, etc. into smaller lists to reduce the overall time taken\n",
    "to perform the query. Default batch sizes have been chosen based on typical tabular attribute sizes, but\n",
    "these may need to be changed in some situations (see the relevant page in the API documentation for examples)."
   ]
  },
  {
   "cell_type": "markdown",
   "id": "2309ac99",
   "metadata": {},
   "source": [
    "The batch size is included in the query ``__repr__``. The cell below shows a ``SpecificationComplianceQuery`` object\n",
    "with the default batch size."
   ]
  },
  {
   "cell_type": "code",
   "execution_count": null,
   "id": "e170306f",
   "metadata": {
    "tags": []
   },
   "outputs": [],
   "source": [
    "from ansys.grantami.bomanalytics import queries\n",
    "\n",
    "spec_query = queries.SpecificationComplianceQuery()\n",
    "spec_query"
   ]
  },
  {
   "cell_type": "markdown",
   "id": "75f3a105",
   "metadata": {},
   "source": [
    "You can manually set the batch size by doing the following:"
   ]
  },
  {
   "cell_type": "code",
   "execution_count": null,
   "id": "9099cb15",
   "metadata": {
    "tags": []
   },
   "outputs": [],
   "source": [
    "spec_query = spec_query.with_batch_size(5)\n",
    "spec_query"
   ]
  }
 ],
 "metadata": {
  "jupytext": {
   "formats": "ipynb,py:light"
  },
  "kernelspec": {
   "display_name": "Python 3 (ipykernel)",
   "language": "python",
   "name": "python3"
  }
 },
 "nbformat": 4,
 "nbformat_minor": 5
}
