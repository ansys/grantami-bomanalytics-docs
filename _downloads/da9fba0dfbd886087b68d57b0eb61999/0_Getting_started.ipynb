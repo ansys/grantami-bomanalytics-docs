{
 "cells": [
  {
   "cell_type": "markdown",
   "id": "c6b380c7",
   "metadata": {},
   "source": [
    "# Getting Started"
   ]
  },
  {
   "cell_type": "markdown",
   "id": "a269e8e0",
   "metadata": {},
   "source": [
    "## Introduction"
   ]
  },
  {
   "cell_type": "markdown",
   "id": "5026b0f7",
   "metadata": {},
   "source": [
    "This example describes how to connect to Granta MI and perform a basic query for impacted substances. It also\n",
    "demonstrates how to view logging messages returned by the Granta MI server. For more details about the results of the\n",
    "queries, see the examples in the [Impacted Substances](1_Impacted_Substances_Queries/index.rst) and\n",
    "[Compliance](2_Compliance_Queries/index.rst) sections."
   ]
  },
  {
   "cell_type": "markdown",
   "id": "f68089e1",
   "metadata": {},
   "source": [
    "## Connect to Granta MI"
   ]
  },
  {
   "cell_type": "markdown",
   "id": "08970842",
   "metadata": {},
   "source": [
    "First, use the ``ansys.grantami.bomanalytics.Connection`` class to connect to the Granta MI server. The ``Connection``\n",
    "class uses a fluent interface to build the connection, which is always invoked in the following sequence:\n",
    "\n",
    "1. Specify your Granta MI Service Layer URL as a parameter to the ``Connection`` class.\n",
    "2. Specify the authentication method using a ``Connection.with_...()`` method.\n",
    "3. Use the ``Connection.connect()`` method to finalize the connection. This returns a connection object, which is\n",
    "   called ``cxn`` in these examples."
   ]
  },
  {
   "cell_type": "code",
   "execution_count": null,
   "id": "44a60623",
   "metadata": {
    "tags": []
   },
   "outputs": [],
   "source": [
    "from ansys.grantami.bomanalytics import Connection\n",
    "\n",
    "server_url = \"http://my_grantami_server/mi_servicelayer\""
   ]
  },
  {
   "cell_type": "markdown",
   "id": "63de6f18",
   "metadata": {},
   "source": [
    "If you are running your Python script on Windows, you are generally able to use ``.with_autologon()``."
   ]
  },
  {
   "cell_type": "code",
   "execution_count": null,
   "id": "d170e5a3",
   "metadata": {
    "tags": []
   },
   "outputs": [],
   "source": [
    "cxn = Connection(server_url).with_autologon().connect()\n",
    "cxn"
   ]
  },
  {
   "cell_type": "markdown",
   "id": "3f6607ef",
   "metadata": {},
   "source": [
    "If the Python script is running on Linux without Kerberos enabled, or you wish to use an account other than your\n",
    "logged-in account, you can specify credentials explicitly."
   ]
  },
  {
   "cell_type": "code",
   "execution_count": null,
   "id": "09d2421a",
   "metadata": {
    "tags": []
   },
   "outputs": [],
   "source": [
    "cxn = Connection(server_url).with_credentials(\"my_username\", \"my_password\").connect()\n",
    "cxn"
   ]
  },
  {
   "cell_type": "markdown",
   "id": "520a792a",
   "metadata": {},
   "source": [
    "OIDC and anonymous authentication methods are also available, but are beyond the scope of this example. See\n",
    "the [ansys-openapi-common](https://github.com/pyansys/openapi-common) package documentation for more details."
   ]
  },
  {
   "cell_type": "markdown",
   "id": "add1b870",
   "metadata": {},
   "source": [
    "## Construct a Query"
   ]
  },
  {
   "cell_type": "markdown",
   "id": "757ba582",
   "metadata": {},
   "source": [
    "Queries are also constructed using a fluent interface. However, the ``Query`` constructor takes no arguments. All\n",
    "query details are specified using ``Query`` methods. To demonstrate this, we will build a query to\n",
    "determine all substances present in an ABS material that are impacted by the REACH Candidate List legislation."
   ]
  },
  {
   "cell_type": "markdown",
   "id": "f114d45f",
   "metadata": {},
   "source": [
    "First import the ``queries`` module and create a ``MaterialImpactedSubstancesQuery`` object."
   ]
  },
  {
   "cell_type": "code",
   "execution_count": null,
   "id": "2107f134",
   "metadata": {
    "tags": []
   },
   "outputs": [],
   "source": [
    "from ansys.grantami.bomanalytics import queries\n",
    "\n",
    "query = queries.MaterialImpactedSubstancesQuery()\n",
    "query"
   ]
  },
  {
   "cell_type": "markdown",
   "id": "2fbf08b2",
   "metadata": {},
   "source": [
    "Now add the material you want to query, by specifying its Material ID. (Alternate methods of specifying records\n",
    "are shown in other examples.)"
   ]
  },
  {
   "cell_type": "code",
   "execution_count": null,
   "id": "cf505de4",
   "metadata": {
    "tags": []
   },
   "outputs": [],
   "source": [
    "query = query.with_material_ids([\"plastic-abs-high-impact\"])\n",
    "query"
   ]
  },
  {
   "cell_type": "markdown",
   "id": "36407568",
   "metadata": {},
   "source": [
    "Note that because the ``MaterialImpactedSubstancesQuery`` object has a fluent interface, we receive the same object\n",
    "back that we started with, but with the Material IDs added.\n",
    "\n",
    "Finally, add the legislation to the query."
   ]
  },
  {
   "cell_type": "code",
   "execution_count": null,
   "id": "149dee99",
   "metadata": {
    "tags": []
   },
   "outputs": [],
   "source": [
    "query = query.with_legislations([\"REACH - The Candidate List\"])\n",
    "query"
   ]
  },
  {
   "cell_type": "markdown",
   "id": "ada53a43",
   "metadata": {},
   "source": [
    "Fluent interfaces are designed to allow a complex object to be constructed in a single line of code. As such, we can\n",
    "consolidate the cells above into a single step:"
   ]
  },
  {
   "cell_type": "code",
   "execution_count": null,
   "id": "7004802e",
   "metadata": {
    "tags": []
   },
   "outputs": [],
   "source": [
    "query = queries.MaterialImpactedSubstancesQuery().with_material_ids([\"plastic-abs-high-impact\"]).with_legislations([\"REACH - The Candidate List\"])  # noqa: E501\n",
    "query"
   ]
  },
  {
   "cell_type": "markdown",
   "id": "7a160754",
   "metadata": {},
   "source": [
    "Since the fluent interface can produce very long lines of code, it's necessary to break your query creation code into\n",
    "multiple lines. The following multi-line format is used throughout the examples, and is functionally equivalent to\n",
    "the cell above:"
   ]
  },
  {
   "cell_type": "code",
   "execution_count": null,
   "id": "0de7fd38",
   "metadata": {
    "tags": []
   },
   "outputs": [],
   "source": [
    "query = (\n",
    "    queries.MaterialImpactedSubstancesQuery()\n",
    "    .with_material_ids([\"plastic-abs-high-impact\"])\n",
    "    .with_legislations([\"REACH - The Candidate List\"])\n",
    ")\n",
    "query"
   ]
  },
  {
   "cell_type": "markdown",
   "id": "63ed66ad",
   "metadata": {},
   "source": [
    "The multi-line format is the recommended way of creating queries using this API."
   ]
  },
  {
   "cell_type": "markdown",
   "id": "a1b7f7ee",
   "metadata": {},
   "source": [
    "## Run a Query"
   ]
  },
  {
   "cell_type": "markdown",
   "id": "64d29b81",
   "metadata": {},
   "source": [
    "Now that we have our ``cxn`` and ``query`` objects, we can use the ``cxn.run()`` method to run the query. This returns\n",
    "an object that contains the results of the query."
   ]
  },
  {
   "cell_type": "code",
   "execution_count": null,
   "id": "316dc44b",
   "metadata": {
    "tags": []
   },
   "outputs": [],
   "source": [
    "result = cxn.run(query)\n",
    "result"
   ]
  },
  {
   "cell_type": "markdown",
   "id": "100383ee",
   "metadata": {},
   "source": [
    "## Query Results"
   ]
  },
  {
   "cell_type": "markdown",
   "id": "37b4a5b0",
   "metadata": {},
   "source": [
    "In the case of ``MaterialsImpactedSubstancesQuery``, the results object contains the list of substances present in\n",
    "the material that are impacted by the specified legislations."
   ]
  },
  {
   "cell_type": "code",
   "execution_count": null,
   "id": "476fd364",
   "metadata": {
    "tags": []
   },
   "outputs": [],
   "source": [
    "result.impacted_substances"
   ]
  },
  {
   "cell_type": "markdown",
   "id": "6fee53dd",
   "metadata": {},
   "source": [
    "## Logging"
   ]
  },
  {
   "cell_type": "markdown",
   "id": "57a7fc90",
   "metadata": {},
   "source": [
    "All query results also contain a list of messages returned by the server whilst running the query. These are\n",
    "sorted in order of decreasing severity. The same messages are also available in the MI Service Layer log file."
   ]
  },
  {
   "cell_type": "code",
   "execution_count": null,
   "id": "7e975ab1",
   "metadata": {
    "tags": []
   },
   "outputs": [],
   "source": [
    "result.messages"
   ]
  },
  {
   "cell_type": "markdown",
   "id": "ccec4dba",
   "metadata": {},
   "source": [
    "These messages are also available via the standard ``logging`` module using the ``ansys.grantami.bomanalytics``\n",
    "logger. Alternatively, you can omit the logger name to get the root logger, which will include messages logged by all\n",
    "packages.\n",
    "\n",
    "The code below creates a log handler that outputs all 'ansys.grantami.bomanalytics' logger messages with severity INFO\n",
    "and above to either the terminal or the notebook."
   ]
  },
  {
   "cell_type": "code",
   "execution_count": null,
   "id": "575f5e07",
   "metadata": {
    "tags": []
   },
   "outputs": [],
   "source": [
    "import logging\n",
    "\n",
    "logging.basicConfig(level=logging.INFO)\n",
    "logger = logging.getLogger(\"ansys.grantami.bomanalytics\")\n",
    "\n",
    "result = cxn.run(query)"
   ]
  }
 ],
 "metadata": {
  "jupytext": {
   "formats": "ipynb,py:light"
  },
  "kernelspec": {
   "display_name": "Python 3 (ipykernel)",
   "language": "python",
   "name": "python3"
  }
 },
 "nbformat": 4,
 "nbformat_minor": 5
}
