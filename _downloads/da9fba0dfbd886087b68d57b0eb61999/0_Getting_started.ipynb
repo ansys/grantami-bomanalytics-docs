{
 "cells": [
  {
   "cell_type": "markdown",
   "id": "7c6de093",
   "metadata": {},
   "source": [
    "# Getting Started"
   ]
  },
  {
   "cell_type": "markdown",
   "id": "f7ec4499",
   "metadata": {},
   "source": [
    "## Introduction"
   ]
  },
  {
   "cell_type": "markdown",
   "id": "a4302633",
   "metadata": {},
   "source": [
    "This example describes how to connect to Granta MI and perform a basic query for impacted substances. It also\n",
    "demonstrates how to view logging messages returned by the Granta MI server. For more details about the results of the\n",
    "queries, see the examples in the [Impacted Substances](1_Impacted_Substances_Queries/index.rst) and\n",
    "[Compliance](2_Compliance_Queries/index.rst) sections."
   ]
  },
  {
   "cell_type": "markdown",
   "id": "6ce54935",
   "metadata": {},
   "source": [
    "## Connect to Granta MI"
   ]
  },
  {
   "cell_type": "markdown",
   "id": "7746964a",
   "metadata": {},
   "source": [
    "First, use the ``ansys.grantami.bomanalytics.Connection`` class to connect to the Granta MI server. The ``Connection``\n",
    "class uses a fluent interface to build the connection, which is always invoked in the following sequence:\n",
    "\n",
    "1. Specify your Granta MI Service Layer URL as a parameter to the ``Connection`` class.\n",
    "2. Specify the authentication method using a ``Connection.with_...()`` method.\n",
    "3. Use the ``Connection.connect()`` method to finalize the connection. This returns a connection object, which is\n",
    "   called ``cxn`` in these examples."
   ]
  },
  {
   "cell_type": "code",
   "execution_count": null,
   "id": "fbe31d2a",
   "metadata": {
    "tags": []
   },
   "outputs": [],
   "source": [
    "from ansys.grantami.bomanalytics import Connection\n",
    "\n",
    "server_url = \"http://my_grantami_server/mi_servicelayer\""
   ]
  },
  {
   "cell_type": "markdown",
   "id": "2c886909",
   "metadata": {},
   "source": [
    "If you are running your Python script on Windows, you are generally able to use ``.with_autologon()``."
   ]
  },
  {
   "cell_type": "code",
   "execution_count": null,
   "id": "62e9616a",
   "metadata": {
    "tags": []
   },
   "outputs": [],
   "source": [
    "cxn = Connection(server_url).with_autologon().connect()\n",
    "cxn"
   ]
  },
  {
   "cell_type": "markdown",
   "id": "542e764f",
   "metadata": {},
   "source": [
    "If the Python script is running on Linux without Kerberos enabled, or you wish to use an account other than your\n",
    "logged-in account, you can specify credentials explicitly."
   ]
  },
  {
   "cell_type": "code",
   "execution_count": null,
   "id": "d4cfb7f8",
   "metadata": {
    "tags": []
   },
   "outputs": [],
   "source": [
    "cxn = Connection(server_url).with_credentials(\"my_username\", \"my_password\").connect()\n",
    "cxn"
   ]
  },
  {
   "cell_type": "markdown",
   "id": "cd9816f6",
   "metadata": {},
   "source": [
    "OIDC and anonymous authentication methods are also available, but are beyond the scope of this example. See\n",
    "the [ansys-openapi-common](https://github.com/pyansys/openapi-common) package documentation for more details."
   ]
  },
  {
   "cell_type": "markdown",
   "id": "9ec74a2d",
   "metadata": {},
   "source": [
    "## Construct a Query"
   ]
  },
  {
   "cell_type": "markdown",
   "id": "2e5c34c4",
   "metadata": {},
   "source": [
    "Queries are also constructed using a fluent interface. However, the ``Query`` constructor takes no arguments. All\n",
    "query details are specified using ``Query`` methods. To demonstrate this, we will build a query to\n",
    "determine all substances present in an ABS material that are impacted by the REACH Candidate List legislation."
   ]
  },
  {
   "cell_type": "markdown",
   "id": "c92d5480",
   "metadata": {},
   "source": [
    "First import the ``queries`` module and create a ``MaterialImpactedSubstancesQuery`` object."
   ]
  },
  {
   "cell_type": "code",
   "execution_count": null,
   "id": "0c532e65",
   "metadata": {
    "tags": []
   },
   "outputs": [],
   "source": [
    "from ansys.grantami.bomanalytics import queries\n",
    "\n",
    "query = queries.MaterialImpactedSubstancesQuery()\n",
    "query"
   ]
  },
  {
   "cell_type": "markdown",
   "id": "2d5a48cd",
   "metadata": {},
   "source": [
    "Now add the material you want to query, by specifying its Material ID. (Alternate methods of specifying records\n",
    "are shown in other examples.)"
   ]
  },
  {
   "cell_type": "code",
   "execution_count": null,
   "id": "5ca20d16",
   "metadata": {
    "tags": []
   },
   "outputs": [],
   "source": [
    "query = query.with_material_ids([\"plastic-abs-high-impact\"])\n",
    "query"
   ]
  },
  {
   "cell_type": "markdown",
   "id": "2504eee2",
   "metadata": {},
   "source": [
    "Note that because the ``MaterialImpactedSubstancesQuery`` object has a fluent interface, we receive the same object\n",
    "back that we started with, but with the Material IDs added.\n",
    "\n",
    "Finally, add the legislation to the query."
   ]
  },
  {
   "cell_type": "code",
   "execution_count": null,
   "id": "3cd7e32c",
   "metadata": {
    "tags": []
   },
   "outputs": [],
   "source": [
    "query = query.with_legislations([\"REACH - The Candidate List\"])\n",
    "query"
   ]
  },
  {
   "cell_type": "markdown",
   "id": "eccf7a86",
   "metadata": {},
   "source": [
    "Fluent interfaces are designed to allow a complex object to be constructed in a single line of code. As such, we can\n",
    "consolidate the cells above into a single step:"
   ]
  },
  {
   "cell_type": "code",
   "execution_count": null,
   "id": "4f9dc976",
   "metadata": {
    "tags": []
   },
   "outputs": [],
   "source": [
    "query = queries.MaterialImpactedSubstancesQuery().with_material_ids([\"plastic-abs-high-impact\"]).with_legislations([\"REACH - The Candidate List\"])  # noqa: E501\n",
    "query"
   ]
  },
  {
   "cell_type": "markdown",
   "id": "efb9632f",
   "metadata": {},
   "source": [
    "Since the fluent interface can produce very long lines of code, it's necessary to break your query creation code into\n",
    "multiple lines. The following multi-line format is used throughout the examples, and is functionally equivalent to\n",
    "the cell above:"
   ]
  },
  {
   "cell_type": "code",
   "execution_count": null,
   "id": "f50d1ff1",
   "metadata": {
    "tags": []
   },
   "outputs": [],
   "source": [
    "query = (\n",
    "    queries.MaterialImpactedSubstancesQuery()\n",
    "    .with_material_ids([\"plastic-abs-high-impact\"])\n",
    "    .with_legislations([\"REACH - The Candidate List\"])\n",
    ")\n",
    "query"
   ]
  },
  {
   "cell_type": "markdown",
   "id": "a50a1e68",
   "metadata": {},
   "source": [
    "The multi-line format is the recommended way of creating queries using this API."
   ]
  },
  {
   "cell_type": "markdown",
   "id": "e86f914d",
   "metadata": {},
   "source": [
    "## Run a Query"
   ]
  },
  {
   "cell_type": "markdown",
   "id": "6cc08f30",
   "metadata": {},
   "source": [
    "Now that we have our ``cxn`` and ``query`` objects, we can use the ``cxn.run()`` method to run the query. This returns\n",
    "an object that contains the results of the query."
   ]
  },
  {
   "cell_type": "code",
   "execution_count": null,
   "id": "57fcebd9",
   "metadata": {
    "tags": []
   },
   "outputs": [],
   "source": [
    "result = cxn.run(query)\n",
    "result"
   ]
  },
  {
   "cell_type": "markdown",
   "id": "6972bc69",
   "metadata": {},
   "source": [
    "## Query Results"
   ]
  },
  {
   "cell_type": "markdown",
   "id": "6fd265a1",
   "metadata": {},
   "source": [
    "In the case of ``MaterialsImpactedSubstancesQuery``, the results object contains the list of substances present in\n",
    "the material that are impacted by the specified legislations."
   ]
  },
  {
   "cell_type": "code",
   "execution_count": null,
   "id": "b15f31ed",
   "metadata": {
    "tags": []
   },
   "outputs": [],
   "source": [
    "result.impacted_substances"
   ]
  },
  {
   "cell_type": "markdown",
   "id": "8787ee7c",
   "metadata": {},
   "source": [
    "## Logging"
   ]
  },
  {
   "cell_type": "markdown",
   "id": "11dbbc1b",
   "metadata": {},
   "source": [
    "All query results also contain a list of messages returned by the server whilst running the query. These are\n",
    "sorted in order of decreasing severity. The same messages are also available in the MI Service Layer log file."
   ]
  },
  {
   "cell_type": "code",
   "execution_count": null,
   "id": "12fc1c41",
   "metadata": {
    "tags": []
   },
   "outputs": [],
   "source": [
    "result.messages"
   ]
  },
  {
   "cell_type": "markdown",
   "id": "8326d495",
   "metadata": {},
   "source": [
    "These messages are also available via the standard ``logging`` module using the ``ansys.grantami.bomanalytics``\n",
    "logger. Alternatively, you can omit the logger name to get the root logger, which will include messages logged by all\n",
    "packages.\n",
    "\n",
    "The code below creates a log handler that outputs all 'ansys.grantami.bomanalytics' logger messages with severity INFO\n",
    "and above to either the terminal or the notebook."
   ]
  },
  {
   "cell_type": "code",
   "execution_count": null,
   "id": "f4458f13",
   "metadata": {
    "tags": []
   },
   "outputs": [],
   "source": [
    "import logging\n",
    "\n",
    "logging.basicConfig(level=logging.INFO)\n",
    "logger = logging.getLogger(\"ansys.grantami.bomanalytics\")\n",
    "\n",
    "result = cxn.run(query)"
   ]
  }
 ],
 "metadata": {
  "jupytext": {
   "formats": "ipynb,py:light"
  },
  "kernelspec": {
   "display_name": "Python 3 (ipykernel)",
   "language": "python",
   "name": "python3"
  }
 },
 "nbformat": 4,
 "nbformat_minor": 5
}
