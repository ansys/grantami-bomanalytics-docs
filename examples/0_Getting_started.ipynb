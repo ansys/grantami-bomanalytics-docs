{
 "cells": [
  {
   "cell_type": "markdown",
   "id": "400771dc",
   "metadata": {},
   "source": [
    "# Getting Started"
   ]
  },
  {
   "cell_type": "markdown",
   "id": "093e539b",
   "metadata": {},
   "source": [
    "## Introduction"
   ]
  },
  {
   "cell_type": "markdown",
   "id": "697a7b79",
   "metadata": {},
   "source": [
    "This example describes how to connect to Granta MI and perform a basic query for impacted substances. It also\n",
    "demonstrates how to view logging messages returned by the Granta MI server. For more details about the results of the\n",
    "queries, see the examples in the [Impacted Substances](1_Impacted_Substances_Queries/index.rst) and\n",
    "[Compliance](2_Compliance_Queries/index.rst) sections."
   ]
  },
  {
   "cell_type": "markdown",
   "id": "6e766c86",
   "metadata": {},
   "source": [
    "## Connect to Granta MI"
   ]
  },
  {
   "cell_type": "markdown",
   "id": "77bedb84",
   "metadata": {},
   "source": [
    "First, use the ``ansys.grantami.bomanalytics.Connection`` class to connect to the Granta MI server. The ``Connection``\n",
    "class uses a fluent interface to build the connection, which is always invoked in the following sequence:\n",
    "\n",
    "1. Specify your Granta MI Service Layer URL as a parameter to the ``Connection`` class.\n",
    "2. Specify the authentication method using a ``Connection.with_...()`` method.\n",
    "3. Use the ``Connection.connect()`` method to finalize the connection. This returns a connection object, which is\n",
    "   called ``cxn`` in these examples."
   ]
  },
  {
   "cell_type": "code",
   "execution_count": 1,
   "id": "aaf6de33",
   "metadata": {
    "execution": {
     "iopub.execute_input": "2022-02-18T19:20:36.348970Z",
     "iopub.status.busy": "2022-02-18T19:20:36.348568Z",
     "iopub.status.idle": "2022-02-18T19:20:36.355852Z",
     "shell.execute_reply": "2022-02-18T19:20:36.354897Z"
    },
    "tags": []
   },
   "outputs": [],
   "source": [
    "from ansys.grantami.bomanalytics import Connection\n",
    "\n",
    "server_url = \"http://my_grantami_server/mi_servicelayer\""
   ]
  },
  {
   "cell_type": "markdown",
   "id": "52cc3768",
   "metadata": {},
   "source": [
    "If you are running your Python script on Windows, you are generally able to use ``.with_autologon()``."
   ]
  },
  {
   "cell_type": "code",
   "execution_count": 2,
   "id": "135c294f",
   "metadata": {
    "execution": {
     "iopub.execute_input": "2022-02-18T19:20:36.358457Z",
     "iopub.status.busy": "2022-02-18T19:20:36.358206Z",
     "iopub.status.idle": "2022-02-18T19:20:37.359343Z",
     "shell.execute_reply": "2022-02-18T19:20:37.358683Z"
    },
    "tags": []
   },
   "outputs": [
    {
     "data": {
      "text/plain": [
       "<BomServicesClient: url=\"http://my_grantami_server/mi_servicelayer\", dbkey=\"MI_Restricted_Substances\">"
      ]
     },
     "execution_count": 2,
     "metadata": {},
     "output_type": "execute_result"
    }
   ],
   "source": [
    "cxn = Connection(server_url).with_autologon().connect()\n",
    "cxn"
   ]
  },
  {
   "cell_type": "markdown",
   "id": "aeb0ff18",
   "metadata": {},
   "source": [
    "If the Python script is running on Linux without Kerberos enabled, or you wish to use an account other than your\n",
    "logged-in account, you can specify credentials explicitly."
   ]
  },
  {
   "cell_type": "code",
   "execution_count": 3,
   "id": "9923f025",
   "metadata": {
    "execution": {
     "iopub.execute_input": "2022-02-18T19:20:37.362544Z",
     "iopub.status.busy": "2022-02-18T19:20:37.362144Z",
     "iopub.status.idle": "2022-02-18T19:20:38.280065Z",
     "shell.execute_reply": "2022-02-18T19:20:38.279478Z"
    },
    "tags": []
   },
   "outputs": [
    {
     "data": {
      "text/plain": [
       "<BomServicesClient: url=\"http://my_grantami_server/mi_servicelayer\", dbkey=\"MI_Restricted_Substances\">"
      ]
     },
     "execution_count": 3,
     "metadata": {},
     "output_type": "execute_result"
    }
   ],
   "source": [
    "cxn = Connection(server_url).with_credentials(\"my_username\", \"my_password\").connect()\n",
    "cxn"
   ]
  },
  {
   "cell_type": "markdown",
   "id": "e4471f7b",
   "metadata": {},
   "source": [
    "OIDC and anonymous authentication methods are also available, but are beyond the scope of this example. See\n",
    "the [ansys-openapi-common](https://github.com/pyansys/openapi-common) package documentation for more details."
   ]
  },
  {
   "cell_type": "markdown",
   "id": "d76c5a38",
   "metadata": {},
   "source": [
    "## Construct a Query"
   ]
  },
  {
   "cell_type": "markdown",
   "id": "411f6fb0",
   "metadata": {},
   "source": [
    "Queries are also constructed using a fluent interface. However, the ``Query`` constructor takes no arguments. All\n",
    "query details are specified using ``Query`` methods. To demonstrate this, we will build a query to\n",
    "determine all substances present in an ABS material that are impacted by the REACH Candidate List legislation."
   ]
  },
  {
   "cell_type": "markdown",
   "id": "dee22075",
   "metadata": {},
   "source": [
    "First import the ``queries`` module and create a ``MaterialImpactedSubstancesQuery`` object."
   ]
  },
  {
   "cell_type": "code",
   "execution_count": 4,
   "id": "d6d9c9ee",
   "metadata": {
    "execution": {
     "iopub.execute_input": "2022-02-18T19:20:38.283493Z",
     "iopub.status.busy": "2022-02-18T19:20:38.283111Z",
     "iopub.status.idle": "2022-02-18T19:20:38.294520Z",
     "shell.execute_reply": "2022-02-18T19:20:38.293999Z"
    },
    "tags": []
   },
   "outputs": [
    {
     "data": {
      "text/plain": [
       "<MaterialImpactedSubstancesQuery: 0 materials, batch size = 100, 0 legislations>"
      ]
     },
     "execution_count": 4,
     "metadata": {},
     "output_type": "execute_result"
    }
   ],
   "source": [
    "from ansys.grantami.bomanalytics import queries\n",
    "\n",
    "query = queries.MaterialImpactedSubstancesQuery()\n",
    "query"
   ]
  },
  {
   "cell_type": "markdown",
   "id": "8ea175c5",
   "metadata": {},
   "source": [
    "Now add the material you want to query, by specifying its Material ID. (Alternate methods of specifying records\n",
    "are shown in other examples.)"
   ]
  },
  {
   "cell_type": "code",
   "execution_count": 5,
   "id": "09335b34",
   "metadata": {
    "execution": {
     "iopub.execute_input": "2022-02-18T19:20:38.296953Z",
     "iopub.status.busy": "2022-02-18T19:20:38.296695Z",
     "iopub.status.idle": "2022-02-18T19:20:38.300542Z",
     "shell.execute_reply": "2022-02-18T19:20:38.300057Z"
    },
    "tags": []
   },
   "outputs": [
    {
     "data": {
      "text/plain": [
       "<MaterialImpactedSubstancesQuery: 1 materials, batch size = 100, 0 legislations>"
      ]
     },
     "execution_count": 5,
     "metadata": {},
     "output_type": "execute_result"
    }
   ],
   "source": [
    "query = query.with_material_ids([\"plastic-abs-high-impact\"])\n",
    "query"
   ]
  },
  {
   "cell_type": "markdown",
   "id": "b1eb092d",
   "metadata": {},
   "source": [
    "Note that because the ``MaterialImpactedSubstancesQuery`` object has a fluent interface, we receive the same object\n",
    "back that we started with, but with the Material IDs added.\n",
    "\n",
    "Finally, add the legislation to the query."
   ]
  },
  {
   "cell_type": "code",
   "execution_count": 6,
   "id": "2b0bddcb",
   "metadata": {
    "execution": {
     "iopub.execute_input": "2022-02-18T19:20:38.303828Z",
     "iopub.status.busy": "2022-02-18T19:20:38.303438Z",
     "iopub.status.idle": "2022-02-18T19:20:38.307134Z",
     "shell.execute_reply": "2022-02-18T19:20:38.306611Z"
    },
    "tags": []
   },
   "outputs": [
    {
     "data": {
      "text/plain": [
       "<MaterialImpactedSubstancesQuery: 1 materials, batch size = 100, 1 legislations>"
      ]
     },
     "execution_count": 6,
     "metadata": {},
     "output_type": "execute_result"
    }
   ],
   "source": [
    "query = query.with_legislations([\"REACH - The Candidate List\"])\n",
    "query"
   ]
  },
  {
   "cell_type": "markdown",
   "id": "0806174b",
   "metadata": {},
   "source": [
    "Fluent interfaces are designed to allow a complex object to be constructed in a single line of code. As such, we can\n",
    "consolidate the cells above into a single step:"
   ]
  },
  {
   "cell_type": "code",
   "execution_count": 7,
   "id": "79276fa0",
   "metadata": {
    "execution": {
     "iopub.execute_input": "2022-02-18T19:20:38.310282Z",
     "iopub.status.busy": "2022-02-18T19:20:38.309892Z",
     "iopub.status.idle": "2022-02-18T19:20:38.313867Z",
     "shell.execute_reply": "2022-02-18T19:20:38.313354Z"
    },
    "tags": []
   },
   "outputs": [
    {
     "data": {
      "text/plain": [
       "<MaterialImpactedSubstancesQuery: 1 materials, batch size = 100, 1 legislations>"
      ]
     },
     "execution_count": 7,
     "metadata": {},
     "output_type": "execute_result"
    }
   ],
   "source": [
    "query = queries.MaterialImpactedSubstancesQuery().with_material_ids([\"plastic-abs-high-impact\"]).with_legislations([\"REACH - The Candidate List\"])  # noqa: E501\n",
    "query"
   ]
  },
  {
   "cell_type": "markdown",
   "id": "dcc2d786",
   "metadata": {},
   "source": [
    "Since the fluent interface can produce very long lines of code, it's necessary to break your query creation code into\n",
    "multiple lines. The following multi-line format is used throughout the examples, and is functionally equivalent to\n",
    "the cell above:"
   ]
  },
  {
   "cell_type": "code",
   "execution_count": 8,
   "id": "647554cb",
   "metadata": {
    "execution": {
     "iopub.execute_input": "2022-02-18T19:20:38.316938Z",
     "iopub.status.busy": "2022-02-18T19:20:38.316677Z",
     "iopub.status.idle": "2022-02-18T19:20:38.320720Z",
     "shell.execute_reply": "2022-02-18T19:20:38.320221Z"
    },
    "tags": []
   },
   "outputs": [
    {
     "data": {
      "text/plain": [
       "<MaterialImpactedSubstancesQuery: 1 materials, batch size = 100, 1 legislations>"
      ]
     },
     "execution_count": 8,
     "metadata": {},
     "output_type": "execute_result"
    }
   ],
   "source": [
    "query = (\n",
    "    queries.MaterialImpactedSubstancesQuery()\n",
    "    .with_material_ids([\"plastic-abs-high-impact\"])\n",
    "    .with_legislations([\"REACH - The Candidate List\"])\n",
    ")\n",
    "query"
   ]
  },
  {
   "cell_type": "markdown",
   "id": "0f53175f",
   "metadata": {},
   "source": [
    "The multi-line format is the recommended way of creating queries using this API."
   ]
  },
  {
   "cell_type": "markdown",
   "id": "7c9656f9",
   "metadata": {},
   "source": [
    "## Run a Query"
   ]
  },
  {
   "cell_type": "markdown",
   "id": "598b4297",
   "metadata": {},
   "source": [
    "Now that we have our ``cxn`` and ``query`` objects, we can use the ``cxn.run()`` method to run the query. This returns\n",
    "an object that contains the results of the query."
   ]
  },
  {
   "cell_type": "code",
   "execution_count": 9,
   "id": "6429ef01",
   "metadata": {
    "execution": {
     "iopub.execute_input": "2022-02-18T19:20:38.323712Z",
     "iopub.status.busy": "2022-02-18T19:20:38.323456Z",
     "iopub.status.idle": "2022-02-18T19:20:38.968306Z",
     "shell.execute_reply": "2022-02-18T19:20:38.967683Z"
    },
    "tags": []
   },
   "outputs": [
    {
     "data": {
      "text/plain": [
       "<MaterialImpactedSubstancesQueryResult: 1 MaterialWithImpactedSubstances results>"
      ]
     },
     "execution_count": 9,
     "metadata": {},
     "output_type": "execute_result"
    }
   ],
   "source": [
    "result = cxn.run(query)\n",
    "result"
   ]
  },
  {
   "cell_type": "markdown",
   "id": "c2ad0f7d",
   "metadata": {},
   "source": [
    "## Query Results"
   ]
  },
  {
   "cell_type": "markdown",
   "id": "d8776bcc",
   "metadata": {},
   "source": [
    "In the case of ``MaterialsImpactedSubstancesQuery``, the results object contains the list of substances present in\n",
    "the material that are impacted by the specified legislations."
   ]
  },
  {
   "cell_type": "code",
   "execution_count": 10,
   "id": "2f6ec9c8",
   "metadata": {
    "execution": {
     "iopub.execute_input": "2022-02-18T19:20:38.971667Z",
     "iopub.status.busy": "2022-02-18T19:20:38.971355Z",
     "iopub.status.idle": "2022-02-18T19:20:38.975528Z",
     "shell.execute_reply": "2022-02-18T19:20:38.975016Z"
    },
    "tags": []
   },
   "outputs": [
    {
     "data": {
      "text/plain": [
       "[<ImpactedSubstance: {\"cas_number\": \"15087-24-8\", \"percent_amount\": 2.0}>,\n",
       " <ImpactedSubstance: {\"cas_number\": \"25973-55-1\", \"percent_amount\": 2.0}>,\n",
       " <ImpactedSubstance: {\"cas_number\": \"36437-37-3\", \"percent_amount\": 2.0}>,\n",
       " <ImpactedSubstance: {\"cas_number\": \"3846-71-7\", \"percent_amount\": 2.0}>,\n",
       " <ImpactedSubstance: {\"cas_number\": \"3864-99-1\", \"percent_amount\": 2.0}>,\n",
       " <ImpactedSubstance: {\"cas_number\": \"872-50-4\", \"percent_amount\": None}>,\n",
       " <ImpactedSubstance: {\"cas_number\": \"90481-04-2\", \"percent_amount\": None}>]"
      ]
     },
     "execution_count": 10,
     "metadata": {},
     "output_type": "execute_result"
    }
   ],
   "source": [
    "result.impacted_substances"
   ]
  },
  {
   "cell_type": "markdown",
   "id": "42cd12fb",
   "metadata": {},
   "source": [
    "## Logging"
   ]
  },
  {
   "cell_type": "markdown",
   "id": "25deb035",
   "metadata": {},
   "source": [
    "All query results also contain a list of messages returned by the server whilst running the query. These are\n",
    "sorted in order of decreasing severity. The same messages are also available in the MI Service Layer log file."
   ]
  },
  {
   "cell_type": "code",
   "execution_count": 11,
   "id": "1a7da86c",
   "metadata": {
    "execution": {
     "iopub.execute_input": "2022-02-18T19:20:38.978754Z",
     "iopub.status.busy": "2022-02-18T19:20:38.978360Z",
     "iopub.status.idle": "2022-02-18T19:20:38.981834Z",
     "shell.execute_reply": "2022-02-18T19:20:38.981334Z"
    },
    "tags": []
   },
   "outputs": [
    {
     "data": {
      "text/plain": [
       "[]"
      ]
     },
     "execution_count": 11,
     "metadata": {},
     "output_type": "execute_result"
    }
   ],
   "source": [
    "result.messages"
   ]
  },
  {
   "cell_type": "markdown",
   "id": "bbb9246a",
   "metadata": {},
   "source": [
    "These messages are also available via the standard ``logging`` module using the ``ansys.grantami.bomanalytics``\n",
    "logger. Alternatively, you can omit the logger name to get the root logger, which will include messages logged by all\n",
    "packages.\n",
    "\n",
    "The code below creates a log handler that outputs all 'ansys.grantami.bomanalytics' logger messages with severity INFO\n",
    "and above to either the terminal or the notebook."
   ]
  },
  {
   "cell_type": "code",
   "execution_count": 12,
   "id": "c6300bfa",
   "metadata": {
    "execution": {
     "iopub.execute_input": "2022-02-18T19:20:38.985004Z",
     "iopub.status.busy": "2022-02-18T19:20:38.984536Z",
     "iopub.status.idle": "2022-02-18T19:20:39.635525Z",
     "shell.execute_reply": "2022-02-18T19:20:39.634302Z"
    },
    "tags": []
   },
   "outputs": [
    {
     "name": "stderr",
     "output_type": "stream",
     "text": [
      "INFO:ansys.grantami.bomanalytics:Running query <MaterialImpactedSubstancesQuery: 1 materials, batch size = 100, 1 legislations> with connection <BomServicesClient: url=\"http://my_grantami_server/mi_servicelayer\", dbkey=\"MI_Restricted_Substances\">\n"
     ]
    },
    {
     "name": "stderr",
     "output_type": "stream",
     "text": [
      "INFO:ansys.grantami.bomanalytics:Using default table config\n"
     ]
    },
    {
     "name": "stderr",
     "output_type": "stream",
     "text": [
      "INFO:ansys.grantami.bomanalytics:Using default database key (MI_Restricted_Substances)\n"
     ]
    }
   ],
   "source": [
    "import logging\n",
    "\n",
    "logging.basicConfig(level=logging.INFO)\n",
    "logger = logging.getLogger(\"ansys.grantami.bomanalytics\")\n",
    "\n",
    "result = cxn.run(query)"
   ]
  }
 ],
 "metadata": {
  "jupytext": {
   "formats": "ipynb,py:light"
  },
  "kernelspec": {
   "display_name": "Python 3 (ipykernel)",
   "language": "python",
   "name": "python3"
  },
  "language_info": {
   "codemirror_mode": {
    "name": "ipython",
    "version": 3
   },
   "file_extension": ".py",
   "mimetype": "text/x-python",
   "name": "python",
   "nbconvert_exporter": "python",
   "pygments_lexer": "ipython3",
   "version": "3.10.2"
  }
 },
 "nbformat": 4,
 "nbformat_minor": 5
}
