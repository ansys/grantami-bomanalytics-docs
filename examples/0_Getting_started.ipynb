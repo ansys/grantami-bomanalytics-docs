{
 "cells": [
  {
   "cell_type": "markdown",
   "id": "741ff83f",
   "metadata": {},
   "source": [
    "# [TECHDOCS]Getting Started"
   ]
  },
  {
   "cell_type": "markdown",
   "id": "ce64e6ed",
   "metadata": {},
   "source": [
    "## Introduction"
   ]
  },
  {
   "cell_type": "markdown",
   "id": "a4b49d0c",
   "metadata": {},
   "source": [
    "This example describes how to connect to Granta MI and perform a basic Impacted Substances query. It also describes\n",
    "how to view logging messages returned by the Granta MI server. It does not go into detail about the results of the\n",
    "queries, please see the other examples for further detail in this area."
   ]
  },
  {
   "cell_type": "markdown",
   "id": "5cc7dfc8",
   "metadata": {},
   "source": [
    "## Connect to Granta MI"
   ]
  },
  {
   "cell_type": "markdown",
   "id": "bec09bdd",
   "metadata": {},
   "source": [
    "The first step is to connect to the Granta MI server. Use the `ansys.grantami.bomanalytics.Connection` class to create\n",
    "a connection. The `Connection` class uses a fluent interface to build the connection which is always invoked in the\n",
    "following sequence:\n",
    "\n",
    "1. Specify the Granta MI Service Layer URL as a parameter to the `Connection` class\n",
    "2. Specify the authentication method using one of the `Connection.with_...()` methods\n",
    "3. Use the `Connection.connect()` method to finalize the connection. This returns a connection object which is called\n",
    "   `cxn` in these examples."
   ]
  },
  {
   "cell_type": "code",
   "execution_count": 1,
   "id": "027d475b",
   "metadata": {
    "execution": {
     "iopub.execute_input": "2022-01-19T18:13:47.733801Z",
     "iopub.status.busy": "2022-01-19T18:13:47.732591Z",
     "iopub.status.idle": "2022-01-19T18:13:47.734571Z",
     "shell.execute_reply": "2022-01-19T18:13:47.734943Z"
    },
    "tags": []
   },
   "outputs": [],
   "source": [
    "from ansys.grantami.bomanalytics import Connection\n",
    "\n",
    "server_url = \"http://my_grantami_server/mi_servicelayer\""
   ]
  },
  {
   "cell_type": "markdown",
   "id": "e718c0e6",
   "metadata": {},
   "source": [
    "If the Python script is running on Windows, in most cases you will be able to use the `.with_autologon()`."
   ]
  },
  {
   "cell_type": "code",
   "execution_count": 2,
   "id": "3d7b68e8",
   "metadata": {
    "execution": {
     "iopub.execute_input": "2022-01-19T18:13:47.740499Z",
     "iopub.status.busy": "2022-01-19T18:13:47.738400Z",
     "iopub.status.idle": "2022-01-19T18:13:48.782399Z",
     "shell.execute_reply": "2022-01-19T18:13:48.782961Z"
    },
    "tags": []
   },
   "outputs": [
    {
     "data": {
      "text/plain": [
       "<BomServicesClient: url=\"http://my_grantami_server/mi_servicelayer\", dbkey=\"MI_Restricted_Substances\">"
      ]
     },
     "execution_count": 2,
     "metadata": {},
     "output_type": "execute_result"
    }
   ],
   "source": [
    "cxn = Connection(server_url).with_autologon().connect()\n",
    "cxn"
   ]
  },
  {
   "cell_type": "markdown",
   "id": "83a36b8e",
   "metadata": {},
   "source": [
    "If the Python script is running on Linux without Kerberos enabled, or you wish to use an account other than your\n",
    "logged-in account, you can specify credentials explicitly."
   ]
  },
  {
   "cell_type": "code",
   "execution_count": 3,
   "id": "d88fa94c",
   "metadata": {
    "execution": {
     "iopub.execute_input": "2022-01-19T18:13:48.796185Z",
     "iopub.status.busy": "2022-01-19T18:13:48.789799Z",
     "iopub.status.idle": "2022-01-19T18:13:49.717054Z",
     "shell.execute_reply": "2022-01-19T18:13:49.717430Z"
    },
    "tags": []
   },
   "outputs": [
    {
     "data": {
      "text/plain": [
       "<BomServicesClient: url=\"http://my_grantami_server/mi_servicelayer\", dbkey=\"MI_Restricted_Substances\">"
      ]
     },
     "execution_count": 3,
     "metadata": {},
     "output_type": "execute_result"
    }
   ],
   "source": [
    "cxn = Connection(server_url).with_credentials(\"my_username\", \"my_password\").connect()\n",
    "cxn"
   ]
  },
  {
   "cell_type": "markdown",
   "id": "2fa05e1b",
   "metadata": {},
   "source": [
    "OIDC and anonymous authentication methods are also available, but these are beyond the scope of this example. See\n",
    "the documentation for the `ansys-openapi-common` package for more details."
   ]
  },
  {
   "cell_type": "markdown",
   "id": "4e27d9f9",
   "metadata": {},
   "source": [
    "## Construct a Query"
   ]
  },
  {
   "cell_type": "markdown",
   "id": "3e0035e1",
   "metadata": {},
   "source": [
    "Queries are also constructed using a fluent interface. However, the `Query` constructor takes no arguments; all the\n",
    "details of the query are specified on `Query` methods.  To demonstrate this, we will aim to build a query that\n",
    "determines the substances present in an ABS material that are impacted by the REACH Candidate List legislation."
   ]
  },
  {
   "cell_type": "markdown",
   "id": "530a623b",
   "metadata": {},
   "source": [
    "First import the `queries` module and create a `MaterialImpactedSubstancesQuery` object."
   ]
  },
  {
   "cell_type": "code",
   "execution_count": 4,
   "id": "6049abcb",
   "metadata": {
    "execution": {
     "iopub.execute_input": "2022-01-19T18:13:49.721157Z",
     "iopub.status.busy": "2022-01-19T18:13:49.720691Z",
     "iopub.status.idle": "2022-01-19T18:13:49.731257Z",
     "shell.execute_reply": "2022-01-19T18:13:49.731638Z"
    },
    "tags": []
   },
   "outputs": [
    {
     "data": {
      "text/plain": [
       "<MaterialImpactedSubstancesQuery: 0 materials, batch size = 100, 0 legislations>"
      ]
     },
     "execution_count": 4,
     "metadata": {},
     "output_type": "execute_result"
    }
   ],
   "source": [
    "from ansys.grantami.bomanalytics import queries\n",
    "\n",
    "query = queries.MaterialImpactedSubstancesQuery()\n",
    "query"
   ]
  },
  {
   "cell_type": "markdown",
   "id": "15fdc2d1",
   "metadata": {},
   "source": [
    "Now add the material that we wish to query by specifying its material ID. Note: other methods of specifying records\n",
    "are available; these are discussed in other examples."
   ]
  },
  {
   "cell_type": "code",
   "execution_count": 5,
   "id": "bed82507",
   "metadata": {
    "execution": {
     "iopub.execute_input": "2022-01-19T18:13:49.736837Z",
     "iopub.status.busy": "2022-01-19T18:13:49.736143Z",
     "iopub.status.idle": "2022-01-19T18:13:49.738487Z",
     "shell.execute_reply": "2022-01-19T18:13:49.738854Z"
    },
    "tags": []
   },
   "outputs": [
    {
     "data": {
      "text/plain": [
       "<MaterialImpactedSubstancesQuery: 1 materials, batch size = 100, 0 legislations>"
      ]
     },
     "execution_count": 5,
     "metadata": {},
     "output_type": "execute_result"
    }
   ],
   "source": [
    "query = query.with_material_ids([\"plastic-abs-high-impact\"])\n",
    "query"
   ]
  },
  {
   "cell_type": "markdown",
   "id": "51ecd187",
   "metadata": {},
   "source": [
    "Note that because the `MaterialImpactedSubstancesQuery` object has a fluent interface, we receive the same object back\n",
    "that we started with, just with the Material IDs added. Finally, add the legislation to the query."
   ]
  },
  {
   "cell_type": "code",
   "execution_count": 6,
   "id": "262f5048",
   "metadata": {
    "execution": {
     "iopub.execute_input": "2022-01-19T18:13:49.743707Z",
     "iopub.status.busy": "2022-01-19T18:13:49.743218Z",
     "iopub.status.idle": "2022-01-19T18:13:49.745532Z",
     "shell.execute_reply": "2022-01-19T18:13:49.745897Z"
    },
    "tags": []
   },
   "outputs": [
    {
     "data": {
      "text/plain": [
       "<MaterialImpactedSubstancesQuery: 1 materials, batch size = 100, 1 legislations>"
      ]
     },
     "execution_count": 6,
     "metadata": {},
     "output_type": "execute_result"
    }
   ],
   "source": [
    "query = query.with_legislations([\"REACH - The Candidate List\"])\n",
    "query"
   ]
  },
  {
   "cell_type": "markdown",
   "id": "3bc01dd3",
   "metadata": {},
   "source": [
    "However, fluent interfaces are intended to allow a complex object to be constructed in a single line of code. We can\n",
    "consolidate the above cells to create the object in a single step:"
   ]
  },
  {
   "cell_type": "code",
   "execution_count": 7,
   "id": "a9196f17",
   "metadata": {
    "execution": {
     "iopub.execute_input": "2022-01-19T18:13:49.750774Z",
     "iopub.status.busy": "2022-01-19T18:13:49.750305Z",
     "iopub.status.idle": "2022-01-19T18:13:49.752640Z",
     "shell.execute_reply": "2022-01-19T18:13:49.753030Z"
    },
    "tags": []
   },
   "outputs": [
    {
     "data": {
      "text/plain": [
       "<MaterialImpactedSubstancesQuery: 1 materials, batch size = 100, 1 legislations>"
      ]
     },
     "execution_count": 7,
     "metadata": {},
     "output_type": "execute_result"
    }
   ],
   "source": [
    "query = queries.MaterialImpactedSubstancesQuery().with_material_ids([\"plastic-abs-high-impact\"]).with_legislations([\"REACH - The Candidate List\"])  # noqa: E501\n",
    "query"
   ]
  },
  {
   "cell_type": "markdown",
   "id": "82c48005",
   "metadata": {},
   "source": [
    "Since the fluent interface can produce very long lines of code, it is required to break the query creation into\n",
    "multiple lines. The following multi-line format is used throughout the examples, and is functionally equivalent to\n",
    "the cell above."
   ]
  },
  {
   "cell_type": "code",
   "execution_count": 8,
   "id": "a7554753",
   "metadata": {
    "execution": {
     "iopub.execute_input": "2022-01-19T18:13:49.758180Z",
     "iopub.status.busy": "2022-01-19T18:13:49.757709Z",
     "iopub.status.idle": "2022-01-19T18:13:49.759994Z",
     "shell.execute_reply": "2022-01-19T18:13:49.760379Z"
    },
    "tags": []
   },
   "outputs": [
    {
     "data": {
      "text/plain": [
       "<MaterialImpactedSubstancesQuery: 1 materials, batch size = 100, 1 legislations>"
      ]
     },
     "execution_count": 8,
     "metadata": {},
     "output_type": "execute_result"
    }
   ],
   "source": [
    "query = (\n",
    "    queries.MaterialImpactedSubstancesQuery()\n",
    "    .with_material_ids([\"plastic-abs-high-impact\"])\n",
    "    .with_legislations([\"REACH - The Candidate List\"])\n",
    ")\n",
    "query"
   ]
  },
  {
   "cell_type": "markdown",
   "id": "375fe91b",
   "metadata": {},
   "source": [
    "The cell above is the recommended way of creating queries using this API."
   ]
  },
  {
   "cell_type": "markdown",
   "id": "549e2818",
   "metadata": {},
   "source": [
    "## Run a Query"
   ]
  },
  {
   "cell_type": "markdown",
   "id": "e4494d1a",
   "metadata": {},
   "source": [
    "Now we have our `cxn` and `query` objects, we can use the `cxn.run()` method to run the query. This returns an object\n",
    "that contains the results of the query."
   ]
  },
  {
   "cell_type": "code",
   "execution_count": 9,
   "id": "9138cd73",
   "metadata": {
    "execution": {
     "iopub.execute_input": "2022-01-19T18:13:49.765410Z",
     "iopub.status.busy": "2022-01-19T18:13:49.764965Z",
     "iopub.status.idle": "2022-01-19T18:13:50.357561Z",
     "shell.execute_reply": "2022-01-19T18:13:50.357989Z"
    },
    "tags": []
   },
   "outputs": [
    {
     "data": {
      "text/plain": [
       "<MaterialImpactedSubstancesQueryResult: 1 MaterialWithImpactedSubstances results>"
      ]
     },
     "execution_count": 9,
     "metadata": {},
     "output_type": "execute_result"
    }
   ],
   "source": [
    "result = cxn.run(query)\n",
    "result"
   ]
  },
  {
   "cell_type": "markdown",
   "id": "ae4c7dc6",
   "metadata": {},
   "source": [
    "## Query Results"
   ]
  },
  {
   "cell_type": "markdown",
   "id": "a2030706",
   "metadata": {},
   "source": [
    "In the case of an `MaterialsImpactedSubstancesQuery`, the results object contains the list of substances present in\n",
    "the material that are impacted by the specified legislations."
   ]
  },
  {
   "cell_type": "code",
   "execution_count": 10,
   "id": "74e7d228",
   "metadata": {
    "execution": {
     "iopub.execute_input": "2022-01-19T18:13:50.364141Z",
     "iopub.status.busy": "2022-01-19T18:13:50.363315Z",
     "iopub.status.idle": "2022-01-19T18:13:50.365705Z",
     "shell.execute_reply": "2022-01-19T18:13:50.366069Z"
    },
    "tags": []
   },
   "outputs": [
    {
     "data": {
      "text/plain": [
       "[<ImpactedSubstance: {\"cas_number\": \"15087-24-8\", \"percent_amount\": 2.0}>,\n",
       " <ImpactedSubstance: {\"cas_number\": \"25973-55-1\", \"percent_amount\": 2.0}>,\n",
       " <ImpactedSubstance: {\"cas_number\": \"36437-37-3\", \"percent_amount\": 2.0}>,\n",
       " <ImpactedSubstance: {\"cas_number\": \"3846-71-7\", \"percent_amount\": 2.0}>,\n",
       " <ImpactedSubstance: {\"cas_number\": \"3864-99-1\", \"percent_amount\": 2.0}>,\n",
       " <ImpactedSubstance: {\"cas_number\": \"872-50-4\", \"percent_amount\": None}>,\n",
       " <ImpactedSubstance: {\"cas_number\": \"90481-04-2\", \"percent_amount\": None}>]"
      ]
     },
     "execution_count": 10,
     "metadata": {},
     "output_type": "execute_result"
    }
   ],
   "source": [
    "result.impacted_substances"
   ]
  },
  {
   "cell_type": "markdown",
   "id": "e84b76bd",
   "metadata": {},
   "source": [
    "## Logging"
   ]
  },
  {
   "cell_type": "markdown",
   "id": "83496663",
   "metadata": {},
   "source": [
    "All query results contain a list of messages that were returned by the server when running the query. These are\n",
    "sorted in order of decreasing severity. The same messages are also available in the Service Layer log file."
   ]
  },
  {
   "cell_type": "code",
   "execution_count": 11,
   "id": "74230cab",
   "metadata": {
    "execution": {
     "iopub.execute_input": "2022-01-19T18:13:50.370651Z",
     "iopub.status.busy": "2022-01-19T18:13:50.370190Z",
     "iopub.status.idle": "2022-01-19T18:13:50.372472Z",
     "shell.execute_reply": "2022-01-19T18:13:50.372864Z"
    },
    "tags": []
   },
   "outputs": [
    {
     "data": {
      "text/plain": [
       "[]"
      ]
     },
     "execution_count": 11,
     "metadata": {},
     "output_type": "execute_result"
    }
   ],
   "source": [
    "result.messages"
   ]
  },
  {
   "cell_type": "markdown",
   "id": "1307a904",
   "metadata": {},
   "source": [
    "These messages are also available via the standard `logging` module using the 'ansys.grantami.bomanalytics' logger.\n",
    "Alternatively, omit the logger name to get the root logger, which will include messages logged by all packages.\n",
    "The code below creates a log handler that outputs all bomanalytics messages with severity INFO and above to either the\n",
    "terminal or the notebook."
   ]
  },
  {
   "cell_type": "code",
   "execution_count": 12,
   "id": "4154c40d",
   "metadata": {
    "execution": {
     "iopub.execute_input": "2022-01-19T18:13:50.377917Z",
     "iopub.status.busy": "2022-01-19T18:13:50.377453Z",
     "iopub.status.idle": "2022-01-19T18:13:50.973845Z",
     "shell.execute_reply": "2022-01-19T18:13:50.973340Z"
    },
    "tags": []
   },
   "outputs": [
    {
     "name": "stderr",
     "output_type": "stream",
     "text": [
      "INFO:ansys.grantami.bomanalytics:Running query <MaterialImpactedSubstancesQuery: 1 materials, batch size = 100, 1 legislations> with connection <BomServicesClient: url=\"http://my_grantami_server/mi_servicelayer\", dbkey=\"MI_Restricted_Substances\">\n"
     ]
    },
    {
     "name": "stderr",
     "output_type": "stream",
     "text": [
      "INFO:ansys.grantami.bomanalytics:Using default table config\n"
     ]
    },
    {
     "name": "stderr",
     "output_type": "stream",
     "text": [
      "INFO:ansys.grantami.bomanalytics:Using default database key (MI_Restricted_Substances)\n"
     ]
    }
   ],
   "source": [
    "import logging\n",
    "\n",
    "logging.basicConfig(level=logging.INFO)\n",
    "logger = logging.getLogger(\"ansys.grantami.bomanalytics\")\n",
    "\n",
    "result = cxn.run(query)"
   ]
  }
 ],
 "metadata": {
  "jupytext": {
   "formats": "ipynb,py:light"
  },
  "kernelspec": {
   "display_name": "Python 3 (ipykernel)",
   "language": "python",
   "name": "python3"
  },
  "language_info": {
   "codemirror_mode": {
    "name": "ipython",
    "version": 3
   },
   "file_extension": ".py",
   "mimetype": "text/x-python",
   "name": "python",
   "nbconvert_exporter": "python",
   "pygments_lexer": "ipython3",
   "version": "3.10.1"
  }
 },
 "nbformat": 4,
 "nbformat_minor": 5
}
