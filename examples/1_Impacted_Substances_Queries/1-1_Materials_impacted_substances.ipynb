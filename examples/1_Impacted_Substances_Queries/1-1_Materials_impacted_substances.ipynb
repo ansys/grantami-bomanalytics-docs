{
 "cells": [
  {
   "cell_type": "markdown",
   "id": "60dc4040",
   "metadata": {},
   "source": [
    "# Perform a material impacted substances query"
   ]
  },
  {
   "cell_type": "markdown",
   "id": "601e77ea",
   "metadata": {},
   "source": [
    "A Material Impacted Substances Query is used to identify the substances associated with a material that are impacted\n",
    "by one or more defined legislations."
   ]
  },
  {
   "cell_type": "markdown",
   "id": "f9692712",
   "metadata": {},
   "source": [
    "This example shows how to perform an Impacted Substance query on material records, and how to process the results."
   ]
  },
  {
   "cell_type": "markdown",
   "id": "161f5ec5",
   "metadata": {},
   "source": [
    "## Connecting to Granta MI"
   ]
  },
  {
   "cell_type": "markdown",
   "id": "ac986f4e",
   "metadata": {},
   "source": [
    "Import the ``Connection`` class and create the connection. See the [Getting Started](../0_Getting_started.ipynb)\n",
    "example for more detail."
   ]
  },
  {
   "cell_type": "code",
   "execution_count": 1,
   "id": "298908b4",
   "metadata": {
    "execution": {
     "iopub.execute_input": "2022-12-21T22:35:47.322011Z",
     "iopub.status.busy": "2022-12-21T22:35:47.321574Z",
     "iopub.status.idle": "2022-12-21T22:35:49.025972Z",
     "shell.execute_reply": "2022-12-21T22:35:49.024885Z"
    },
    "tags": []
   },
   "outputs": [],
   "source": [
    "from ansys.grantami.bomanalytics import Connection\n",
    "\n",
    "server_url = \"http://my_grantami_server/mi_servicelayer\"\n",
    "cxn = Connection(server_url).with_credentials(\"user_name\", \"password\").connect()"
   ]
  },
  {
   "cell_type": "markdown",
   "id": "059f5bb5",
   "metadata": {},
   "source": [
    "## Building and running the query"
   ]
  },
  {
   "cell_type": "markdown",
   "id": "a584ac57",
   "metadata": {},
   "source": [
    "The query is assembled by providing lists of material references and legislations of interest. The query will return\n",
    "the substances that are present in the specified materials and are impacted by the specified legislations."
   ]
  },
  {
   "cell_type": "markdown",
   "id": "b3738fb2",
   "metadata": {},
   "source": [
    "First specify some constants that contain the material and legislation references we will use."
   ]
  },
  {
   "cell_type": "code",
   "execution_count": 2,
   "id": "dcfd4650",
   "metadata": {
    "execution": {
     "iopub.execute_input": "2022-12-21T22:35:49.032912Z",
     "iopub.status.busy": "2022-12-21T22:35:49.031270Z",
     "iopub.status.idle": "2022-12-21T22:35:49.036556Z",
     "shell.execute_reply": "2022-12-21T22:35:49.035799Z"
    },
    "tags": []
   },
   "outputs": [],
   "source": [
    "PPS_ID = \"plastic-pps-generalpurpose\"\n",
    "PC_ID = \"plastic-pc-20carbonfiber\"\n",
    "SIN_LIST = \"The SIN List 2.1 (Substitute It Now!)\"\n",
    "REACH = \"REACH - The Candidate List\""
   ]
  },
  {
   "cell_type": "markdown",
   "id": "54fd1ee5",
   "metadata": {},
   "source": [
    "Next import the ``queries`` module and build the query with the references in the previous cell."
   ]
  },
  {
   "cell_type": "code",
   "execution_count": 3,
   "id": "5a476619",
   "metadata": {
    "execution": {
     "iopub.execute_input": "2022-12-21T22:35:49.041001Z",
     "iopub.status.busy": "2022-12-21T22:35:49.040498Z",
     "iopub.status.idle": "2022-12-21T22:35:49.045551Z",
     "shell.execute_reply": "2022-12-21T22:35:49.044706Z"
    },
    "tags": []
   },
   "outputs": [],
   "source": [
    "from ansys.grantami.bomanalytics import queries\n",
    "\n",
    "mat_query = (\n",
    "    queries.MaterialImpactedSubstancesQuery()\n",
    "    .with_material_ids([PPS_ID, PC_ID])\n",
    "    .with_legislations([REACH, SIN_LIST])\n",
    ")"
   ]
  },
  {
   "cell_type": "markdown",
   "id": "fc2395e6",
   "metadata": {},
   "source": [
    "Finally, run the query. Passing a ``MaterialImpactedSubstancesQuery`` object to the ``Connection.run()`` method\n",
    "returns a ``MaterialImpactedSubstancesQueryResult`` object."
   ]
  },
  {
   "cell_type": "code",
   "execution_count": 4,
   "id": "3e70c851",
   "metadata": {
    "execution": {
     "iopub.execute_input": "2022-12-21T22:35:49.049670Z",
     "iopub.status.busy": "2022-12-21T22:35:49.049411Z",
     "iopub.status.idle": "2022-12-21T22:35:49.699748Z",
     "shell.execute_reply": "2022-12-21T22:35:49.698894Z"
    },
    "tags": []
   },
   "outputs": [
    {
     "data": {
      "text/plain": [
       "<MaterialImpactedSubstancesQueryResult: 2 MaterialWithImpactedSubstances results>"
      ]
     },
     "execution_count": 4,
     "metadata": {},
     "output_type": "execute_result"
    }
   ],
   "source": [
    "results = cxn.run(mat_query)\n",
    "results"
   ]
  },
  {
   "cell_type": "markdown",
   "id": "f59d4cc8",
   "metadata": {},
   "source": [
    "A ``MaterialImpactedSubstancesQueryResult`` object contains three properties:\n",
    "``impacted_substances_by_material``, ``impacted_substances_by_legislation``, and ``impacted_substances``. They provide\n",
    "different views of the impacted substances at different levels of granularity."
   ]
  },
  {
   "cell_type": "markdown",
   "id": "536104de",
   "metadata": {},
   "source": [
    "## View results grouped by material"
   ]
  },
  {
   "cell_type": "markdown",
   "id": "ce285ab4",
   "metadata": {},
   "source": [
    "This property is structured first as a list of ``materialWithImpactedSubstancesResult`` objects, each of which\n",
    "contains a dictionary of lists of ``ImpactedSubstance`` objects keyed by legislation or a single flat list of all\n",
    "substances."
   ]
  },
  {
   "cell_type": "markdown",
   "id": "c7d43c03",
   "metadata": {},
   "source": [
    "First, we can simplify the structure somewhat because we are only using Material IDs. The cell below creates a\n",
    "dictionary that maps Material IDs to lists of substances impacted by the 'SIN List'."
   ]
  },
  {
   "cell_type": "code",
   "execution_count": 5,
   "id": "18ae4fa6",
   "metadata": {
    "execution": {
     "iopub.execute_input": "2022-12-21T22:35:49.704487Z",
     "iopub.status.busy": "2022-12-21T22:35:49.703813Z",
     "iopub.status.idle": "2022-12-21T22:35:49.708053Z",
     "shell.execute_reply": "2022-12-21T22:35:49.707309Z"
    },
    "tags": []
   },
   "outputs": [],
   "source": [
    "substances_by_material = {}\n",
    "for material in results.impacted_substances_by_material:\n",
    "    substances = material.substances_by_legislation[SIN_LIST]\n",
    "    substances_by_material[material.material_id] = substances"
   ]
  },
  {
   "cell_type": "markdown",
   "id": "f7e08b25",
   "metadata": {},
   "source": [
    "Then use the ``tabulate`` package to print a table of the substances and their quantities for the polycarbonate\n",
    "material only."
   ]
  },
  {
   "cell_type": "code",
   "execution_count": 6,
   "id": "f8ea0b5d",
   "metadata": {
    "execution": {
     "iopub.execute_input": "2022-12-21T22:35:49.712422Z",
     "iopub.status.busy": "2022-12-21T22:35:49.711791Z",
     "iopub.status.idle": "2022-12-21T22:35:49.722936Z",
     "shell.execute_reply": "2022-12-21T22:35:49.722145Z"
    },
    "tags": []
   },
   "outputs": [
    {
     "name": "stdout",
     "output_type": "stream",
     "text": [
      "Substances impacted by \"The SIN List 2.1 (Substitute It Now!)\" in \"plastic-pc-20carbonfiber\" (10/16)\n",
      "CAS Number      Amount (wt. %)\n",
      "------------  ----------------\n",
      "10124-36-4                 0.6\n",
      "10325-94-7                 0.6\n",
      "131-56-6                   1.6\n",
      "131-57-7                   1.6\n",
      "15087-24-8                 1.6\n",
      "21041-95-2                 0.6\n",
      "25973-55-1                 1.6\n",
      "31119-53-6                 0.6\n",
      "36437-37-3                 1.6\n",
      "36861-47-9                 1.6\n"
     ]
    }
   ],
   "source": [
    "from tabulate import tabulate\n",
    "\n",
    "rows = [(substance.cas_number, substance.max_percentage_amount_in_material)\n",
    "    for substance in substances_by_material[PC_ID]]\n",
    "\n",
    "print(f'Substances impacted by \"{SIN_LIST}\" in \"{PC_ID}\" (10/{len(rows)})')\n",
    "print(tabulate(rows[:10], headers=[\"CAS Number\", \"Amount (wt. %)\"]))"
   ]
  },
  {
   "cell_type": "markdown",
   "id": "b8ce5c5f",
   "metadata": {},
   "source": [
    "## View results grouped by legislation"
   ]
  },
  {
   "cell_type": "markdown",
   "id": "9ccf0639",
   "metadata": {},
   "source": [
    "This property merges the results across all materials, resulting in a single dictionary of legislations that contain\n",
    "all impacted substances for all materials."
   ]
  },
  {
   "cell_type": "markdown",
   "id": "bacc7094",
   "metadata": {},
   "source": [
    "Again we use the ``tabulate`` package to print a table of substances, but this time we are including the substances in\n",
    "all materials, but again limited to the SIN List only."
   ]
  },
  {
   "cell_type": "code",
   "execution_count": 7,
   "id": "1d36647c",
   "metadata": {
    "execution": {
     "iopub.execute_input": "2022-12-21T22:35:49.727212Z",
     "iopub.status.busy": "2022-12-21T22:35:49.726673Z",
     "iopub.status.idle": "2022-12-21T22:35:49.732544Z",
     "shell.execute_reply": "2022-12-21T22:35:49.731789Z"
    },
    "tags": []
   },
   "outputs": [
    {
     "name": "stdout",
     "output_type": "stream",
     "text": [
      "Substances impacted by \"The SIN List 2.1 (Substitute It Now!)\" in all materials (10/27)\n",
      "CAS Number      Amount (wt. %)\n",
      "------------  ----------------\n",
      "131-56-6                     2\n",
      "131-57-7                     2\n",
      "15087-24-8                   2\n",
      "25973-55-1                   2\n",
      "27193-28-8\n",
      "36437-37-3                   2\n",
      "36861-47-9                   2\n",
      "3846-71-7                    2\n",
      "3864-99-1                    2\n",
      "611-99-4                     2\n"
     ]
    }
   ],
   "source": [
    "material_substances_sin = results.impacted_substances_by_legislation[SIN_LIST]\n",
    "rows = [(substance.cas_number, substance.max_percentage_amount_in_material)\n",
    "    for substance in material_substances_sin]\n",
    "print(f'Substances impacted by \"{SIN_LIST}\" in all materials (10/{len(rows)})')\n",
    "print(tabulate(rows[:10], headers=[\"CAS Number\", \"Amount (wt. %)\"]))"
   ]
  },
  {
   "cell_type": "markdown",
   "id": "7509232e",
   "metadata": {},
   "source": [
    "## View results as a flat list"
   ]
  },
  {
   "cell_type": "markdown",
   "id": "ebe7e161",
   "metadata": {},
   "source": [
    "This property reduces the granularity further to produce a single flattened list of substances across all legislations\n",
    "for all materials."
   ]
  },
  {
   "cell_type": "markdown",
   "id": "3a6fc841",
   "metadata": {},
   "source": [
    "The cell below uses the ``tabulate`` package to print a table of substances. Because we are using the\n",
    "``impacted_substances`` property, we only have one list of ``ImpactedSubstance`` objects which covers both\n",
    "legislations and both materials."
   ]
  },
  {
   "cell_type": "code",
   "execution_count": 8,
   "id": "a79b7575",
   "metadata": {
    "execution": {
     "iopub.execute_input": "2022-12-21T22:35:49.738020Z",
     "iopub.status.busy": "2022-12-21T22:35:49.737492Z",
     "iopub.status.idle": "2022-12-21T22:35:49.743404Z",
     "shell.execute_reply": "2022-12-21T22:35:49.742610Z"
    },
    "tags": []
   },
   "outputs": [
    {
     "name": "stdout",
     "output_type": "stream",
     "text": [
      "Impacted substances for all materials and legislations (10/45)\n",
      "CAS Number      Amount (wt. %)\n",
      "------------  ----------------\n",
      "131-56-6                     2\n",
      "131-57-7                     2\n",
      "15087-24-8                   2\n",
      "25973-55-1                   2\n",
      "27193-28-8\n",
      "36437-37-3                   2\n",
      "36861-47-9                   2\n",
      "3846-71-7                    2\n",
      "3864-99-1                    2\n",
      "611-99-4                     2\n"
     ]
    }
   ],
   "source": [
    "material_substances_all = results.impacted_substances\n",
    "rows = [(substance.cas_number, substance.max_percentage_amount_in_material)\n",
    "    for substance in material_substances_all]\n",
    "print(f\"Impacted substances for all materials and legislations (10/{len(rows)})\")\n",
    "print(tabulate(rows[:10], headers=[\"CAS Number\", \"Amount (wt. %)\"]))"
   ]
  }
 ],
 "metadata": {
  "jupytext": {
   "formats": "ipynb,py:light"
  },
  "kernelspec": {
   "display_name": "Python 3 (ipykernel)",
   "language": "python",
   "name": "python3"
  },
  "language_info": {
   "codemirror_mode": {
    "name": "ipython",
    "version": 3
   },
   "file_extension": ".py",
   "mimetype": "text/x-python",
   "name": "python",
   "nbconvert_exporter": "python",
   "pygments_lexer": "ipython3",
   "version": "3.9.16"
  }
 },
 "nbformat": 4,
 "nbformat_minor": 5
}
