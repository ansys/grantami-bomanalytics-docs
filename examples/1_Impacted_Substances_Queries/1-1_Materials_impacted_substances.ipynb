{
 "cells": [
  {
   "cell_type": "markdown",
   "id": "31bc6e62",
   "metadata": {},
   "source": [
    "# Performing a Material Impacted Substances Query"
   ]
  },
  {
   "cell_type": "markdown",
   "id": "052424d9",
   "metadata": {},
   "source": [
    "A Material Impacted Substances Query is used to identify the substances associated with a material that are impacted\n",
    "by one or more defined legislations."
   ]
  },
  {
   "cell_type": "markdown",
   "id": "6b4421a4",
   "metadata": {},
   "source": [
    "This example shows how to perform an Impacted Substance query on material records, and how to process the results."
   ]
  },
  {
   "cell_type": "markdown",
   "id": "5a49e95d",
   "metadata": {},
   "source": [
    "## Connecting to Granta MI"
   ]
  },
  {
   "cell_type": "markdown",
   "id": "32d68066",
   "metadata": {},
   "source": [
    "Import the ``Connection`` class and create the connection. See the [Getting Started](../0_Getting_started.ipynb)\n",
    "example for more detail."
   ]
  },
  {
   "cell_type": "code",
   "execution_count": 1,
   "id": "a798a0bf",
   "metadata": {
    "execution": {
     "iopub.execute_input": "2022-02-10T14:43:57.186996Z",
     "iopub.status.busy": "2022-02-10T14:43:57.186385Z",
     "iopub.status.idle": "2022-02-10T14:43:58.130766Z",
     "shell.execute_reply": "2022-02-10T14:43:58.130185Z"
    },
    "tags": []
   },
   "outputs": [],
   "source": [
    "from ansys.grantami.bomanalytics import Connection\n",
    "\n",
    "server_url = \"http://my_grantami_server/mi_servicelayer\"\n",
    "cxn = Connection(server_url).with_credentials(\"user_name\", \"password\").connect()"
   ]
  },
  {
   "cell_type": "markdown",
   "id": "7dfaa61f",
   "metadata": {},
   "source": [
    "## Building and Running the Query"
   ]
  },
  {
   "cell_type": "markdown",
   "id": "60a34b6d",
   "metadata": {},
   "source": [
    "The query is assembled by providing lists of material references and legislations of interest. The query will return\n",
    "the substances that are present in the specified materials and are impacted by the specified legislations."
   ]
  },
  {
   "cell_type": "markdown",
   "id": "fab2e041",
   "metadata": {},
   "source": [
    "First specify some constants that contain the material and legislation references we will use."
   ]
  },
  {
   "cell_type": "code",
   "execution_count": 2,
   "id": "b590bb58",
   "metadata": {
    "execution": {
     "iopub.execute_input": "2022-02-10T14:43:58.136645Z",
     "iopub.status.busy": "2022-02-10T14:43:58.135166Z",
     "iopub.status.idle": "2022-02-10T14:43:58.137298Z",
     "shell.execute_reply": "2022-02-10T14:43:58.137739Z"
    },
    "tags": []
   },
   "outputs": [],
   "source": [
    "PPS_ID = \"plastic-pps-generalpurpose\"\n",
    "PC_ID = \"plastic-pc-20carbonfiber\"\n",
    "SIN_LIST = \"The SIN List 2.1 (Substitute It Now!)\"\n",
    "REACH = \"REACH - The Candidate List\""
   ]
  },
  {
   "cell_type": "markdown",
   "id": "c78cf8d8",
   "metadata": {},
   "source": [
    "Next import the ``queries`` module and build the query with the references in the previous cell."
   ]
  },
  {
   "cell_type": "code",
   "execution_count": 3,
   "id": "1a17221d",
   "metadata": {
    "execution": {
     "iopub.execute_input": "2022-02-10T14:43:58.142736Z",
     "iopub.status.busy": "2022-02-10T14:43:58.141948Z",
     "iopub.status.idle": "2022-02-10T14:43:58.153733Z",
     "shell.execute_reply": "2022-02-10T14:43:58.153272Z"
    },
    "tags": []
   },
   "outputs": [],
   "source": [
    "from ansys.grantami.bomanalytics import queries\n",
    "\n",
    "mat_query = (\n",
    "    queries.MaterialImpactedSubstancesQuery()\n",
    "    .with_material_ids([PPS_ID, PC_ID])\n",
    "    .with_legislations([REACH, SIN_LIST])\n",
    ")"
   ]
  },
  {
   "cell_type": "markdown",
   "id": "388f484f",
   "metadata": {},
   "source": [
    "Finally, run the query. Passing a ``MaterialImpactedSubstancesQuery`` object to the ``Connection.run()`` method\n",
    "returns a ``MaterialImpactedSubstancesQueryResult`` object."
   ]
  },
  {
   "cell_type": "code",
   "execution_count": 4,
   "id": "d0da46b9",
   "metadata": {
    "execution": {
     "iopub.execute_input": "2022-02-10T14:43:58.159261Z",
     "iopub.status.busy": "2022-02-10T14:43:58.158694Z",
     "iopub.status.idle": "2022-02-10T14:43:58.889924Z",
     "shell.execute_reply": "2022-02-10T14:43:58.890605Z"
    },
    "tags": []
   },
   "outputs": [
    {
     "data": {
      "text/plain": [
       "<MaterialImpactedSubstancesQueryResult: 2 MaterialWithImpactedSubstances results>"
      ]
     },
     "execution_count": 4,
     "metadata": {},
     "output_type": "execute_result"
    }
   ],
   "source": [
    "results = cxn.run(mat_query)\n",
    "results"
   ]
  },
  {
   "cell_type": "markdown",
   "id": "105d8cd6",
   "metadata": {},
   "source": [
    "A ``MaterialImpactedSubstancesQueryResult`` object contains three properties:\n",
    "``impacted_substances_by_material``, ``impacted_substances_by_legislation``, and ``impacted_substances``. They provide\n",
    "different views of the impacted substances at different levels of granularity."
   ]
  },
  {
   "cell_type": "markdown",
   "id": "10d27278",
   "metadata": {},
   "source": [
    "## Results Grouped by Material"
   ]
  },
  {
   "cell_type": "markdown",
   "id": "704ff3cd",
   "metadata": {},
   "source": [
    "This property is structured first as a list of ``materialWithImpactedSubstancesResult`` objects, each of which\n",
    "contains a dictionary of lists of ``ImpactedSubstance`` objects keyed by legislation or a single flat list of all\n",
    "substances."
   ]
  },
  {
   "cell_type": "markdown",
   "id": "6b629697",
   "metadata": {},
   "source": [
    "First, we can simplify the structure somewhat because we are only using Material IDs. The cell below creates a\n",
    "dictionary that maps Material IDs to lists of substances impacted by the 'SIN List'."
   ]
  },
  {
   "cell_type": "code",
   "execution_count": 5,
   "id": "ffe7137a",
   "metadata": {
    "execution": {
     "iopub.execute_input": "2022-02-10T14:43:58.896778Z",
     "iopub.status.busy": "2022-02-10T14:43:58.895218Z",
     "iopub.status.idle": "2022-02-10T14:43:58.897444Z",
     "shell.execute_reply": "2022-02-10T14:43:58.898028Z"
    },
    "tags": []
   },
   "outputs": [],
   "source": [
    "substances_by_material = {}\n",
    "for material in results.impacted_substances_by_material:\n",
    "    substances = material.substances_by_legislation[SIN_LIST]\n",
    "    substances_by_material[material.material_id] = substances"
   ]
  },
  {
   "cell_type": "markdown",
   "id": "ac275d68",
   "metadata": {},
   "source": [
    "Then use the ``tabulate`` package to print a table of the substances and their quantities for the polycarbonate\n",
    "material only."
   ]
  },
  {
   "cell_type": "code",
   "execution_count": 6,
   "id": "d3cb3f49",
   "metadata": {
    "execution": {
     "iopub.execute_input": "2022-02-10T14:43:58.906318Z",
     "iopub.status.busy": "2022-02-10T14:43:58.902667Z",
     "iopub.status.idle": "2022-02-10T14:43:58.911138Z",
     "shell.execute_reply": "2022-02-10T14:43:58.910641Z"
    },
    "tags": []
   },
   "outputs": [
    {
     "name": "stdout",
     "output_type": "stream",
     "text": [
      "Substances impacted by \"The SIN List 2.1 (Substitute It Now!)\" in \"plastic-pc-20carbonfiber\" (10/16)\n",
      "CAS Number      Amount (wt. %)\n",
      "------------  ----------------\n",
      "10124-36-4                 0.6\n",
      "10325-94-7                 0.6\n",
      "131-56-6                   1.6\n",
      "131-57-7                   1.6\n",
      "15087-24-8                 1.6\n",
      "21041-95-2                 0.6\n",
      "25973-55-1                 1.6\n",
      "31119-53-6                 0.6\n",
      "36437-37-3                 1.6\n",
      "36861-47-9                 1.6\n"
     ]
    }
   ],
   "source": [
    "from tabulate import tabulate\n",
    "\n",
    "rows = [(substance.cas_number, substance.max_percentage_amount_in_material)\n",
    "    for substance in substances_by_material[PC_ID]]\n",
    "\n",
    "print(f'Substances impacted by \"{SIN_LIST}\" in \"{PC_ID}\" (10/{len(rows)})')\n",
    "print(tabulate(rows[:10], headers=[\"CAS Number\", \"Amount (wt. %)\"]))"
   ]
  },
  {
   "cell_type": "markdown",
   "id": "190de58f",
   "metadata": {},
   "source": [
    "## Results Grouped by Legislation"
   ]
  },
  {
   "cell_type": "markdown",
   "id": "0485310f",
   "metadata": {},
   "source": [
    "This property merges the results across all materials, resulting in a single dictionary of legislations that contain\n",
    "all impacted substances for all materials."
   ]
  },
  {
   "cell_type": "markdown",
   "id": "617a1f38",
   "metadata": {},
   "source": [
    "Again we use the ``tabulate`` package to print a table of substances, but this time we are including the substances in\n",
    "all materials, but again limited to the SIN List only."
   ]
  },
  {
   "cell_type": "code",
   "execution_count": 7,
   "id": "61d0b2e8",
   "metadata": {
    "execution": {
     "iopub.execute_input": "2022-02-10T14:43:58.918971Z",
     "iopub.status.busy": "2022-02-10T14:43:58.917519Z",
     "iopub.status.idle": "2022-02-10T14:43:58.921015Z",
     "shell.execute_reply": "2022-02-10T14:43:58.920545Z"
    },
    "tags": []
   },
   "outputs": [
    {
     "name": "stdout",
     "output_type": "stream",
     "text": [
      "Substances impacted by \"The SIN List 2.1 (Substitute It Now!)\" in all materials (10/27)\n",
      "CAS Number      Amount (wt. %)\n",
      "------------  ----------------\n",
      "131-56-6                     2\n",
      "131-57-7                     2\n",
      "15087-24-8                   2\n",
      "25973-55-1                   2\n",
      "27193-28-8\n",
      "36437-37-3                   2\n",
      "36861-47-9                   2\n",
      "3846-71-7                    2\n",
      "3864-99-1                    2\n",
      "611-99-4                     2\n"
     ]
    }
   ],
   "source": [
    "material_substances_sin = results.impacted_substances_by_legislation[SIN_LIST]\n",
    "rows = [(substance.cas_number, substance.max_percentage_amount_in_material)\n",
    "    for substance in material_substances_sin]\n",
    "print(f'Substances impacted by \"{SIN_LIST}\" in all materials (10/{len(rows)})')\n",
    "print(tabulate(rows[:10], headers=[\"CAS Number\", \"Amount (wt. %)\"]))"
   ]
  },
  {
   "cell_type": "markdown",
   "id": "42d18fca",
   "metadata": {},
   "source": [
    "## Results as a Flat List"
   ]
  },
  {
   "cell_type": "markdown",
   "id": "9dfe2bb3",
   "metadata": {},
   "source": [
    "This property reduces the granularity further to produce a single flattened list of substances across all legislations\n",
    "for all materials."
   ]
  },
  {
   "cell_type": "markdown",
   "id": "ae055e1d",
   "metadata": {},
   "source": [
    "The cell below uses the ``tabulate`` package to print a table of substances. Because we are using the\n",
    "``impacted_substances`` property, we only have one list of ``ImpactedSubstance`` objects which covers both\n",
    "legislations and both materials."
   ]
  },
  {
   "cell_type": "code",
   "execution_count": 8,
   "id": "7cfdc30a",
   "metadata": {
    "execution": {
     "iopub.execute_input": "2022-02-10T14:43:58.926503Z",
     "iopub.status.busy": "2022-02-10T14:43:58.925956Z",
     "iopub.status.idle": "2022-02-10T14:43:58.928214Z",
     "shell.execute_reply": "2022-02-10T14:43:58.928811Z"
    },
    "tags": []
   },
   "outputs": [
    {
     "name": "stdout",
     "output_type": "stream",
     "text": [
      "Impacted substances for all materials and legislations (10/45)\n",
      "CAS Number      Amount (wt. %)\n",
      "------------  ----------------\n",
      "131-56-6                     2\n",
      "131-57-7                     2\n",
      "15087-24-8                   2\n",
      "25973-55-1                   2\n",
      "27193-28-8\n",
      "36437-37-3                   2\n",
      "36861-47-9                   2\n",
      "3846-71-7                    2\n",
      "3864-99-1                    2\n",
      "611-99-4                     2\n"
     ]
    }
   ],
   "source": [
    "material_substances_all = results.impacted_substances\n",
    "rows = [(substance.cas_number, substance.max_percentage_amount_in_material)\n",
    "    for substance in material_substances_all]\n",
    "print(f\"Impacted substances for all materials and legislations (10/{len(rows)})\")\n",
    "print(tabulate(rows[:10], headers=[\"CAS Number\", \"Amount (wt. %)\"]))"
   ]
  }
 ],
 "metadata": {
  "jupytext": {
   "formats": "ipynb,py:light"
  },
  "kernelspec": {
   "display_name": "Python 3 (ipykernel)",
   "language": "python",
   "name": "python3"
  },
  "language_info": {
   "codemirror_mode": {
    "name": "ipython",
    "version": 3
   },
   "file_extension": ".py",
   "mimetype": "text/x-python",
   "name": "python",
   "nbconvert_exporter": "python",
   "pygments_lexer": "ipython3",
   "version": "3.10.2"
  }
 },
 "nbformat": 4,
 "nbformat_minor": 5
}
