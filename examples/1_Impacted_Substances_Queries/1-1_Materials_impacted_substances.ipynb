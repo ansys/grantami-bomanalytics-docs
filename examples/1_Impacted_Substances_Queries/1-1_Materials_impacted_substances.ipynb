{
 "cells": [
  {
   "cell_type": "markdown",
   "id": "c41835bb",
   "metadata": {},
   "source": [
    "# Performing a Material Impacted Substances Query"
   ]
  },
  {
   "cell_type": "markdown",
   "id": "23b59057",
   "metadata": {},
   "source": [
    "A Material Impacted Substances Query is used to identify the substances associated with a material that are impacted\n",
    "by one or more defined legislations."
   ]
  },
  {
   "cell_type": "markdown",
   "id": "e361788b",
   "metadata": {},
   "source": [
    "This example shows how to perform an Impacted Substance query on material records, and how to process the results."
   ]
  },
  {
   "cell_type": "markdown",
   "id": "ce57309c",
   "metadata": {},
   "source": [
    "## Connecting to Granta MI"
   ]
  },
  {
   "cell_type": "markdown",
   "id": "877da1aa",
   "metadata": {},
   "source": [
    "Import the ``Connection`` class and create the connection. See the [Getting Started](../0_Getting_started.ipynb)\n",
    "example for more detail."
   ]
  },
  {
   "cell_type": "code",
   "execution_count": 1,
   "id": "bece0123",
   "metadata": {
    "execution": {
     "iopub.execute_input": "2022-05-09T19:48:26.975671Z",
     "iopub.status.busy": "2022-05-09T19:48:26.975416Z",
     "iopub.status.idle": "2022-05-09T19:48:27.904505Z",
     "shell.execute_reply": "2022-05-09T19:48:27.903650Z"
    },
    "tags": []
   },
   "outputs": [],
   "source": [
    "from ansys.grantami.bomanalytics import Connection\n",
    "\n",
    "server_url = \"http://my_grantami_server/mi_servicelayer\"\n",
    "cxn = Connection(server_url).with_credentials(\"user_name\", \"password\").connect()"
   ]
  },
  {
   "cell_type": "markdown",
   "id": "541a6c6f",
   "metadata": {},
   "source": [
    "## Building and Running the Query"
   ]
  },
  {
   "cell_type": "markdown",
   "id": "ccaca29e",
   "metadata": {},
   "source": [
    "The query is assembled by providing lists of material references and legislations of interest. The query will return\n",
    "the substances that are present in the specified materials and are impacted by the specified legislations."
   ]
  },
  {
   "cell_type": "markdown",
   "id": "ba411221",
   "metadata": {},
   "source": [
    "First specify some constants that contain the material and legislation references we will use."
   ]
  },
  {
   "cell_type": "code",
   "execution_count": 2,
   "id": "1af282af",
   "metadata": {
    "execution": {
     "iopub.execute_input": "2022-05-09T19:48:27.908816Z",
     "iopub.status.busy": "2022-05-09T19:48:27.908390Z",
     "iopub.status.idle": "2022-05-09T19:48:27.912561Z",
     "shell.execute_reply": "2022-05-09T19:48:27.911826Z"
    },
    "tags": []
   },
   "outputs": [],
   "source": [
    "PPS_ID = \"plastic-pps-generalpurpose\"\n",
    "PC_ID = \"plastic-pc-20carbonfiber\"\n",
    "SIN_LIST = \"The SIN List 2.1 (Substitute It Now!)\"\n",
    "REACH = \"REACH - The Candidate List\""
   ]
  },
  {
   "cell_type": "markdown",
   "id": "7292f625",
   "metadata": {},
   "source": [
    "Next import the ``queries`` module and build the query with the references in the previous cell."
   ]
  },
  {
   "cell_type": "code",
   "execution_count": 3,
   "id": "ec12b48d",
   "metadata": {
    "execution": {
     "iopub.execute_input": "2022-05-09T19:48:27.916354Z",
     "iopub.status.busy": "2022-05-09T19:48:27.916119Z",
     "iopub.status.idle": "2022-05-09T19:48:27.929596Z",
     "shell.execute_reply": "2022-05-09T19:48:27.928816Z"
    },
    "tags": []
   },
   "outputs": [],
   "source": [
    "from ansys.grantami.bomanalytics import queries\n",
    "\n",
    "mat_query = (\n",
    "    queries.MaterialImpactedSubstancesQuery()\n",
    "    .with_material_ids([PPS_ID, PC_ID])\n",
    "    .with_legislations([REACH, SIN_LIST])\n",
    ")"
   ]
  },
  {
   "cell_type": "markdown",
   "id": "911799a0",
   "metadata": {},
   "source": [
    "Finally, run the query. Passing a ``MaterialImpactedSubstancesQuery`` object to the ``Connection.run()`` method\n",
    "returns a ``MaterialImpactedSubstancesQueryResult`` object."
   ]
  },
  {
   "cell_type": "code",
   "execution_count": 4,
   "id": "96518f87",
   "metadata": {
    "execution": {
     "iopub.execute_input": "2022-05-09T19:48:27.935534Z",
     "iopub.status.busy": "2022-05-09T19:48:27.935279Z",
     "iopub.status.idle": "2022-05-09T19:48:28.662736Z",
     "shell.execute_reply": "2022-05-09T19:48:28.661942Z"
    },
    "tags": []
   },
   "outputs": [
    {
     "data": {
      "text/plain": [
       "<MaterialImpactedSubstancesQueryResult: 2 MaterialWithImpactedSubstances results>"
      ]
     },
     "execution_count": 4,
     "metadata": {},
     "output_type": "execute_result"
    }
   ],
   "source": [
    "results = cxn.run(mat_query)\n",
    "results"
   ]
  },
  {
   "cell_type": "markdown",
   "id": "137b5fc7",
   "metadata": {},
   "source": [
    "A ``MaterialImpactedSubstancesQueryResult`` object contains three properties:\n",
    "``impacted_substances_by_material``, ``impacted_substances_by_legislation``, and ``impacted_substances``. They provide\n",
    "different views of the impacted substances at different levels of granularity."
   ]
  },
  {
   "cell_type": "markdown",
   "id": "7f1464b0",
   "metadata": {},
   "source": [
    "## Results Grouped by Material"
   ]
  },
  {
   "cell_type": "markdown",
   "id": "c912021b",
   "metadata": {},
   "source": [
    "This property is structured first as a list of ``materialWithImpactedSubstancesResult`` objects, each of which\n",
    "contains a dictionary of lists of ``ImpactedSubstance`` objects keyed by legislation or a single flat list of all\n",
    "substances."
   ]
  },
  {
   "cell_type": "markdown",
   "id": "715119bb",
   "metadata": {},
   "source": [
    "First, we can simplify the structure somewhat because we are only using Material IDs. The cell below creates a\n",
    "dictionary that maps Material IDs to lists of substances impacted by the 'SIN List'."
   ]
  },
  {
   "cell_type": "code",
   "execution_count": 5,
   "id": "b8225cca",
   "metadata": {
    "execution": {
     "iopub.execute_input": "2022-05-09T19:48:28.666541Z",
     "iopub.status.busy": "2022-05-09T19:48:28.666306Z",
     "iopub.status.idle": "2022-05-09T19:48:28.672963Z",
     "shell.execute_reply": "2022-05-09T19:48:28.672239Z"
    },
    "tags": []
   },
   "outputs": [],
   "source": [
    "substances_by_material = {}\n",
    "for material in results.impacted_substances_by_material:\n",
    "    substances = material.substances_by_legislation[SIN_LIST]\n",
    "    substances_by_material[material.material_id] = substances"
   ]
  },
  {
   "cell_type": "markdown",
   "id": "a0cc2559",
   "metadata": {},
   "source": [
    "Then use the ``tabulate`` package to print a table of the substances and their quantities for the polycarbonate\n",
    "material only."
   ]
  },
  {
   "cell_type": "code",
   "execution_count": 6,
   "id": "4e265f82",
   "metadata": {
    "execution": {
     "iopub.execute_input": "2022-05-09T19:48:28.676367Z",
     "iopub.status.busy": "2022-05-09T19:48:28.676165Z",
     "iopub.status.idle": "2022-05-09T19:48:28.685786Z",
     "shell.execute_reply": "2022-05-09T19:48:28.685030Z"
    },
    "tags": []
   },
   "outputs": [
    {
     "name": "stdout",
     "output_type": "stream",
     "text": [
      "Substances impacted by \"The SIN List 2.1 (Substitute It Now!)\" in \"plastic-pc-20carbonfiber\" (10/16)\n",
      "CAS Number      Amount (wt. %)\n",
      "------------  ----------------\n",
      "10124-36-4                 0.6\n",
      "10325-94-7                 0.6\n",
      "131-56-6                   1.6\n",
      "131-57-7                   1.6\n",
      "15087-24-8                 1.6\n",
      "21041-95-2                 0.6\n",
      "25973-55-1                 1.6\n",
      "31119-53-6                 0.6\n",
      "36437-37-3                 1.6\n",
      "36861-47-9                 1.6\n"
     ]
    }
   ],
   "source": [
    "from tabulate import tabulate\n",
    "\n",
    "rows = [(substance.cas_number, substance.max_percentage_amount_in_material)\n",
    "    for substance in substances_by_material[PC_ID]]\n",
    "\n",
    "print(f'Substances impacted by \"{SIN_LIST}\" in \"{PC_ID}\" (10/{len(rows)})')\n",
    "print(tabulate(rows[:10], headers=[\"CAS Number\", \"Amount (wt. %)\"]))"
   ]
  },
  {
   "cell_type": "markdown",
   "id": "a7f5c195",
   "metadata": {},
   "source": [
    "## Results Grouped by Legislation"
   ]
  },
  {
   "cell_type": "markdown",
   "id": "a321e30f",
   "metadata": {},
   "source": [
    "This property merges the results across all materials, resulting in a single dictionary of legislations that contain\n",
    "all impacted substances for all materials."
   ]
  },
  {
   "cell_type": "markdown",
   "id": "5c5f1a5a",
   "metadata": {},
   "source": [
    "Again we use the ``tabulate`` package to print a table of substances, but this time we are including the substances in\n",
    "all materials, but again limited to the SIN List only."
   ]
  },
  {
   "cell_type": "code",
   "execution_count": 7,
   "id": "9e296407",
   "metadata": {
    "execution": {
     "iopub.execute_input": "2022-05-09T19:48:28.689393Z",
     "iopub.status.busy": "2022-05-09T19:48:28.689164Z",
     "iopub.status.idle": "2022-05-09T19:48:28.697549Z",
     "shell.execute_reply": "2022-05-09T19:48:28.696730Z"
    },
    "tags": []
   },
   "outputs": [
    {
     "name": "stdout",
     "output_type": "stream",
     "text": [
      "Substances impacted by \"The SIN List 2.1 (Substitute It Now!)\" in all materials (10/27)\n",
      "CAS Number      Amount (wt. %)\n",
      "------------  ----------------\n",
      "131-56-6                     2\n",
      "131-57-7                     2\n",
      "15087-24-8                   2\n",
      "25973-55-1                   2\n",
      "27193-28-8\n",
      "36437-37-3                   2\n",
      "36861-47-9                   2\n",
      "3846-71-7                    2\n",
      "3864-99-1                    2\n",
      "611-99-4                     2\n"
     ]
    }
   ],
   "source": [
    "material_substances_sin = results.impacted_substances_by_legislation[SIN_LIST]\n",
    "rows = [(substance.cas_number, substance.max_percentage_amount_in_material)\n",
    "    for substance in material_substances_sin]\n",
    "print(f'Substances impacted by \"{SIN_LIST}\" in all materials (10/{len(rows)})')\n",
    "print(tabulate(rows[:10], headers=[\"CAS Number\", \"Amount (wt. %)\"]))"
   ]
  },
  {
   "cell_type": "markdown",
   "id": "b5db1cd5",
   "metadata": {},
   "source": [
    "## Results as a Flat List"
   ]
  },
  {
   "cell_type": "markdown",
   "id": "793f30fc",
   "metadata": {},
   "source": [
    "This property reduces the granularity further to produce a single flattened list of substances across all legislations\n",
    "for all materials."
   ]
  },
  {
   "cell_type": "markdown",
   "id": "46e28fb2",
   "metadata": {},
   "source": [
    "The cell below uses the ``tabulate`` package to print a table of substances. Because we are using the\n",
    "``impacted_substances`` property, we only have one list of ``ImpactedSubstance`` objects which covers both\n",
    "legislations and both materials."
   ]
  },
  {
   "cell_type": "code",
   "execution_count": 8,
   "id": "45b141cf",
   "metadata": {
    "execution": {
     "iopub.execute_input": "2022-05-09T19:48:28.701435Z",
     "iopub.status.busy": "2022-05-09T19:48:28.701206Z",
     "iopub.status.idle": "2022-05-09T19:48:28.706902Z",
     "shell.execute_reply": "2022-05-09T19:48:28.706241Z"
    },
    "tags": []
   },
   "outputs": [
    {
     "name": "stdout",
     "output_type": "stream",
     "text": [
      "Impacted substances for all materials and legislations (10/45)\n",
      "CAS Number      Amount (wt. %)\n",
      "------------  ----------------\n",
      "131-56-6                     2\n",
      "131-57-7                     2\n",
      "15087-24-8                   2\n",
      "25973-55-1                   2\n",
      "27193-28-8\n",
      "36437-37-3                   2\n",
      "36861-47-9                   2\n",
      "3846-71-7                    2\n",
      "3864-99-1                    2\n",
      "611-99-4                     2\n"
     ]
    }
   ],
   "source": [
    "material_substances_all = results.impacted_substances\n",
    "rows = [(substance.cas_number, substance.max_percentage_amount_in_material)\n",
    "    for substance in material_substances_all]\n",
    "print(f\"Impacted substances for all materials and legislations (10/{len(rows)})\")\n",
    "print(tabulate(rows[:10], headers=[\"CAS Number\", \"Amount (wt. %)\"]))"
   ]
  }
 ],
 "metadata": {
  "jupytext": {
   "formats": "ipynb,py:light"
  },
  "kernelspec": {
   "display_name": "Python 3 (ipykernel)",
   "language": "python",
   "name": "python3"
  },
  "language_info": {
   "codemirror_mode": {
    "name": "ipython",
    "version": 3
   },
   "file_extension": ".py",
   "mimetype": "text/x-python",
   "name": "python",
   "nbconvert_exporter": "python",
   "pygments_lexer": "ipython3",
   "version": "3.10.4"
  }
 },
 "nbformat": 4,
 "nbformat_minor": 5
}
