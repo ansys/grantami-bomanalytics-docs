{
 "cells": [
  {
   "cell_type": "markdown",
   "id": "9da8043c",
   "metadata": {
    "tags": []
   },
   "source": [
    "# Performing a Part Impacted Substances Query"
   ]
  },
  {
   "cell_type": "markdown",
   "id": "cae47679",
   "metadata": {},
   "source": [
    "A Part Impacted Substances Query is used to determine the substances associated with a part that are impacted by one\n",
    "or more defined legislations. The part record can represent either a single component, a subassembly, or a finished\n",
    "product, and therefore the substances can be associated with either the part record itself, or any other record that\n",
    "the part directly or indirectly references."
   ]
  },
  {
   "cell_type": "markdown",
   "id": "f84b344b",
   "metadata": {},
   "source": [
    "This example shows how to perform an Impacted Substance query on part records, and how to process the results."
   ]
  },
  {
   "cell_type": "markdown",
   "id": "1da0d54c",
   "metadata": {},
   "source": [
    "## Connecting to Granta MI"
   ]
  },
  {
   "cell_type": "markdown",
   "id": "56b22add",
   "metadata": {},
   "source": [
    "Import the ``Connection`` class and create the connection. See the [Getting Started](../0_Getting_started.ipynb)\n",
    "example for more details."
   ]
  },
  {
   "cell_type": "code",
   "execution_count": 1,
   "id": "2f3072ee",
   "metadata": {
    "execution": {
     "iopub.execute_input": "2022-05-09T19:28:55.648584Z",
     "iopub.status.busy": "2022-05-09T19:28:55.648102Z",
     "iopub.status.idle": "2022-05-09T19:28:56.176626Z",
     "shell.execute_reply": "2022-05-09T19:28:56.175841Z"
    },
    "tags": []
   },
   "outputs": [],
   "source": [
    "from ansys.grantami.bomanalytics import Connection\n",
    "\n",
    "server_url = \"http://my_grantami_server/mi_servicelayer\"\n",
    "cxn = Connection(server_url).with_credentials(\"user_name\", \"password\").connect()"
   ]
  },
  {
   "cell_type": "markdown",
   "id": "7262f475",
   "metadata": {
    "tags": []
   },
   "source": [
    "## Building and Running the Query"
   ]
  },
  {
   "cell_type": "markdown",
   "id": "f762cfbc",
   "metadata": {},
   "source": [
    "The query is assembled by providing lists of part references and legislations of interest. The query will return\n",
    "the substances that are present in the specified parts and are impacted by the specified legislations.\n",
    "\n",
    "In this example, the 'Drill' part will be used. In contrast to the Material version of this query shown in\n",
    "a previous example, the Drill part does not reference any substances directly. Instead, it references\n",
    "sub-components, which in turn reference materials, which then reference substances. The Part Impacted Substances\n",
    "Query flattens all these layers of complexity and aggregates them together into a single list."
   ]
  },
  {
   "cell_type": "markdown",
   "id": "e2a9368a",
   "metadata": {},
   "source": [
    "First specify some constants that contain the part and legislation references we will use."
   ]
  },
  {
   "cell_type": "code",
   "execution_count": 2,
   "id": "51e526cf",
   "metadata": {
    "execution": {
     "iopub.execute_input": "2022-05-09T19:28:56.180838Z",
     "iopub.status.busy": "2022-05-09T19:28:56.180309Z",
     "iopub.status.idle": "2022-05-09T19:28:56.184246Z",
     "shell.execute_reply": "2022-05-09T19:28:56.183540Z"
    },
    "tags": []
   },
   "outputs": [],
   "source": [
    "DRILL = \"DRILL\"\n",
    "WING = \"asm_flap_mating\"\n",
    "SIN_LIST = \"The SIN List 2.1 (Substitute It Now!)\"\n",
    "REACH = \"REACH - The Candidate List\""
   ]
  },
  {
   "cell_type": "markdown",
   "id": "0082d423",
   "metadata": {},
   "source": [
    "Next, import the ``queries`` module and build the query with the references in the previous cell."
   ]
  },
  {
   "cell_type": "code",
   "execution_count": 3,
   "id": "18949c21",
   "metadata": {
    "execution": {
     "iopub.execute_input": "2022-05-09T19:28:56.187789Z",
     "iopub.status.busy": "2022-05-09T19:28:56.187593Z",
     "iopub.status.idle": "2022-05-09T19:28:56.199838Z",
     "shell.execute_reply": "2022-05-09T19:28:56.199122Z"
    },
    "tags": []
   },
   "outputs": [],
   "source": [
    "from ansys.grantami.bomanalytics import queries\n",
    "\n",
    "part_query = (\n",
    "    queries.PartImpactedSubstancesQuery()\n",
    "    .with_part_numbers([DRILL, WING])\n",
    "    .with_legislations([SIN_LIST, REACH])\n",
    ")"
   ]
  },
  {
   "cell_type": "markdown",
   "id": "1cc6a028",
   "metadata": {},
   "source": [
    "Finally, run the query. Passing a ``PartImpactedSubstancesQuery`` object to the ``Connection.run()`` method returns a\n",
    "``PartImpactedSubstancesQueryResult`` object."
   ]
  },
  {
   "cell_type": "code",
   "execution_count": 4,
   "id": "b58396c6",
   "metadata": {
    "execution": {
     "iopub.execute_input": "2022-05-09T19:28:56.202768Z",
     "iopub.status.busy": "2022-05-09T19:28:56.202559Z",
     "iopub.status.idle": "2022-05-09T19:29:01.434467Z",
     "shell.execute_reply": "2022-05-09T19:29:01.433762Z"
    },
    "tags": []
   },
   "outputs": [
    {
     "data": {
      "text/plain": [
       "<PartImpactedSubstancesQueryResult: 2 PartWithImpactedSubstances results>"
      ]
     },
     "execution_count": 4,
     "metadata": {},
     "output_type": "execute_result"
    }
   ],
   "source": [
    "part_result = cxn.run(part_query)\n",
    "part_result"
   ]
  },
  {
   "cell_type": "markdown",
   "id": "72514dce",
   "metadata": {},
   "source": [
    "A ``PartImpactedSubstancesQueryResult`` object contains three properties:\n",
    "``impacted_substances_by_part``, ``impacted_substances_by_legislation`` and ``impacted_substances``. They provide\n",
    "different views of the impacted substances at different levels of granularity."
   ]
  },
  {
   "cell_type": "markdown",
   "id": "53aae9cc",
   "metadata": {},
   "source": [
    "## Results Grouped by Part"
   ]
  },
  {
   "cell_type": "markdown",
   "id": "6c788216",
   "metadata": {},
   "source": [
    "This property is structured first as a list of ``PartWithImpactedSubstancesResult`` objects, each of which contains\n",
    "a dictionary of lists of ``ImpactedSubstance`` objects keyed by legislation, or a single flat list of all\n",
    "substances."
   ]
  },
  {
   "cell_type": "markdown",
   "id": "8cd56d41",
   "metadata": {},
   "source": [
    "We can simplify the structure because we are only using Part Numbers. First, create a\n",
    "dictionary that maps Part Numbers to lists of substances impacted by the 'SIN List'."
   ]
  },
  {
   "cell_type": "code",
   "execution_count": 5,
   "id": "ac1ae85c",
   "metadata": {
    "execution": {
     "iopub.execute_input": "2022-05-09T19:29:01.437718Z",
     "iopub.status.busy": "2022-05-09T19:29:01.437502Z",
     "iopub.status.idle": "2022-05-09T19:29:01.442753Z",
     "shell.execute_reply": "2022-05-09T19:29:01.442043Z"
    },
    "tags": []
   },
   "outputs": [],
   "source": [
    "substances_by_part = {}\n",
    "for part in part_result.impacted_substances_by_part:\n",
    "    part_substances = part.substances_by_legislation[SIN_LIST]\n",
    "    substances_by_part[part.part_number] = part_substances"
   ]
  },
  {
   "cell_type": "markdown",
   "id": "f47ff259",
   "metadata": {},
   "source": [
    "Then use the ``tabulate`` package to print a table of the substances and their quantities for the wing assembly only."
   ]
  },
  {
   "cell_type": "code",
   "execution_count": 6,
   "id": "6098f9f5",
   "metadata": {
    "execution": {
     "iopub.execute_input": "2022-05-09T19:29:01.445488Z",
     "iopub.status.busy": "2022-05-09T19:29:01.445288Z",
     "iopub.status.idle": "2022-05-09T19:29:01.453277Z",
     "shell.execute_reply": "2022-05-09T19:29:01.452559Z"
    },
    "tags": []
   },
   "outputs": [
    {
     "name": "stdout",
     "output_type": "stream",
     "text": [
      "Substances impacted by \"The SIN List 2.1 (Substitute It Now!)\" in \"asm_flap_mating\"\n",
      "CAS Number    Amount (wt. %)\n",
      "------------  ----------------\n",
      "872-50-4\n"
     ]
    }
   ],
   "source": [
    "from tabulate import tabulate\n",
    "\n",
    "rows = [(substance.cas_number, substance.max_percentage_amount_in_material)\n",
    "        for substance in substances_by_part[WING]]\n",
    "\n",
    "print(f'Substances impacted by \"{SIN_LIST}\" in \"{WING}\"')\n",
    "print(tabulate(rows, headers=[\"CAS Number\", \"Amount (wt. %)\"]))"
   ]
  },
  {
   "cell_type": "markdown",
   "id": "51099bcf",
   "metadata": {},
   "source": [
    "## Results Grouped by Legislation"
   ]
  },
  {
   "cell_type": "markdown",
   "id": "5eacf5a9",
   "metadata": {},
   "source": [
    "This property merges the results across all parts, returning a single dictionary of legislations that contain\n",
    "all impacted substances for all parts."
   ]
  },
  {
   "cell_type": "markdown",
   "id": "6e0b8bbc",
   "metadata": {},
   "source": [
    "As before, use the ``tabulate`` package to print a table of substances. This time we are including substances in\n",
    "all parts, but only those on the SIN List."
   ]
  },
  {
   "cell_type": "code",
   "execution_count": 7,
   "id": "3095a842",
   "metadata": {
    "execution": {
     "iopub.execute_input": "2022-05-09T19:29:01.456412Z",
     "iopub.status.busy": "2022-05-09T19:29:01.456200Z",
     "iopub.status.idle": "2022-05-09T19:29:01.461633Z",
     "shell.execute_reply": "2022-05-09T19:29:01.460953Z"
    },
    "tags": []
   },
   "outputs": [
    {
     "name": "stdout",
     "output_type": "stream",
     "text": [
      "Substances impacted by \"The SIN List 2.1 (Substitute It Now!)\" in all parts (10/80)\n",
      "CAS Number    Amount (wt. %)\n",
      "------------  ----------------\n",
      "11113-75-0\n",
      "12035-71-1\n",
      "12068-61-0\n",
      "12142-88-0\n",
      "13775-54-7\n",
      "21784-78-1\n",
      "27016-75-7\n",
      "31748-25-1\n",
      "69012-50-6\n",
      "302-01-2\n"
     ]
    }
   ],
   "source": [
    "part_substances_sin = part_result.impacted_substances_by_legislation[SIN_LIST]\n",
    "rows = [(substance.cas_number, substance.max_percentage_amount_in_material)\n",
    "        for substance in part_substances_sin]\n",
    "print(f'Substances impacted by \"{SIN_LIST}\" in all parts (10/{len(rows)})')\n",
    "print(tabulate(rows[:10], headers=[\"CAS Number\", \"Amount (wt. %)\"]))"
   ]
  },
  {
   "cell_type": "markdown",
   "id": "21eafe14",
   "metadata": {},
   "source": [
    "## Results as a Flat List"
   ]
  },
  {
   "cell_type": "markdown",
   "id": "246179a4",
   "metadata": {},
   "source": [
    "This property reduces the granularity further, producing a single flattened list of substances across all legislations\n",
    "and for all parts."
   ]
  },
  {
   "cell_type": "markdown",
   "id": "feb91c05",
   "metadata": {},
   "source": [
    "Use the ``tabulate`` package to print a third table of substances. Because we are using the\n",
    "``impacted_substances`` property, we only have one list of ``ImpactedSubstance`` objects, which covers both\n",
    "legislations and both the parts specified above."
   ]
  },
  {
   "cell_type": "code",
   "execution_count": 8,
   "id": "2fe5f5fc",
   "metadata": {
    "execution": {
     "iopub.execute_input": "2022-05-09T19:29:01.465306Z",
     "iopub.status.busy": "2022-05-09T19:29:01.465111Z",
     "iopub.status.idle": "2022-05-09T19:29:01.470426Z",
     "shell.execute_reply": "2022-05-09T19:29:01.469717Z"
    },
    "tags": []
   },
   "outputs": [
    {
     "name": "stdout",
     "output_type": "stream",
     "text": [
      "Impacted substances across all legislations in \"DRILL\" (10/127)\n",
      "CAS Number    Amount (wt. %)\n",
      "------------  ----------------\n",
      "11113-75-0\n",
      "12035-71-1\n",
      "12068-61-0\n",
      "12142-88-0\n",
      "13775-54-7\n",
      "21784-78-1\n",
      "27016-75-7\n",
      "31748-25-1\n",
      "69012-50-6\n",
      "302-01-2\n"
     ]
    }
   ],
   "source": [
    "part_substances_all = part_result.impacted_substances\n",
    "rows = [(substance.cas_number, substance.max_percentage_amount_in_material)\n",
    "        for substance in part_substances_all]\n",
    "print(f'Impacted substances across all legislations in \"DRILL\" (10/{len(rows)})')\n",
    "print(tabulate(rows[:10], headers=[\"CAS Number\", \"Amount (wt. %)\"]))"
   ]
  }
 ],
 "metadata": {
  "jupytext": {
   "formats": "ipynb,py:light"
  },
  "kernelspec": {
   "display_name": "Python 3 (ipykernel)",
   "language": "python",
   "name": "python3"
  },
  "language_info": {
   "codemirror_mode": {
    "name": "ipython",
    "version": 3
   },
   "file_extension": ".py",
   "mimetype": "text/x-python",
   "name": "python",
   "nbconvert_exporter": "python",
   "pygments_lexer": "ipython3",
   "version": "3.10.4"
  }
 },
 "nbformat": 4,
 "nbformat_minor": 5
}
