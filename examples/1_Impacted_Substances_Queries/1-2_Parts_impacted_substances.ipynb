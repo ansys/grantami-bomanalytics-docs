{
 "cells": [
  {
   "cell_type": "markdown",
   "id": "0a4ec414",
   "metadata": {
    "tags": []
   },
   "source": [
    "# Performing a Part Impacted Substances Query"
   ]
  },
  {
   "cell_type": "markdown",
   "id": "c6143b47",
   "metadata": {},
   "source": [
    "A Part Impacted Substances Query is used to determine the substances associated with a part that are impacted by one\n",
    "or more defined legislations. The part record can represent either a single component, a subassembly, or a finished\n",
    "product, and therefore the substances can be associated with either the part record itself, or any other record that\n",
    "the part directly or indirectly references."
   ]
  },
  {
   "cell_type": "markdown",
   "id": "5d7eadbc",
   "metadata": {},
   "source": [
    "This example shows how to perform an Impacted Substance query on part records, and how to process the results."
   ]
  },
  {
   "cell_type": "markdown",
   "id": "fef19eec",
   "metadata": {},
   "source": [
    "## Connecting to Granta MI"
   ]
  },
  {
   "cell_type": "markdown",
   "id": "a930a2e5",
   "metadata": {},
   "source": [
    "Import the ``Connection`` class and create the connection. See the [Getting Started](../0_Getting_started.ipynb)\n",
    "example for more details."
   ]
  },
  {
   "cell_type": "code",
   "execution_count": 1,
   "id": "d6060faf",
   "metadata": {
    "execution": {
     "iopub.execute_input": "2022-02-07T18:56:22.027647Z",
     "iopub.status.busy": "2022-02-07T18:56:22.027245Z",
     "iopub.status.idle": "2022-02-07T18:56:22.362136Z",
     "shell.execute_reply": "2022-02-07T18:56:22.361551Z"
    },
    "tags": []
   },
   "outputs": [],
   "source": [
    "from ansys.grantami.bomanalytics import Connection\n",
    "\n",
    "server_url = \"http://my_grantami_server/mi_servicelayer\"\n",
    "cxn = Connection(server_url).with_credentials(\"user_name\", \"password\").connect()"
   ]
  },
  {
   "cell_type": "markdown",
   "id": "1f8bf8af",
   "metadata": {
    "tags": []
   },
   "source": [
    "## Building and Running the Query"
   ]
  },
  {
   "cell_type": "markdown",
   "id": "3a6de52e",
   "metadata": {},
   "source": [
    "The query is assembled by providing lists of part references and legislations of interest. The query will return\n",
    "the substances that are present in the specified parts and are impacted by the specified legislations.\n",
    "\n",
    "In this example, the 'Drill' part will be used. In contrast to the Material version of this query shown in\n",
    "a previous example, the Drill part does not reference any substances directly. Instead, it references\n",
    "sub-components, which in turn reference materials, which then reference substances. The Part Impacted Substances\n",
    "Query flattens all these layers of complexity and aggregates them together into a single list."
   ]
  },
  {
   "cell_type": "markdown",
   "id": "03942ee0",
   "metadata": {},
   "source": [
    "First specify some constants that contain the part and legislation references we will use."
   ]
  },
  {
   "cell_type": "code",
   "execution_count": 2,
   "id": "c55b53bc",
   "metadata": {
    "execution": {
     "iopub.execute_input": "2022-02-07T18:56:22.366809Z",
     "iopub.status.busy": "2022-02-07T18:56:22.365853Z",
     "iopub.status.idle": "2022-02-07T18:56:22.367370Z",
     "shell.execute_reply": "2022-02-07T18:56:22.367690Z"
    },
    "tags": []
   },
   "outputs": [],
   "source": [
    "DRILL = \"DRILL\"\n",
    "WING = \"asm_flap_mating\"\n",
    "SIN_LIST = \"The SIN List 2.1 (Substitute It Now!)\"\n",
    "REACH = \"REACH - The Candidate List\""
   ]
  },
  {
   "cell_type": "markdown",
   "id": "f7cb7157",
   "metadata": {},
   "source": [
    "Next, import the ``queries`` module and build the query with the references in the previous cell."
   ]
  },
  {
   "cell_type": "code",
   "execution_count": 3,
   "id": "7223c398",
   "metadata": {
    "execution": {
     "iopub.execute_input": "2022-02-07T18:56:22.371438Z",
     "iopub.status.busy": "2022-02-07T18:56:22.371044Z",
     "iopub.status.idle": "2022-02-07T18:56:22.380649Z",
     "shell.execute_reply": "2022-02-07T18:56:22.380315Z"
    },
    "tags": []
   },
   "outputs": [],
   "source": [
    "from ansys.grantami.bomanalytics import queries\n",
    "\n",
    "part_query = (\n",
    "    queries.PartImpactedSubstancesQuery()\n",
    "    .with_part_numbers([DRILL, WING])\n",
    "    .with_legislations([SIN_LIST, REACH])\n",
    ")"
   ]
  },
  {
   "cell_type": "markdown",
   "id": "59912ec1",
   "metadata": {},
   "source": [
    "Finally, run the query. Passing a ``PartImpactedSubstancesQuery`` object to the ``Connection.run()`` method returns a\n",
    "``PartImpactedSubstancesQueryResult`` object."
   ]
  },
  {
   "cell_type": "code",
   "execution_count": 4,
   "id": "f028f3d8",
   "metadata": {
    "execution": {
     "iopub.execute_input": "2022-02-07T18:56:22.385479Z",
     "iopub.status.busy": "2022-02-07T18:56:22.385040Z",
     "iopub.status.idle": "2022-02-07T18:56:27.060647Z",
     "shell.execute_reply": "2022-02-07T18:56:27.060269Z"
    },
    "tags": []
   },
   "outputs": [
    {
     "data": {
      "text/plain": [
       "<PartImpactedSubstancesQueryResult: 2 PartWithImpactedSubstances results>"
      ]
     },
     "execution_count": 4,
     "metadata": {},
     "output_type": "execute_result"
    }
   ],
   "source": [
    "part_result = cxn.run(part_query)\n",
    "part_result"
   ]
  },
  {
   "cell_type": "markdown",
   "id": "887103fa",
   "metadata": {},
   "source": [
    "A ``PartImpactedSubstancesQueryResult`` object contains three properties:\n",
    "``impacted_substances_by_part``, ``impacted_substances_by_legislation`` and ``impacted_substances``. They provide\n",
    "different views of the impacted substances at different levels of granularity."
   ]
  },
  {
   "cell_type": "markdown",
   "id": "4e519eae",
   "metadata": {},
   "source": [
    "## Results Grouped by Part"
   ]
  },
  {
   "cell_type": "markdown",
   "id": "b1b87d21",
   "metadata": {},
   "source": [
    "This property is structured first as a list of ``PartWithImpactedSubstancesResult`` objects, each of which contains\n",
    "a dictionary of lists of ``ImpactedSubstance`` objects keyed by legislation, or a single flat list of all\n",
    "substances."
   ]
  },
  {
   "cell_type": "markdown",
   "id": "35f18ca6",
   "metadata": {},
   "source": [
    "We can simplify the structure because we are only using Part Numbers. First, create a\n",
    "dictionary that maps Part Numbers to lists of substances impacted by the 'SIN List'."
   ]
  },
  {
   "cell_type": "code",
   "execution_count": 5,
   "id": "0b462aa6",
   "metadata": {
    "execution": {
     "iopub.execute_input": "2022-02-07T18:56:27.064581Z",
     "iopub.status.busy": "2022-02-07T18:56:27.064184Z",
     "iopub.status.idle": "2022-02-07T18:56:27.067039Z",
     "shell.execute_reply": "2022-02-07T18:56:27.066488Z"
    },
    "tags": []
   },
   "outputs": [],
   "source": [
    "substances_by_part = {}\n",
    "for part in part_result.impacted_substances_by_part:\n",
    "    part_substances = part.substances_by_legislation[SIN_LIST]\n",
    "    substances_by_part[part.part_number] = part_substances"
   ]
  },
  {
   "cell_type": "markdown",
   "id": "52264f14",
   "metadata": {},
   "source": [
    "Then use the ``tabulate`` package to print a table of the substances and their quantities for the wing assembly only."
   ]
  },
  {
   "cell_type": "code",
   "execution_count": 6,
   "id": "bead69fc",
   "metadata": {
    "execution": {
     "iopub.execute_input": "2022-02-07T18:56:27.070977Z",
     "iopub.status.busy": "2022-02-07T18:56:27.070584Z",
     "iopub.status.idle": "2022-02-07T18:56:27.075634Z",
     "shell.execute_reply": "2022-02-07T18:56:27.075294Z"
    },
    "tags": []
   },
   "outputs": [
    {
     "name": "stdout",
     "output_type": "stream",
     "text": [
      "Substances impacted by \"The SIN List 2.1 (Substitute It Now!)\" in \"asm_flap_mating\"\n",
      "CAS Number    Amount (wt. %)\n",
      "------------  ----------------\n",
      "872-50-4\n"
     ]
    }
   ],
   "source": [
    "from tabulate import tabulate\n",
    "\n",
    "rows = [(substance.cas_number, substance.max_percentage_amount_in_material)\n",
    "        for substance in substances_by_part[WING]]\n",
    "\n",
    "print(f'Substances impacted by \"{SIN_LIST}\" in \"{WING}\"')\n",
    "print(tabulate(rows, headers=[\"CAS Number\", \"Amount (wt. %)\"]))"
   ]
  },
  {
   "cell_type": "markdown",
   "id": "fb98c98c",
   "metadata": {},
   "source": [
    "## Results Grouped by Legislation"
   ]
  },
  {
   "cell_type": "markdown",
   "id": "97f41e8c",
   "metadata": {},
   "source": [
    "This property merges the results across all parts, returning a single dictionary of legislations that contain\n",
    "all impacted substances for all parts."
   ]
  },
  {
   "cell_type": "markdown",
   "id": "dd1f5b22",
   "metadata": {},
   "source": [
    "As before, use the ``tabulate`` package to print a table of substances. This time we are including substances in\n",
    "all parts, but only those on the SIN List."
   ]
  },
  {
   "cell_type": "code",
   "execution_count": 7,
   "id": "0d1de79c",
   "metadata": {
    "execution": {
     "iopub.execute_input": "2022-02-07T18:56:27.080900Z",
     "iopub.status.busy": "2022-02-07T18:56:27.080178Z",
     "iopub.status.idle": "2022-02-07T18:56:27.082178Z",
     "shell.execute_reply": "2022-02-07T18:56:27.082506Z"
    },
    "tags": []
   },
   "outputs": [
    {
     "name": "stdout",
     "output_type": "stream",
     "text": [
      "Substances impacted by \"The SIN List 2.1 (Substitute It Now!)\" in all parts (10/80)\n",
      "CAS Number    Amount (wt. %)\n",
      "------------  ----------------\n",
      "11113-75-0\n",
      "12035-71-1\n",
      "12068-61-0\n",
      "12142-88-0\n",
      "13775-54-7\n",
      "21784-78-1\n",
      "27016-75-7\n",
      "31748-25-1\n",
      "69012-50-6\n",
      "302-01-2\n"
     ]
    }
   ],
   "source": [
    "part_substances_sin = part_result.impacted_substances_by_legislation[SIN_LIST]\n",
    "rows = [(substance.cas_number, substance.max_percentage_amount_in_material)\n",
    "        for substance in part_substances_sin]\n",
    "print(f'Substances impacted by \"{SIN_LIST}\" in all parts (10/{len(rows)})')\n",
    "print(tabulate(rows[:10], headers=[\"CAS Number\", \"Amount (wt. %)\"]))"
   ]
  },
  {
   "cell_type": "markdown",
   "id": "4efb61a0",
   "metadata": {},
   "source": [
    "## Results as a Flat List"
   ]
  },
  {
   "cell_type": "markdown",
   "id": "4bd6efbf",
   "metadata": {},
   "source": [
    "This property reduces the granularity further, producing a single flattened list of substances across all legislations\n",
    "and for all parts."
   ]
  },
  {
   "cell_type": "markdown",
   "id": "b802b819",
   "metadata": {},
   "source": [
    "Use the ``tabulate`` package to print a third table of substances. Because we are using the\n",
    "``impacted_substances`` property, we only have one list of ``ImpactedSubstance`` objects, which covers both\n",
    "legislations and both the parts specified above."
   ]
  },
  {
   "cell_type": "code",
   "execution_count": 8,
   "id": "e7221166",
   "metadata": {
    "execution": {
     "iopub.execute_input": "2022-02-07T18:56:27.086856Z",
     "iopub.status.busy": "2022-02-07T18:56:27.086450Z",
     "iopub.status.idle": "2022-02-07T18:56:27.088600Z",
     "shell.execute_reply": "2022-02-07T18:56:27.088275Z"
    },
    "tags": []
   },
   "outputs": [
    {
     "name": "stdout",
     "output_type": "stream",
     "text": [
      "Impacted substances across all legislations in \"DRILL\" (10/127)\n",
      "CAS Number    Amount (wt. %)\n",
      "------------  ----------------\n",
      "11113-75-0\n",
      "12035-71-1\n",
      "12068-61-0\n",
      "12142-88-0\n",
      "13775-54-7\n",
      "21784-78-1\n",
      "27016-75-7\n",
      "31748-25-1\n",
      "69012-50-6\n",
      "302-01-2\n"
     ]
    }
   ],
   "source": [
    "part_substances_all = part_result.impacted_substances\n",
    "rows = [(substance.cas_number, substance.max_percentage_amount_in_material)\n",
    "        for substance in part_substances_all]\n",
    "print(f'Impacted substances across all legislations in \"DRILL\" (10/{len(rows)})')\n",
    "print(tabulate(rows[:10], headers=[\"CAS Number\", \"Amount (wt. %)\"]))"
   ]
  }
 ],
 "metadata": {
  "jupytext": {
   "formats": "ipynb,py:light"
  },
  "kernelspec": {
   "display_name": "Python 3 (ipykernel)",
   "language": "python",
   "name": "python3"
  },
  "language_info": {
   "codemirror_mode": {
    "name": "ipython",
    "version": 3
   },
   "file_extension": ".py",
   "mimetype": "text/x-python",
   "name": "python",
   "nbconvert_exporter": "python",
   "pygments_lexer": "ipython3",
   "version": "3.10.2"
  }
 },
 "nbformat": 4,
 "nbformat_minor": 5
}
