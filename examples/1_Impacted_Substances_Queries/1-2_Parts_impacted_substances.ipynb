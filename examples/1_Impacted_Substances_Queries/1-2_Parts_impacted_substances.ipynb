{
 "cells": [
  {
   "cell_type": "markdown",
   "id": "338abefd",
   "metadata": {
    "tags": []
   },
   "source": [
    "# [TECHDOCS]Performing a Part Impacted Substances Query"
   ]
  },
  {
   "cell_type": "markdown",
   "id": "1c197236",
   "metadata": {},
   "source": [
    "A Part Impacted Substances Query is used to extract the substances associated with a part that are impacted by one or\n",
    "more defined legislations. The part record can represent either a single component, a sub-assembly, or a finished\n",
    "product, and therefore the substances can be associated with either the part record itself, or any other record that\n",
    "the part directly or indirectly references."
   ]
  },
  {
   "cell_type": "markdown",
   "id": "29c9548b",
   "metadata": {},
   "source": [
    "This example shows how to perform an Impacted Substance query on part records, and how to process the results."
   ]
  },
  {
   "cell_type": "markdown",
   "id": "a0cfa1d3",
   "metadata": {},
   "source": [
    "## Connecting to Granta MI"
   ]
  },
  {
   "cell_type": "markdown",
   "id": "dfacc2c1",
   "metadata": {},
   "source": [
    "Import the `Connection` class and create the connection. See the Getting Started example for more detail."
   ]
  },
  {
   "cell_type": "code",
   "execution_count": 1,
   "id": "37b0531f",
   "metadata": {
    "execution": {
     "iopub.execute_input": "2022-01-19T18:13:58.077070Z",
     "iopub.status.busy": "2022-01-19T18:13:58.076595Z",
     "iopub.status.idle": "2022-01-19T18:13:58.620066Z",
     "shell.execute_reply": "2022-01-19T18:13:58.618673Z"
    },
    "tags": []
   },
   "outputs": [],
   "source": [
    "from ansys.grantami.bomanalytics import Connection\n",
    "\n",
    "server_url = \"http://my_grantami_service/mi_servicelayer\"\n",
    "cxn = Connection(server_url).with_credentials(\"user_name\", \"password\").connect()"
   ]
  },
  {
   "cell_type": "markdown",
   "id": "fee34c2a",
   "metadata": {
    "tags": []
   },
   "source": [
    "## Building and Running the Query"
   ]
  },
  {
   "cell_type": "markdown",
   "id": "d256d849",
   "metadata": {},
   "source": [
    "The query is assembled by providing a list of part references and legislations of interest. The query will return\n",
    "the substances that are present in the specified parts and are impacted by the specified legislations.\n",
    "\n",
    "In this example, the 'Drill' part will be used. In contrast to the Material version of this query shown in\n",
    "a previous example, the Drill part does not reference any substances directly. Instead, it references\n",
    "sub-components, which in turn reference materials, which then reference substances. The Part Impacted Substances\n",
    "Query flattens all these layers of complexity and aggregates them together into a single list."
   ]
  },
  {
   "cell_type": "markdown",
   "id": "088b2463",
   "metadata": {},
   "source": [
    "First specify some constants that contain the part and legislation references we will use."
   ]
  },
  {
   "cell_type": "code",
   "execution_count": 2,
   "id": "90616c1e",
   "metadata": {
    "execution": {
     "iopub.execute_input": "2022-01-19T18:13:58.623955Z",
     "iopub.status.busy": "2022-01-19T18:13:58.622999Z",
     "iopub.status.idle": "2022-01-19T18:13:58.625994Z",
     "shell.execute_reply": "2022-01-19T18:13:58.626852Z"
    },
    "tags": []
   },
   "outputs": [],
   "source": [
    "DRILL = \"DRILL\"\n",
    "WING = \"asm_flap_mating\"\n",
    "SIN_LIST = \"The SIN List 2.1 (Substitute It Now!)\"\n",
    "REACH = \"REACH - The Candidate List\""
   ]
  },
  {
   "cell_type": "markdown",
   "id": "ecd78662",
   "metadata": {},
   "source": [
    "Next import the queries module and build the query with the references in the previous cell."
   ]
  },
  {
   "cell_type": "code",
   "execution_count": 3,
   "id": "20636ca9",
   "metadata": {
    "execution": {
     "iopub.execute_input": "2022-01-19T18:13:58.630306Z",
     "iopub.status.busy": "2022-01-19T18:13:58.629482Z",
     "iopub.status.idle": "2022-01-19T18:13:58.640857Z",
     "shell.execute_reply": "2022-01-19T18:13:58.641463Z"
    },
    "tags": []
   },
   "outputs": [],
   "source": [
    "from ansys.grantami.bomanalytics import queries\n",
    "\n",
    "part_query = (\n",
    "    queries.PartImpactedSubstancesQuery()\n",
    "    .with_part_numbers([DRILL, WING])\n",
    "    .with_legislations([SIN_LIST, REACH])\n",
    ")"
   ]
  },
  {
   "cell_type": "markdown",
   "id": "c9d4df6c",
   "metadata": {},
   "source": [
    "Finally, run the query. Passing a `PartImpactedSubstancesQuery` object to the `Connection.run()` method returns a\n",
    "`PartImpactedSubstancesQueryResult` object."
   ]
  },
  {
   "cell_type": "code",
   "execution_count": 4,
   "id": "a73d17a0",
   "metadata": {
    "execution": {
     "iopub.execute_input": "2022-01-19T18:13:58.646790Z",
     "iopub.status.busy": "2022-01-19T18:13:58.646069Z",
     "iopub.status.idle": "2022-01-19T18:14:03.080418Z",
     "shell.execute_reply": "2022-01-19T18:14:03.080803Z"
    },
    "tags": []
   },
   "outputs": [
    {
     "data": {
      "text/plain": [
       "<PartImpactedSubstancesQueryResult: 2 PartWithImpactedSubstances results>"
      ]
     },
     "execution_count": 4,
     "metadata": {},
     "output_type": "execute_result"
    }
   ],
   "source": [
    "part_result = cxn.run(part_query)\n",
    "part_result"
   ]
  },
  {
   "cell_type": "markdown",
   "id": "b6cc36ad",
   "metadata": {},
   "source": [
    "A `PartImpactedSubstancesQueryResult` object contains three properties:\n",
    "`impacted_substances_by_part`, `impacted_substances_by_legislation`, and `impacted_substances`. They provide different\n",
    "views of the impacted substances at different levels of granularity."
   ]
  },
  {
   "cell_type": "markdown",
   "id": "74b15a01",
   "metadata": {},
   "source": [
    "## impacted_substances_by_part"
   ]
  },
  {
   "cell_type": "markdown",
   "id": "923bfb44",
   "metadata": {},
   "source": [
    "This property is structured first as a list of `partWithImpactedSubstancesResult` objects, each of which contains\n",
    "a dictionary of lists of `ImpactedSubstance` objects keyed by legislation, or a single flat list of all\n",
    "substances."
   ]
  },
  {
   "cell_type": "markdown",
   "id": "2885542e",
   "metadata": {},
   "source": [
    "First, we can simplify the structure somewhat because we are only using only Part Numbers. The cell below creates a\n",
    "dictionary that maps Part Numbers to lists of substances impacted by the 'SIN List'."
   ]
  },
  {
   "cell_type": "code",
   "execution_count": 5,
   "id": "2b67ca7a",
   "metadata": {
    "execution": {
     "iopub.execute_input": "2022-01-19T18:14:03.085714Z",
     "iopub.status.busy": "2022-01-19T18:14:03.084685Z",
     "iopub.status.idle": "2022-01-19T18:14:03.086237Z",
     "shell.execute_reply": "2022-01-19T18:14:03.086603Z"
    },
    "tags": []
   },
   "outputs": [],
   "source": [
    "substances_by_part = {}\n",
    "for part in part_result.impacted_substances_by_part:\n",
    "    part_substances = part.substances_by_legislation[SIN_LIST]\n",
    "    substances_by_part[part.part_number] = part_substances"
   ]
  },
  {
   "cell_type": "markdown",
   "id": "12d7ef5d",
   "metadata": {},
   "source": [
    "Then use the `tabulate` package to print a table of the substances and their quantities for the Wing assembly only."
   ]
  },
  {
   "cell_type": "code",
   "execution_count": 6,
   "id": "9e5e5599",
   "metadata": {
    "execution": {
     "iopub.execute_input": "2022-01-19T18:14:03.093925Z",
     "iopub.status.busy": "2022-01-19T18:14:03.090356Z",
     "iopub.status.idle": "2022-01-19T18:14:03.095882Z",
     "shell.execute_reply": "2022-01-19T18:14:03.096252Z"
    },
    "tags": []
   },
   "outputs": [
    {
     "name": "stdout",
     "output_type": "stream",
     "text": [
      "Substances impacted by \"The SIN List 2.1 (Substitute It Now!)\" in \"asm_flap_mating\"\n",
      "CAS Number    Amount (wt. %)\n",
      "------------  ----------------\n",
      "872-50-4\n"
     ]
    }
   ],
   "source": [
    "from tabulate import tabulate\n",
    "\n",
    "rows = [(substance.cas_number, substance.max_percentage_amount_in_material)\n",
    "        for substance in substances_by_part[WING]]\n",
    "\n",
    "print(f'Substances impacted by \"{SIN_LIST}\" in \"{WING}\"')\n",
    "print(tabulate(rows, headers=[\"CAS Number\", \"Amount (wt. %)\"]))"
   ]
  },
  {
   "cell_type": "markdown",
   "id": "b8a62cc5",
   "metadata": {},
   "source": [
    "## impacted_substances_by_legislation"
   ]
  },
  {
   "cell_type": "markdown",
   "id": "27947c53",
   "metadata": {},
   "source": [
    "This property merges the results across all parts, resulting in a single dictionary of legislations that contain\n",
    "all impacted substances for all parts."
   ]
  },
  {
   "cell_type": "markdown",
   "id": "76bd7718",
   "metadata": {},
   "source": [
    "Again we use the `tabulate` package to print a table of substances, but this time we are including the substances in\n",
    "all parts, but again limited to the SIN List only."
   ]
  },
  {
   "cell_type": "code",
   "execution_count": 7,
   "id": "7f5f6db8",
   "metadata": {
    "execution": {
     "iopub.execute_input": "2022-01-19T18:14:03.102572Z",
     "iopub.status.busy": "2022-01-19T18:14:03.101502Z",
     "iopub.status.idle": "2022-01-19T18:14:03.104168Z",
     "shell.execute_reply": "2022-01-19T18:14:03.103768Z"
    },
    "tags": []
   },
   "outputs": [
    {
     "name": "stdout",
     "output_type": "stream",
     "text": [
      "Substances impacted by \"The SIN List 2.1 (Substitute It Now!)\" in all parts (10/80)\n",
      "CAS Number    Amount (wt. %)\n",
      "------------  ----------------\n",
      "11113-75-0\n",
      "12035-71-1\n",
      "12068-61-0\n",
      "12142-88-0\n",
      "13775-54-7\n",
      "21784-78-1\n",
      "27016-75-7\n",
      "31748-25-1\n",
      "69012-50-6\n",
      "302-01-2\n"
     ]
    }
   ],
   "source": [
    "part_substances_sin = part_result.impacted_substances_by_legislation[SIN_LIST]\n",
    "rows = [(substance.cas_number, substance.max_percentage_amount_in_material)\n",
    "        for substance in part_substances_sin]\n",
    "print(f'Substances impacted by \"{SIN_LIST}\" in all parts (10/{len(rows)})')\n",
    "print(tabulate(rows[:10], headers=[\"CAS Number\", \"Amount (wt. %)\"]))"
   ]
  },
  {
   "cell_type": "markdown",
   "id": "6828c5cd",
   "metadata": {},
   "source": [
    "## impacted_substances"
   ]
  },
  {
   "cell_type": "markdown",
   "id": "a5644467",
   "metadata": {},
   "source": [
    "This property reduces the granularity further to produce a single flattened list of substances across all legislations\n",
    "for all parts."
   ]
  },
  {
   "cell_type": "markdown",
   "id": "f0bfe54f",
   "metadata": {},
   "source": [
    "The cell below uses the `tabulate` package to print a table of substances. Because we are using the\n",
    "`impacted_substances` property, we only have one list of `ImpactedSubstance` objects which covers both legislations\n",
    "and both parts."
   ]
  },
  {
   "cell_type": "code",
   "execution_count": 8,
   "id": "925db63f",
   "metadata": {
    "execution": {
     "iopub.execute_input": "2022-01-19T18:14:03.108893Z",
     "iopub.status.busy": "2022-01-19T18:14:03.108370Z",
     "iopub.status.idle": "2022-01-19T18:14:03.110266Z",
     "shell.execute_reply": "2022-01-19T18:14:03.110608Z"
    },
    "tags": []
   },
   "outputs": [
    {
     "name": "stdout",
     "output_type": "stream",
     "text": [
      "Impacted substances across all legislations in \"DRILL\" (10/127)\n",
      "CAS Number    Amount (wt. %)\n",
      "------------  ----------------\n",
      "11113-75-0\n",
      "12035-71-1\n",
      "12068-61-0\n",
      "12142-88-0\n",
      "13775-54-7\n",
      "21784-78-1\n",
      "27016-75-7\n",
      "31748-25-1\n",
      "69012-50-6\n",
      "302-01-2\n"
     ]
    }
   ],
   "source": [
    "part_substances_all = part_result.impacted_substances\n",
    "rows = [(substance.cas_number, substance.max_percentage_amount_in_material)\n",
    "        for substance in part_substances_all]\n",
    "print(f'Impacted substances across all legislations in \"DRILL\" (10/{len(rows)})')\n",
    "print(tabulate(rows[:10], headers=[\"CAS Number\", \"Amount (wt. %)\"]))"
   ]
  }
 ],
 "metadata": {
  "jupytext": {
   "formats": "ipynb,py:light"
  },
  "kernelspec": {
   "display_name": "Python 3 (ipykernel)",
   "language": "python",
   "name": "python3"
  },
  "language_info": {
   "codemirror_mode": {
    "name": "ipython",
    "version": 3
   },
   "file_extension": ".py",
   "mimetype": "text/x-python",
   "name": "python",
   "nbconvert_exporter": "python",
   "pygments_lexer": "ipython3",
   "version": "3.10.1"
  }
 },
 "nbformat": 4,
 "nbformat_minor": 5
}
