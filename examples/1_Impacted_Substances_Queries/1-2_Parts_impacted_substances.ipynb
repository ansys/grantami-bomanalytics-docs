{
 "cells": [
  {
   "cell_type": "markdown",
   "id": "a54a6192",
   "metadata": {
    "tags": []
   },
   "source": [
    "# Performing a Part Impacted Substances Query"
   ]
  },
  {
   "cell_type": "markdown",
   "id": "b73fbec5",
   "metadata": {},
   "source": [
    "A Part Impacted Substances Query is used to determine the substances associated with a part that are impacted by one\n",
    "or more defined legislations. The part record can represent either a single component, a subassembly, or a finished\n",
    "product, and therefore the substances can be associated with either the part record itself, or any other record that\n",
    "the part directly or indirectly references."
   ]
  },
  {
   "cell_type": "markdown",
   "id": "f4974551",
   "metadata": {},
   "source": [
    "This example shows how to perform an Impacted Substance query on part records, and how to process the results."
   ]
  },
  {
   "cell_type": "markdown",
   "id": "d6f30d1d",
   "metadata": {},
   "source": [
    "## Connecting to Granta MI"
   ]
  },
  {
   "cell_type": "markdown",
   "id": "a24eac2d",
   "metadata": {},
   "source": [
    "Import the ``Connection`` class and create the connection. See the [Getting Started](../0_Getting_started.ipynb)\n",
    "example for more details."
   ]
  },
  {
   "cell_type": "code",
   "execution_count": 1,
   "id": "f9026579",
   "metadata": {
    "execution": {
     "iopub.execute_input": "2022-12-15T23:20:59.489086Z",
     "iopub.status.busy": "2022-12-15T23:20:59.488710Z",
     "iopub.status.idle": "2022-12-15T23:21:00.284120Z",
     "shell.execute_reply": "2022-12-15T23:21:00.283501Z"
    },
    "tags": []
   },
   "outputs": [],
   "source": [
    "from ansys.grantami.bomanalytics import Connection\n",
    "\n",
    "server_url = \"http://my_grantami_server/mi_servicelayer\"\n",
    "cxn = Connection(server_url).with_credentials(\"user_name\", \"password\").connect()"
   ]
  },
  {
   "cell_type": "markdown",
   "id": "b5cbf4a5",
   "metadata": {
    "tags": []
   },
   "source": [
    "## Building and Running the Query"
   ]
  },
  {
   "cell_type": "markdown",
   "id": "36e3f546",
   "metadata": {},
   "source": [
    "The query is assembled by providing lists of part references and legislations of interest. The query will return\n",
    "the substances that are present in the specified parts and are impacted by the specified legislations.\n",
    "\n",
    "In this example, the 'Drill' part will be used. In contrast to the Material version of this query shown in\n",
    "a previous example, the Drill part does not reference any substances directly. Instead, it references\n",
    "sub-components, which in turn reference materials, which then reference substances. The Part Impacted Substances\n",
    "Query flattens all these layers of complexity and aggregates them together into a single list."
   ]
  },
  {
   "cell_type": "markdown",
   "id": "ba02519f",
   "metadata": {},
   "source": [
    "First specify some constants that contain the part and legislation references we will use."
   ]
  },
  {
   "cell_type": "code",
   "execution_count": 2,
   "id": "256963e9",
   "metadata": {
    "execution": {
     "iopub.execute_input": "2022-12-15T23:21:00.287803Z",
     "iopub.status.busy": "2022-12-15T23:21:00.287584Z",
     "iopub.status.idle": "2022-12-15T23:21:00.291793Z",
     "shell.execute_reply": "2022-12-15T23:21:00.291247Z"
    },
    "tags": []
   },
   "outputs": [],
   "source": [
    "DRILL = \"DRILL\"\n",
    "WING = \"asm_flap_mating\"\n",
    "SIN_LIST = \"The SIN List 2.1 (Substitute It Now!)\"\n",
    "REACH = \"REACH - The Candidate List\""
   ]
  },
  {
   "cell_type": "markdown",
   "id": "0c8e4dac",
   "metadata": {},
   "source": [
    "Next, import the ``queries`` module and build the query with the references in the previous cell."
   ]
  },
  {
   "cell_type": "code",
   "execution_count": 3,
   "id": "a06d6d04",
   "metadata": {
    "execution": {
     "iopub.execute_input": "2022-12-15T23:21:00.294637Z",
     "iopub.status.busy": "2022-12-15T23:21:00.294433Z",
     "iopub.status.idle": "2022-12-15T23:21:00.297765Z",
     "shell.execute_reply": "2022-12-15T23:21:00.297174Z"
    },
    "tags": []
   },
   "outputs": [],
   "source": [
    "from ansys.grantami.bomanalytics import queries\n",
    "\n",
    "part_query = (\n",
    "    queries.PartImpactedSubstancesQuery()\n",
    "    .with_part_numbers([DRILL, WING])\n",
    "    .with_legislations([SIN_LIST, REACH])\n",
    ")"
   ]
  },
  {
   "cell_type": "markdown",
   "id": "6fc675ec",
   "metadata": {},
   "source": [
    "Finally, run the query. Passing a ``PartImpactedSubstancesQuery`` object to the ``Connection.run()`` method returns a\n",
    "``PartImpactedSubstancesQueryResult`` object."
   ]
  },
  {
   "cell_type": "code",
   "execution_count": 4,
   "id": "94f07b2c",
   "metadata": {
    "execution": {
     "iopub.execute_input": "2022-12-15T23:21:00.300766Z",
     "iopub.status.busy": "2022-12-15T23:21:00.300557Z",
     "iopub.status.idle": "2022-12-15T23:21:03.846913Z",
     "shell.execute_reply": "2022-12-15T23:21:03.846234Z"
    },
    "tags": []
   },
   "outputs": [
    {
     "data": {
      "text/plain": [
       "<PartImpactedSubstancesQueryResult: 2 PartWithImpactedSubstances results>"
      ]
     },
     "execution_count": 4,
     "metadata": {},
     "output_type": "execute_result"
    }
   ],
   "source": [
    "part_result = cxn.run(part_query)\n",
    "part_result"
   ]
  },
  {
   "cell_type": "markdown",
   "id": "e8bc2a65",
   "metadata": {},
   "source": [
    "A ``PartImpactedSubstancesQueryResult`` object contains three properties:\n",
    "``impacted_substances_by_part``, ``impacted_substances_by_legislation`` and ``impacted_substances``. They provide\n",
    "different views of the impacted substances at different levels of granularity."
   ]
  },
  {
   "cell_type": "markdown",
   "id": "eb6617a1",
   "metadata": {},
   "source": [
    "## Results Grouped by Part"
   ]
  },
  {
   "cell_type": "markdown",
   "id": "2135f5b9",
   "metadata": {},
   "source": [
    "This property is structured first as a list of ``PartWithImpactedSubstancesResult`` objects, each of which contains\n",
    "a dictionary of lists of ``ImpactedSubstance`` objects keyed by legislation, or a single flat list of all\n",
    "substances."
   ]
  },
  {
   "cell_type": "markdown",
   "id": "f449589b",
   "metadata": {},
   "source": [
    "We can simplify the structure because we are only using Part Numbers. First, create a\n",
    "dictionary that maps Part Numbers to lists of substances impacted by the 'SIN List'."
   ]
  },
  {
   "cell_type": "code",
   "execution_count": 5,
   "id": "ddaf1509",
   "metadata": {
    "execution": {
     "iopub.execute_input": "2022-12-15T23:21:03.850884Z",
     "iopub.status.busy": "2022-12-15T23:21:03.850608Z",
     "iopub.status.idle": "2022-12-15T23:21:03.854128Z",
     "shell.execute_reply": "2022-12-15T23:21:03.853520Z"
    },
    "tags": []
   },
   "outputs": [],
   "source": [
    "substances_by_part = {}\n",
    "for part in part_result.impacted_substances_by_part:\n",
    "    part_substances = part.substances_by_legislation[SIN_LIST]\n",
    "    substances_by_part[part.part_number] = part_substances"
   ]
  },
  {
   "cell_type": "markdown",
   "id": "624644c0",
   "metadata": {},
   "source": [
    "Then use the ``tabulate`` package to print a table of the substances and their quantities for the wing assembly only."
   ]
  },
  {
   "cell_type": "code",
   "execution_count": 6,
   "id": "b2a45473",
   "metadata": {
    "execution": {
     "iopub.execute_input": "2022-12-15T23:21:03.857046Z",
     "iopub.status.busy": "2022-12-15T23:21:03.856831Z",
     "iopub.status.idle": "2022-12-15T23:21:03.864942Z",
     "shell.execute_reply": "2022-12-15T23:21:03.864380Z"
    },
    "tags": []
   },
   "outputs": [
    {
     "name": "stdout",
     "output_type": "stream",
     "text": [
      "Substances impacted by \"The SIN List 2.1 (Substitute It Now!)\" in \"asm_flap_mating\"\n",
      "CAS Number    Amount (wt. %)\n",
      "------------  ----------------\n",
      "872-50-4\n"
     ]
    }
   ],
   "source": [
    "from tabulate import tabulate\n",
    "\n",
    "rows = [(substance.cas_number, substance.max_percentage_amount_in_material)\n",
    "        for substance in substances_by_part[WING]]\n",
    "\n",
    "print(f'Substances impacted by \"{SIN_LIST}\" in \"{WING}\"')\n",
    "print(tabulate(rows, headers=[\"CAS Number\", \"Amount (wt. %)\"]))"
   ]
  },
  {
   "cell_type": "markdown",
   "id": "db750f6e",
   "metadata": {},
   "source": [
    "## Results Grouped by Legislation"
   ]
  },
  {
   "cell_type": "markdown",
   "id": "05679113",
   "metadata": {},
   "source": [
    "This property merges the results across all parts, returning a single dictionary of legislations that contain\n",
    "all impacted substances for all parts."
   ]
  },
  {
   "cell_type": "markdown",
   "id": "6c7ce039",
   "metadata": {},
   "source": [
    "As before, use the ``tabulate`` package to print a table of substances. This time we are including substances in\n",
    "all parts, but only those on the SIN List."
   ]
  },
  {
   "cell_type": "code",
   "execution_count": 7,
   "id": "54c6bc85",
   "metadata": {
    "execution": {
     "iopub.execute_input": "2022-12-15T23:21:03.867980Z",
     "iopub.status.busy": "2022-12-15T23:21:03.867771Z",
     "iopub.status.idle": "2022-12-15T23:21:03.872300Z",
     "shell.execute_reply": "2022-12-15T23:21:03.871675Z"
    },
    "tags": []
   },
   "outputs": [
    {
     "name": "stdout",
     "output_type": "stream",
     "text": [
      "Substances impacted by \"The SIN List 2.1 (Substitute It Now!)\" in all parts (10/80)\n",
      "CAS Number    Amount (wt. %)\n",
      "------------  ----------------\n",
      "11113-75-0\n",
      "12035-71-1\n",
      "12068-61-0\n",
      "12142-88-0\n",
      "13775-54-7\n",
      "21784-78-1\n",
      "27016-75-7\n",
      "31748-25-1\n",
      "69012-50-6\n",
      "302-01-2\n"
     ]
    }
   ],
   "source": [
    "part_substances_sin = part_result.impacted_substances_by_legislation[SIN_LIST]\n",
    "rows = [(substance.cas_number, substance.max_percentage_amount_in_material)\n",
    "        for substance in part_substances_sin]\n",
    "print(f'Substances impacted by \"{SIN_LIST}\" in all parts (10/{len(rows)})')\n",
    "print(tabulate(rows[:10], headers=[\"CAS Number\", \"Amount (wt. %)\"]))"
   ]
  },
  {
   "cell_type": "markdown",
   "id": "0ae02a4f",
   "metadata": {},
   "source": [
    "## Results as a Flat List"
   ]
  },
  {
   "cell_type": "markdown",
   "id": "b58b05c2",
   "metadata": {},
   "source": [
    "This property reduces the granularity further, producing a single flattened list of substances across all legislations\n",
    "and for all parts."
   ]
  },
  {
   "cell_type": "markdown",
   "id": "39ec7847",
   "metadata": {},
   "source": [
    "Use the ``tabulate`` package to print a third table of substances. Because we are using the\n",
    "``impacted_substances`` property, we only have one list of ``ImpactedSubstance`` objects, which covers both\n",
    "legislations and both the parts specified above."
   ]
  },
  {
   "cell_type": "code",
   "execution_count": 8,
   "id": "09939af7",
   "metadata": {
    "execution": {
     "iopub.execute_input": "2022-12-15T23:21:03.876137Z",
     "iopub.status.busy": "2022-12-15T23:21:03.875935Z",
     "iopub.status.idle": "2022-12-15T23:21:03.880529Z",
     "shell.execute_reply": "2022-12-15T23:21:03.879891Z"
    },
    "tags": []
   },
   "outputs": [
    {
     "name": "stdout",
     "output_type": "stream",
     "text": [
      "Impacted substances across all legislations in \"DRILL\" (10/127)\n",
      "CAS Number    Amount (wt. %)\n",
      "------------  ----------------\n",
      "11113-75-0\n",
      "12035-71-1\n",
      "12068-61-0\n",
      "12142-88-0\n",
      "13775-54-7\n",
      "21784-78-1\n",
      "27016-75-7\n",
      "31748-25-1\n",
      "69012-50-6\n",
      "302-01-2\n"
     ]
    }
   ],
   "source": [
    "part_substances_all = part_result.impacted_substances\n",
    "rows = [(substance.cas_number, substance.max_percentage_amount_in_material)\n",
    "        for substance in part_substances_all]\n",
    "print(f'Impacted substances across all legislations in \"DRILL\" (10/{len(rows)})')\n",
    "print(tabulate(rows[:10], headers=[\"CAS Number\", \"Amount (wt. %)\"]))"
   ]
  }
 ],
 "metadata": {
  "jupytext": {
   "formats": "ipynb,py:light"
  },
  "kernelspec": {
   "display_name": "Python 3 (ipykernel)",
   "language": "python",
   "name": "python3"
  },
  "language_info": {
   "codemirror_mode": {
    "name": "ipython",
    "version": 3
   },
   "file_extension": ".py",
   "mimetype": "text/x-python",
   "name": "python",
   "nbconvert_exporter": "python",
   "pygments_lexer": "ipython3",
   "version": "3.9.16"
  }
 },
 "nbformat": 4,
 "nbformat_minor": 5
}
