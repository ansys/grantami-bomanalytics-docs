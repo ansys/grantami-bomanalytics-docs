{
 "cells": [
  {
   "cell_type": "markdown",
   "id": "5cbc6b91",
   "metadata": {},
   "source": [
    "# [TECHDOCS]Performing a Substance Compliance Query"
   ]
  },
  {
   "cell_type": "markdown",
   "id": "63496ecf",
   "metadata": {},
   "source": [
    "A Substance Compliance Query determines whether one or more substances are compliant with the specified indicators."
   ]
  },
  {
   "cell_type": "markdown",
   "id": "0de1d0ec",
   "metadata": {},
   "source": [
    "## Connecting to Granta MI"
   ]
  },
  {
   "cell_type": "markdown",
   "id": "7e5bbd3f",
   "metadata": {},
   "source": [
    "Import the `Connection` class and create the connection. See the Getting Started example for more detail."
   ]
  },
  {
   "cell_type": "code",
   "execution_count": 1,
   "id": "2e707171",
   "metadata": {
    "execution": {
     "iopub.execute_input": "2022-01-19T18:14:05.344978Z",
     "iopub.status.busy": "2022-01-19T18:14:05.344472Z",
     "iopub.status.idle": "2022-01-19T18:14:05.904224Z",
     "shell.execute_reply": "2022-01-19T18:14:05.904692Z"
    },
    "tags": []
   },
   "outputs": [],
   "source": [
    "from ansys.grantami.bomanalytics import Connection\n",
    "\n",
    "server_url = \"http://my_grantami_service/mi_servicelayer\"\n",
    "cxn = Connection(server_url).with_credentials(\"user_name\", \"password\").connect()"
   ]
  },
  {
   "cell_type": "markdown",
   "id": "174371de",
   "metadata": {},
   "source": [
    "## Defining an Indicator"
   ]
  },
  {
   "cell_type": "markdown",
   "id": "b18f892f",
   "metadata": {},
   "source": [
    "In contrast to an ImpactedSubstances query, a Compliance query determines compliance against 'Indicators' as opposed\n",
    "to directly against legislations.\n",
    "\n",
    "There are two types of Indicator, the differences between the two are described elsewhere in the documentation. The\n",
    "differences are in the internal implementation, and the interface presented here applies to both `WatchListIndicator`\n",
    "objects and `RohsIndicator` objects.\n",
    "\n",
    "Generally speaking, if a substance is impacted by a legislation that is associated with an indicator in a quantity\n",
    "above a threshold, the substance is non-compliant with that indicator. This non-compliance then rolls up the BoM\n",
    "hierarchy to any other items that directly or indirectly include that substance."
   ]
  },
  {
   "cell_type": "markdown",
   "id": "7aec117b",
   "metadata": {},
   "source": [
    "The cell below creates two Indicators."
   ]
  },
  {
   "cell_type": "code",
   "execution_count": 2,
   "id": "b42cc627",
   "metadata": {
    "execution": {
     "iopub.execute_input": "2022-01-19T18:14:05.909538Z",
     "iopub.status.busy": "2022-01-19T18:14:05.909083Z",
     "iopub.status.idle": "2022-01-19T18:14:05.912976Z",
     "shell.execute_reply": "2022-01-19T18:14:05.912525Z"
    },
    "lines_to_next_cell": 2,
    "tags": []
   },
   "outputs": [],
   "source": [
    "from ansys.grantami.bomanalytics import indicators\n",
    "\n",
    "svhc = indicators.WatchListIndicator(\n",
    "    name=\"SVHC\",\n",
    "    legislation_names=[\"REACH - The Candidate List\"],\n",
    "    default_threshold_percentage=0.1,\n",
    ")\n",
    "sin = indicators.WatchListIndicator(\n",
    "    name=\"SIN\",\n",
    "    legislation_names=[\"The SIN List 2.1 (Substitute It Now!)\"]\n",
    ")"
   ]
  },
  {
   "cell_type": "markdown",
   "id": "e47c7d51",
   "metadata": {
    "tags": []
   },
   "source": [
    "## Building and Running the Query"
   ]
  },
  {
   "cell_type": "markdown",
   "id": "dc67d573",
   "metadata": {},
   "source": [
    "Next define the query itself. Substances can be referenced by any typical Granta MI record reference, or by CAS\n",
    "Number, EC Number, or Chemical Name.\n",
    "The quantity of substance is optional; if not specified it will default to 100% (the worst case scenario)."
   ]
  },
  {
   "cell_type": "code",
   "execution_count": 3,
   "id": "8c7b3912",
   "metadata": {
    "execution": {
     "iopub.execute_input": "2022-01-19T18:14:05.917083Z",
     "iopub.status.busy": "2022-01-19T18:14:05.916601Z",
     "iopub.status.idle": "2022-01-19T18:14:05.925754Z",
     "shell.execute_reply": "2022-01-19T18:14:05.925309Z"
    },
    "tags": []
   },
   "outputs": [],
   "source": [
    "from ansys.grantami.bomanalytics import queries\n",
    "\n",
    "sub_query = queries.SubstanceComplianceQuery().with_indicators([svhc, sin])\n",
    "sub_query = sub_query.with_cas_numbers_and_amounts([(\"50-00-0\", 10),\n",
    "                                                    (\"110-00-9\", 25),\n",
    "                                                    (\"302-17-0\", 100),\n",
    "                                                    (\"7440-23-5\", 100)])"
   ]
  },
  {
   "cell_type": "markdown",
   "id": "2cf62b8d",
   "metadata": {},
   "source": [
    "Finally, run the query. Passing a `SubstanceComplianceQuery` object to the `Connection.run()` method returns a\n",
    "`SubstanceComplianceQueryResult` object."
   ]
  },
  {
   "cell_type": "code",
   "execution_count": 4,
   "id": "97bc1963",
   "metadata": {
    "execution": {
     "iopub.execute_input": "2022-01-19T18:14:05.931097Z",
     "iopub.status.busy": "2022-01-19T18:14:05.930577Z",
     "iopub.status.idle": "2022-01-19T18:14:06.352385Z",
     "shell.execute_reply": "2022-01-19T18:14:06.352794Z"
    },
    "tags": []
   },
   "outputs": [
    {
     "data": {
      "text/plain": [
       "<SubstanceComplianceQueryResult: 4 SubstanceWithCompliance results>"
      ]
     },
     "execution_count": 4,
     "metadata": {},
     "output_type": "execute_result"
    }
   ],
   "source": [
    "sub_result = cxn.run(sub_query)\n",
    "sub_result"
   ]
  },
  {
   "cell_type": "markdown",
   "id": "d1101d1f",
   "metadata": {
    "tags": []
   },
   "source": [
    "The result object contains two properties, `compliance_by_substance_and_indicator` and `compliance_by_indicator`."
   ]
  },
  {
   "cell_type": "markdown",
   "id": "0ce92be9",
   "metadata": {},
   "source": [
    "## compliance_by_substance_and_indicator"
   ]
  },
  {
   "cell_type": "markdown",
   "id": "f80ab987",
   "metadata": {
    "tags": []
   },
   "source": [
    "`compliance_by_substance_and_indicator` contains a list of `SubstanceWithComplianceResult` objects that contain the\n",
    "reference to the substance record and the compliance status in the list of indicators. To determine which substances\n",
    "are compliant, we can loop over each one and compare the indicator to a certain threshold. For this example, we will\n",
    "only examine the SVHC indicator."
   ]
  },
  {
   "cell_type": "markdown",
   "id": "dab9ddaf",
   "metadata": {},
   "source": [
    "The possible states of the indicator are available on the `Indicator.available_flags` attribute, and can be compared\n",
    "using standard Python operators."
   ]
  },
  {
   "cell_type": "code",
   "execution_count": 5,
   "id": "503c5ea2",
   "metadata": {
    "execution": {
     "iopub.execute_input": "2022-01-19T18:14:06.358354Z",
     "iopub.status.busy": "2022-01-19T18:14:06.357265Z",
     "iopub.status.idle": "2022-01-19T18:14:06.358872Z",
     "shell.execute_reply": "2022-01-19T18:14:06.359232Z"
    },
    "tags": []
   },
   "outputs": [],
   "source": [
    "compliant_substances = []\n",
    "non_compliant_substances = []\n",
    "threshold = svhc.available_flags.WatchListAboveThreshold\n",
    "\n",
    "for substance in sub_result.compliance_by_substance_and_indicator:\n",
    "    if (substance.indicators[\"SVHC\"] >= threshold):\n",
    "        non_compliant_substances.append(substance)\n",
    "    else:\n",
    "        compliant_substances.append(substance)"
   ]
  },
  {
   "cell_type": "markdown",
   "id": "9ea93b3b",
   "metadata": {},
   "source": [
    "Now print the SVHC and Non-SVHC substances."
   ]
  },
  {
   "cell_type": "code",
   "execution_count": 6,
   "id": "faa4c13e",
   "metadata": {
    "execution": {
     "iopub.execute_input": "2022-01-19T18:14:06.363110Z",
     "iopub.status.busy": "2022-01-19T18:14:06.362651Z",
     "iopub.status.idle": "2022-01-19T18:14:06.364464Z",
     "shell.execute_reply": "2022-01-19T18:14:06.364850Z"
    },
    "tags": []
   },
   "outputs": [
    {
     "name": "stdout",
     "output_type": "stream",
     "text": [
      "Non-SVHC substances: 50-00-0, 302-17-0, 7440-23-5\n"
     ]
    }
   ],
   "source": [
    "compliant_cas_numbers = [sub.cas_number for sub in compliant_substances]\n",
    "print(f'Non-SVHC substances: {\", \".join(compliant_cas_numbers)}')"
   ]
  },
  {
   "cell_type": "code",
   "execution_count": 7,
   "id": "c9b945c4",
   "metadata": {
    "execution": {
     "iopub.execute_input": "2022-01-19T18:14:06.369661Z",
     "iopub.status.busy": "2022-01-19T18:14:06.368636Z",
     "iopub.status.idle": "2022-01-19T18:14:06.371194Z",
     "shell.execute_reply": "2022-01-19T18:14:06.370808Z"
    },
    "tags": []
   },
   "outputs": [
    {
     "name": "stdout",
     "output_type": "stream",
     "text": [
      "SVHCs: 110-00-9\n"
     ]
    }
   ],
   "source": [
    "non_compliant_cas_numbers = [sub.cas_number for sub in non_compliant_substances]\n",
    "print(f'SVHCs: {\", \".join(non_compliant_cas_numbers)}')"
   ]
  },
  {
   "cell_type": "markdown",
   "id": "6172e069",
   "metadata": {},
   "source": [
    "## compliance_by_indicator"
   ]
  },
  {
   "cell_type": "markdown",
   "id": "9b6d8555",
   "metadata": {},
   "source": [
    "Alternatively, using the `compliance_by_indicator` property will give us a single indicator result that rolls up the\n",
    "results across all substances in the query. This would be useful in a situation where we have a 'concept' material\n",
    "stored outside of Granta MI, and we want to determine its compliance. We know it contains the substances specified in\n",
    "the query above, and so using `compliance_by_indicator` will tell us if that concept material is compliant based on\n",
    "the worst result of the individual substances."
   ]
  },
  {
   "cell_type": "code",
   "execution_count": 8,
   "id": "96414520",
   "metadata": {
    "execution": {
     "iopub.execute_input": "2022-01-19T18:14:06.375946Z",
     "iopub.status.busy": "2022-01-19T18:14:06.374921Z",
     "iopub.status.idle": "2022-01-19T18:14:06.377486Z",
     "shell.execute_reply": "2022-01-19T18:14:06.377102Z"
    },
    "tags": []
   },
   "outputs": [
    {
     "name": "stdout",
     "output_type": "stream",
     "text": [
      "One or more substances is an SVHC in a quantity > 0.1%\n"
     ]
    }
   ],
   "source": [
    "if sub_result.compliance_by_indicator[\"SVHC\"] >= threshold:\n",
    "    print(\"One or more substances is an SVHC in a quantity > 0.1%\")\n",
    "else:\n",
    "    print(\"No SVHCs, or SVHCs are present in a quantity < 0.1%\")"
   ]
  },
  {
   "cell_type": "markdown",
   "id": "ed59d3f6",
   "metadata": {},
   "source": [
    "Note that this cannot tell us which substance is responsible for the non-compliance. This would require performing a\n",
    "more granular analysis as shown above, or importing the material into Granta MI and running the compliance on that\n",
    "material record."
   ]
  }
 ],
 "metadata": {
  "jupytext": {
   "formats": "ipynb,py:light"
  },
  "kernelspec": {
   "display_name": "Python 3 (ipykernel)",
   "language": "python",
   "name": "python3"
  },
  "language_info": {
   "codemirror_mode": {
    "name": "ipython",
    "version": 3
   },
   "file_extension": ".py",
   "mimetype": "text/x-python",
   "name": "python",
   "nbconvert_exporter": "python",
   "pygments_lexer": "ipython3",
   "version": "3.10.1"
  }
 },
 "nbformat": 4,
 "nbformat_minor": 5
}
