{
 "cells": [
  {
   "cell_type": "markdown",
   "id": "b55a2b6d",
   "metadata": {},
   "source": [
    "# Performing a Substance Compliance Query"
   ]
  },
  {
   "cell_type": "markdown",
   "id": "45868af4",
   "metadata": {},
   "source": [
    "A Substance Compliance Query determines whether one or more substances are compliant with the specified indicators.\n",
    "This example checks several materials for substances included on two watch lists (\"REACH - The Candidate List\", and\n",
    "\"The SIN List 2.1\"), specifying substance amounts and thresholds for compliance."
   ]
  },
  {
   "cell_type": "markdown",
   "id": "74705568",
   "metadata": {},
   "source": [
    "## Connecting to Granta MI"
   ]
  },
  {
   "cell_type": "markdown",
   "id": "f132cd60",
   "metadata": {},
   "source": [
    "Import the ``Connection`` class and create the connection. See the [Getting Started](../0_Getting_started.ipynb)\n",
    "example for more details."
   ]
  },
  {
   "cell_type": "code",
   "execution_count": 1,
   "id": "a809d392",
   "metadata": {
    "execution": {
     "iopub.execute_input": "2022-12-21T22:36:00.411609Z",
     "iopub.status.busy": "2022-12-21T22:36:00.410987Z",
     "iopub.status.idle": "2022-12-21T22:36:01.695316Z",
     "shell.execute_reply": "2022-12-21T22:36:01.694460Z"
    },
    "tags": []
   },
   "outputs": [],
   "source": [
    "from ansys.grantami.bomanalytics import Connection\n",
    "\n",
    "server_url = \"http://my_grantami_server/mi_servicelayer\"\n",
    "cxn = Connection(server_url).with_credentials(\"user_name\", \"password\").connect()"
   ]
  },
  {
   "cell_type": "markdown",
   "id": "f9c1c2c2",
   "metadata": {},
   "source": [
    "## Defining an Indicator"
   ]
  },
  {
   "cell_type": "markdown",
   "id": "e276ab0f",
   "metadata": {},
   "source": [
    "A Compliance query determines compliance against 'Indicators', as opposed to an Impacted Substances query which\n",
    "determines compliance directly against legislations.\n",
    "\n",
    "There are two types of Indicator object (``WatchListIndicator`` and ``RohsIndicator``), and the syntax presented below\n",
    "applies to both. The differences in the internal implementation of the two objects are described in the API\n",
    "documentation.\n",
    "\n",
    "Generally speaking, if a substance is impacted by a legislation associated with an indicator, and in a quantity\n",
    "above a specified threshold, the substance is non-compliant with that indicator. This non-compliance applies to\n",
    "any other items in the BoM hierarchy that directly or indirectly include that substance."
   ]
  },
  {
   "cell_type": "markdown",
   "id": "f8830843",
   "metadata": {},
   "source": [
    "First, create two ``WatchListIndicator`` objects."
   ]
  },
  {
   "cell_type": "code",
   "execution_count": 2,
   "id": "edeb2e60",
   "metadata": {
    "execution": {
     "iopub.execute_input": "2022-12-21T22:36:01.700237Z",
     "iopub.status.busy": "2022-12-21T22:36:01.699696Z",
     "iopub.status.idle": "2022-12-21T22:36:01.706314Z",
     "shell.execute_reply": "2022-12-21T22:36:01.705523Z"
    },
    "tags": []
   },
   "outputs": [],
   "source": [
    "from ansys.grantami.bomanalytics import indicators\n",
    "\n",
    "svhc = indicators.WatchListIndicator(\n",
    "    name=\"SVHC\",\n",
    "    legislation_names=[\"REACH - The Candidate List\"],\n",
    "    default_threshold_percentage=0.1,\n",
    ")\n",
    "sin = indicators.WatchListIndicator(\n",
    "    name=\"SIN\",\n",
    "    legislation_names=[\"The SIN List 2.1 (Substitute It Now!)\"]\n",
    ")"
   ]
  },
  {
   "cell_type": "markdown",
   "id": "b6ee263b",
   "metadata": {
    "tags": []
   },
   "source": [
    "## Building and Running the Query"
   ]
  },
  {
   "cell_type": "markdown",
   "id": "63d3894e",
   "metadata": {},
   "source": [
    "Next, define the query itself. Substances can be referenced by Granta MI record reference, CAS\n",
    "Number, EC Number, or Chemical Name.\n",
    "\n",
    "The substance quantity is an optional argument, and defaults to 100% if not specified."
   ]
  },
  {
   "cell_type": "code",
   "execution_count": 3,
   "id": "ff0aa77c",
   "metadata": {
    "execution": {
     "iopub.execute_input": "2022-12-21T22:36:01.710387Z",
     "iopub.status.busy": "2022-12-21T22:36:01.709970Z",
     "iopub.status.idle": "2022-12-21T22:36:01.714993Z",
     "shell.execute_reply": "2022-12-21T22:36:01.714251Z"
    },
    "tags": []
   },
   "outputs": [],
   "source": [
    "from ansys.grantami.bomanalytics import queries\n",
    "\n",
    "sub_query = queries.SubstanceComplianceQuery().with_indicators([svhc, sin])\n",
    "sub_query = sub_query.with_cas_numbers_and_amounts([(\"50-00-0\", 10),\n",
    "                                                    (\"110-00-9\", 25),\n",
    "                                                    (\"302-17-0\", 100),\n",
    "                                                    (\"7440-23-5\", 100)])"
   ]
  },
  {
   "cell_type": "markdown",
   "id": "23083587",
   "metadata": {},
   "source": [
    "Finally, run the query. Passing a ``SubstanceComplianceQuery`` object to the ``Connection.run()`` method returns a\n",
    "``SubstanceComplianceQueryResult`` object."
   ]
  },
  {
   "cell_type": "code",
   "execution_count": 4,
   "id": "26030280",
   "metadata": {
    "execution": {
     "iopub.execute_input": "2022-12-21T22:36:01.718916Z",
     "iopub.status.busy": "2022-12-21T22:36:01.718659Z",
     "iopub.status.idle": "2022-12-21T22:36:02.135323Z",
     "shell.execute_reply": "2022-12-21T22:36:02.134407Z"
    },
    "tags": []
   },
   "outputs": [
    {
     "data": {
      "text/plain": [
       "<SubstanceComplianceQueryResult: 4 SubstanceWithCompliance results>"
      ]
     },
     "execution_count": 4,
     "metadata": {},
     "output_type": "execute_result"
    }
   ],
   "source": [
    "sub_result = cxn.run(sub_query)\n",
    "sub_result"
   ]
  },
  {
   "cell_type": "markdown",
   "id": "90ab346c",
   "metadata": {
    "tags": []
   },
   "source": [
    "The result object contains two properties: ``compliance_by_substance_and_indicator`` and ``compliance_by_indicator``."
   ]
  },
  {
   "cell_type": "markdown",
   "id": "120b6d86",
   "metadata": {},
   "source": [
    "## Results Grouped by Substance"
   ]
  },
  {
   "cell_type": "markdown",
   "id": "7bb70431",
   "metadata": {
    "tags": []
   },
   "source": [
    "``compliance_by_substance_and_indicator`` contains a list of ``SubstanceWithComplianceResult`` objects that contain\n",
    "the reference to the substance record and the compliance status in the list of indicators. To determine which\n",
    "substances are compliant, we can loop over each one and compare the indicator to a certain threshold. For this\n",
    "example, we will only examine the SVHC indicator."
   ]
  },
  {
   "cell_type": "markdown",
   "id": "85cdad20",
   "metadata": {},
   "source": [
    "The possible states of the indicator are available on the ``Indicator.available_flags`` attribute and can be compared\n",
    "using standard Python operators."
   ]
  },
  {
   "cell_type": "code",
   "execution_count": 5,
   "id": "dc65048b",
   "metadata": {
    "execution": {
     "iopub.execute_input": "2022-12-21T22:36:02.140022Z",
     "iopub.status.busy": "2022-12-21T22:36:02.139372Z",
     "iopub.status.idle": "2022-12-21T22:36:02.144828Z",
     "shell.execute_reply": "2022-12-21T22:36:02.144066Z"
    },
    "tags": []
   },
   "outputs": [],
   "source": [
    "compliant_substances = []\n",
    "non_compliant_substances = []\n",
    "threshold = svhc.available_flags.WatchListAboveThreshold\n",
    "\n",
    "for substance in sub_result.compliance_by_substance_and_indicator:\n",
    "    if (substance.indicators[\"SVHC\"] >= threshold):\n",
    "        non_compliant_substances.append(substance)\n",
    "    else:\n",
    "        compliant_substances.append(substance)"
   ]
  },
  {
   "cell_type": "markdown",
   "id": "1ed9d0be",
   "metadata": {},
   "source": [
    "Now print the SVHC and Non-SVHC substances."
   ]
  },
  {
   "cell_type": "code",
   "execution_count": 6,
   "id": "5eb4478d",
   "metadata": {
    "execution": {
     "iopub.execute_input": "2022-12-21T22:36:02.148738Z",
     "iopub.status.busy": "2022-12-21T22:36:02.148311Z",
     "iopub.status.idle": "2022-12-21T22:36:02.153414Z",
     "shell.execute_reply": "2022-12-21T22:36:02.152654Z"
    },
    "tags": []
   },
   "outputs": [
    {
     "name": "stdout",
     "output_type": "stream",
     "text": [
      "Non-SVHC substances: 50-00-0, 302-17-0, 7440-23-5\n",
      "SVHCs: 110-00-9\n"
     ]
    }
   ],
   "source": [
    "compliant_cas_numbers = [sub.cas_number for sub in compliant_substances]\n",
    "print(f'Non-SVHC substances: {\", \".join(compliant_cas_numbers)}')\n",
    "\n",
    "non_compliant_cas_numbers = [sub.cas_number for sub in non_compliant_substances]\n",
    "print(f'SVHCs: {\", \".join(non_compliant_cas_numbers)}')"
   ]
  },
  {
   "cell_type": "markdown",
   "id": "2a7c8482",
   "metadata": {},
   "source": [
    "## Results Grouped by Indicator"
   ]
  },
  {
   "cell_type": "markdown",
   "id": "c5365557",
   "metadata": {},
   "source": [
    "Alternatively, using the ``compliance_by_indicator`` property provides a single indicator result that summarizes the\n",
    "results across all substances in the query. This would be useful in a situation where we have a 'concept' material\n",
    "stored outside of Granta MI, and we want to determine its compliance. We know it contains the substances specified in\n",
    "the query above, and so using ``compliance_by_indicator`` will tell us if that concept material is compliant based on\n",
    "the worst result of the individual substances."
   ]
  },
  {
   "cell_type": "code",
   "execution_count": 7,
   "id": "625967d0",
   "metadata": {
    "execution": {
     "iopub.execute_input": "2022-12-21T22:36:02.157912Z",
     "iopub.status.busy": "2022-12-21T22:36:02.157284Z",
     "iopub.status.idle": "2022-12-21T22:36:02.161777Z",
     "shell.execute_reply": "2022-12-21T22:36:02.161026Z"
    },
    "tags": []
   },
   "outputs": [
    {
     "name": "stdout",
     "output_type": "stream",
     "text": [
      "One or more substances is an SVHC in a quantity > 0.1%\n"
     ]
    }
   ],
   "source": [
    "if sub_result.compliance_by_indicator[\"SVHC\"] >= threshold:\n",
    "    print(\"One or more substances is an SVHC in a quantity > 0.1%\")\n",
    "else:\n",
    "    print(\"No SVHCs, or SVHCs are present in a quantity < 0.1%\")"
   ]
  },
  {
   "cell_type": "markdown",
   "id": "51f4f9f2",
   "metadata": {},
   "source": [
    "Note that this property does not tell us which substance is responsible for the non-compliance. This would require\n",
    "performing a more granular analysis as shown above, or importing the material into Granta MI and running a compliance\n",
    "query on that material record."
   ]
  }
 ],
 "metadata": {
  "jupytext": {
   "formats": "ipynb,py:light"
  },
  "kernelspec": {
   "display_name": "Python 3 (ipykernel)",
   "language": "python",
   "name": "python3"
  },
  "language_info": {
   "codemirror_mode": {
    "name": "ipython",
    "version": 3
   },
   "file_extension": ".py",
   "mimetype": "text/x-python",
   "name": "python",
   "nbconvert_exporter": "python",
   "pygments_lexer": "ipython3",
   "version": "3.9.16"
  }
 },
 "nbformat": 4,
 "nbformat_minor": 5
}
