{
 "cells": [
  {
   "cell_type": "markdown",
   "id": "cffc26c8",
   "metadata": {},
   "source": [
    "# Performing a Material Compliance Query"
   ]
  },
  {
   "cell_type": "markdown",
   "id": "e2643327",
   "metadata": {},
   "source": [
    "A Material Compliance Query determines whether one or more materials are compliant with the specified indicators. This\n",
    "is done by first determining compliance for the substances associated with the material, and then rolling up the\n",
    "results to the material."
   ]
  },
  {
   "cell_type": "markdown",
   "id": "3082cb83",
   "metadata": {},
   "source": [
    "## Connecting to Granta MI"
   ]
  },
  {
   "cell_type": "markdown",
   "id": "b5c9cbfe",
   "metadata": {},
   "source": [
    "Import the ``Connection`` class and create the connection. See the [Getting Started](../0_Getting_started.ipynb)\n",
    "example for more details."
   ]
  },
  {
   "cell_type": "code",
   "execution_count": 1,
   "id": "8018acc0",
   "metadata": {
    "execution": {
     "iopub.execute_input": "2022-02-14T14:48:07.542969Z",
     "iopub.status.busy": "2022-02-14T14:48:07.542576Z",
     "iopub.status.idle": "2022-02-14T14:48:08.120375Z",
     "shell.execute_reply": "2022-02-14T14:48:08.119909Z"
    },
    "tags": []
   },
   "outputs": [],
   "source": [
    "from ansys.grantami.bomanalytics import Connection\n",
    "\n",
    "server_url = \"http://my_grantami_server/mi_servicelayer\"\n",
    "cxn = Connection(server_url).with_credentials(\"user_name\", \"password\").connect()"
   ]
  },
  {
   "cell_type": "markdown",
   "id": "4dd9ea2b",
   "metadata": {},
   "source": [
    "## Defining an Indicator"
   ]
  },
  {
   "cell_type": "markdown",
   "id": "9f6ed74f",
   "metadata": {},
   "source": [
    "A Compliance query determines compliance against 'Indicators', as opposed to an Impacted Substances query which\n",
    "determines compliance directly against legislations.\n",
    "\n",
    "There are two types of Indicator object (``WatchListIndicator`` and ``RohsIndicator``), and the syntax presented below\n",
    "applies to both. The differences in the internal implementation of the two objects are described in the API\n",
    "documentation.\n",
    "\n",
    "Generally speaking, if a substance is impacted by a legislation associated with an indicator, and in a quantity\n",
    "above a specified threshold, the substance is non-compliant with that indicator. This non-compliance applies to\n",
    "any other items in the BoM hierarchy that directly or indirectly include that substance."
   ]
  },
  {
   "cell_type": "markdown",
   "id": "1ddde9d0",
   "metadata": {},
   "source": [
    "First, create two ``WatchListIndicator`` objects."
   ]
  },
  {
   "cell_type": "code",
   "execution_count": 2,
   "id": "f220cbfd",
   "metadata": {
    "execution": {
     "iopub.execute_input": "2022-02-14T14:48:08.126359Z",
     "iopub.status.busy": "2022-02-14T14:48:08.125312Z",
     "iopub.status.idle": "2022-02-14T14:48:08.126850Z",
     "shell.execute_reply": "2022-02-14T14:48:08.127204Z"
    },
    "tags": []
   },
   "outputs": [],
   "source": [
    "from ansys.grantami.bomanalytics import indicators\n",
    "\n",
    "svhc = indicators.WatchListIndicator(\n",
    "    name=\"SVHC\",\n",
    "    legislation_names=[\"REACH - The Candidate List\"],\n",
    "    default_threshold_percentage=0.1,\n",
    ")\n",
    "sin = indicators.WatchListIndicator(\n",
    "    name=\"SIN\",\n",
    "    legislation_names=[\"The SIN List 2.1 (Substitute It Now!)\"]\n",
    ")"
   ]
  },
  {
   "cell_type": "markdown",
   "id": "dd715b8d",
   "metadata": {
    "tags": []
   },
   "source": [
    "## Building and Running the Query"
   ]
  },
  {
   "cell_type": "markdown",
   "id": "a8ab9f92",
   "metadata": {},
   "source": [
    "Next define the query itself. Materials can be referenced by Granta MI record reference or Material ID.\n",
    "The table containing the Material records is not required, since this is enforced by the Restricted Substances\n",
    "database schema."
   ]
  },
  {
   "cell_type": "code",
   "execution_count": 3,
   "id": "2acc58b3",
   "metadata": {
    "execution": {
     "iopub.execute_input": "2022-02-14T14:48:08.130852Z",
     "iopub.status.busy": "2022-02-14T14:48:08.130422Z",
     "iopub.status.idle": "2022-02-14T14:48:08.138199Z",
     "shell.execute_reply": "2022-02-14T14:48:08.138526Z"
    },
    "tags": []
   },
   "outputs": [],
   "source": [
    "from ansys.grantami.bomanalytics import queries\n",
    "\n",
    "mat_query = queries.MaterialComplianceQuery().with_indicators([svhc, sin])\n",
    "mat_query = mat_query.with_material_ids([\"plastic-pa66-60glassfiber\",\n",
    "                                         \"zinc-pb-cdlow-alloy-z21220-rolled\",\n",
    "                                         \"stainless-316h\"])"
   ]
  },
  {
   "cell_type": "markdown",
   "id": "f6ffae83",
   "metadata": {},
   "source": [
    "Finally, run the query. Passing a ``MaterialComplianceQuery`` object to the ``Connection.run()`` method returns a\n",
    "``MaterialComplianceQueryResult`` object."
   ]
  },
  {
   "cell_type": "code",
   "execution_count": 4,
   "id": "075b54ea",
   "metadata": {
    "execution": {
     "iopub.execute_input": "2022-02-14T14:48:08.142773Z",
     "iopub.status.busy": "2022-02-14T14:48:08.142358Z",
     "iopub.status.idle": "2022-02-14T14:48:08.918069Z",
     "shell.execute_reply": "2022-02-14T14:48:08.918425Z"
    },
    "tags": []
   },
   "outputs": [
    {
     "data": {
      "text/plain": [
       "<MaterialComplianceQueryResult: 3 MaterialWithCompliance results>"
      ]
     },
     "execution_count": 4,
     "metadata": {},
     "output_type": "execute_result"
    }
   ],
   "source": [
    "mat_result = cxn.run(mat_query)\n",
    "mat_result"
   ]
  },
  {
   "cell_type": "markdown",
   "id": "621f65bf",
   "metadata": {
    "tags": []
   },
   "source": [
    "The result object contains two properties: ``compliance_by_material_and_indicator`` and ``compliance_by_indicator``."
   ]
  },
  {
   "cell_type": "markdown",
   "id": "1895b643",
   "metadata": {},
   "source": [
    "## Results Grouped by Material"
   ]
  },
  {
   "cell_type": "markdown",
   "id": "187adc9c",
   "metadata": {
    "tags": []
   },
   "source": [
    "The ``compliance_by_material_and_indicator`` property contains a list of ``MaterialWithComplianceResult`` objects with\n",
    "the reference to the material record and the compliance status for each indicator. The\n",
    "``SubstanceWithComplianceResult`` objects are also included because compliance was determined based on the substances\n",
    "associated with the material object. These are also accompanied by their compliance status for each indicator."
   ]
  },
  {
   "cell_type": "markdown",
   "id": "03a0e8bc",
   "metadata": {},
   "source": [
    "Initially, we can print just the results for the reinforced PA66 record."
   ]
  },
  {
   "cell_type": "code",
   "execution_count": 5,
   "id": "5c1da56d",
   "metadata": {
    "execution": {
     "iopub.execute_input": "2022-02-14T14:48:08.922398Z",
     "iopub.status.busy": "2022-02-14T14:48:08.921979Z",
     "iopub.status.idle": "2022-02-14T14:48:08.923541Z",
     "shell.execute_reply": "2022-02-14T14:48:08.923904Z"
    },
    "tags": []
   },
   "outputs": [
    {
     "name": "stdout",
     "output_type": "stream",
     "text": [
      "PA66 (60% glass fiber): WatchListHasSubstanceAboveThreshold\n"
     ]
    }
   ],
   "source": [
    "pa_66 = mat_result.compliance_by_material_and_indicator[0]\n",
    "print(f\"PA66 (60% glass fiber): {pa_66.indicators['SVHC'].flag.name}\")"
   ]
  },
  {
   "cell_type": "markdown",
   "id": "e82c73b9",
   "metadata": {},
   "source": [
    "The reinforced PA66 record has a status of 'WatchListHasSubstanceAboveThreshold', which tells us the material is not\n",
    "compliant with the indicator, and therefore contains SVHCs above the 0.1% threshold."
   ]
  },
  {
   "cell_type": "markdown",
   "id": "cee987ab",
   "metadata": {},
   "source": [
    "To understand which substances have caused this status, we can print the substances that are not compliant with the\n",
    "legislation. The possible states of the indicator are available on the ``Indicator.available_flags`` attribute and\n",
    "can be compared using standard Python operators.\n",
    "\n",
    "For substances, the critical threshold is the state 'WatchListAboveThreshold'."
   ]
  },
  {
   "cell_type": "code",
   "execution_count": 6,
   "id": "ff84f506",
   "metadata": {
    "execution": {
     "iopub.execute_input": "2022-02-14T14:48:08.927781Z",
     "iopub.status.busy": "2022-02-14T14:48:08.927345Z",
     "iopub.status.idle": "2022-02-14T14:48:08.931244Z",
     "shell.execute_reply": "2022-02-14T14:48:08.930833Z"
    },
    "tags": []
   },
   "outputs": [
    {
     "name": "stdout",
     "output_type": "stream",
     "text": [
      "15 SVHCs\n",
      "Substance record history identity: 75821\n",
      "Substance record history identity: 74483\n",
      "Substance record history identity: 75073\n",
      "Substance record history identity: 75822\n",
      "Substance record history identity: 119243\n",
      "Substance record history identity: 74441\n",
      "Substance record history identity: 161216\n",
      "Substance record history identity: 270848\n",
      "Substance record history identity: 161215\n",
      "Substance record history identity: 76444\n",
      "Substance record history identity: 76445\n",
      "Substance record history identity: 74449\n",
      "Substance record history identity: 77133\n",
      "Substance record history identity: 76672\n",
      "Substance record history identity: 75282\n"
     ]
    }
   ],
   "source": [
    "above_threshold_flag = svhc.available_flags.WatchListAboveThreshold\n",
    "pa_66_svhcs = [sub for sub in pa_66.substances\n",
    "               if sub.indicators[\"SVHC\"] >= above_threshold_flag\n",
    "               ]\n",
    "print(f\"{len(pa_66_svhcs)} SVHCs\")\n",
    "for sub in pa_66_svhcs:\n",
    "    print(f\"Substance record history identity: {sub.record_history_identity}\")"
   ]
  },
  {
   "cell_type": "markdown",
   "id": "42b8f9d5",
   "metadata": {},
   "source": [
    "Note that children of items passed into the compliance query are returned with record references based on record\n",
    "history identities only. The Granta MI Scripting Toolkit for Python can be used to translate record history identities\n",
    "into CAS Numbers if required."
   ]
  },
  {
   "cell_type": "markdown",
   "id": "0db7c8d8",
   "metadata": {},
   "source": [
    "Next, look at the state of the zinc alloy record."
   ]
  },
  {
   "cell_type": "code",
   "execution_count": 7,
   "id": "6018a458",
   "metadata": {
    "execution": {
     "iopub.execute_input": "2022-02-14T14:48:08.934706Z",
     "iopub.status.busy": "2022-02-14T14:48:08.934301Z",
     "iopub.status.idle": "2022-02-14T14:48:08.936415Z",
     "shell.execute_reply": "2022-02-14T14:48:08.936068Z"
    },
    "tags": []
   },
   "outputs": [
    {
     "name": "stdout",
     "output_type": "stream",
     "text": [
      "Zn-Pb-Cd low alloy: WatchListAllSubstancesBelowThreshold\n"
     ]
    }
   ],
   "source": [
    "zn_pb_cd = mat_result.compliance_by_material_and_indicator[1]\n",
    "print(f\"Zn-Pb-Cd low alloy: {zn_pb_cd.indicators['SVHC'].flag.name}\")"
   ]
  },
  {
   "cell_type": "markdown",
   "id": "15918970",
   "metadata": {},
   "source": [
    "The zinc alloy record has the status 'WatchListAllSubstancesBelowThreshold', which means there are substances present\n",
    "that are impacted by the legislation, but are below the 0.1% threshold."
   ]
  },
  {
   "cell_type": "markdown",
   "id": "6005e257",
   "metadata": {},
   "source": [
    "We can print these substances using the 'WatchListBelowThreshold' flag as the threshold."
   ]
  },
  {
   "cell_type": "code",
   "execution_count": 8,
   "id": "d37bf667",
   "metadata": {
    "execution": {
     "iopub.execute_input": "2022-02-14T14:48:08.940971Z",
     "iopub.status.busy": "2022-02-14T14:48:08.940556Z",
     "iopub.status.idle": "2022-02-14T14:48:08.942518Z",
     "shell.execute_reply": "2022-02-14T14:48:08.942854Z"
    },
    "tags": []
   },
   "outputs": [
    {
     "name": "stdout",
     "output_type": "stream",
     "text": [
      "2 SVHCs below threshold\n",
      "Substance record history identity: 72969\n",
      "Substance record history identity: 74252\n"
     ]
    }
   ],
   "source": [
    "below_threshold_flag = svhc.available_flags.WatchListBelowThreshold\n",
    "zn_svhcs_below_threshold = [sub for sub in zn_pb_cd.substances\n",
    "                            if sub.indicators[\"SVHC\"].flag == below_threshold_flag]\n",
    "print(f\"{len(zn_svhcs_below_threshold)} SVHCs below threshold\")\n",
    "for substance in zn_svhcs_below_threshold:\n",
    "    print(\n",
    "        f\"Substance record history identity: {substance.record_history_identity}\"\n",
    "    )"
   ]
  },
  {
   "cell_type": "markdown",
   "id": "a3eb4a77",
   "metadata": {},
   "source": [
    "Finally, look at the stainless steel record."
   ]
  },
  {
   "cell_type": "code",
   "execution_count": 9,
   "id": "8c9aea45",
   "metadata": {
    "execution": {
     "iopub.execute_input": "2022-02-14T14:48:08.946046Z",
     "iopub.status.busy": "2022-02-14T14:48:08.945620Z",
     "iopub.status.idle": "2022-02-14T14:48:08.947197Z",
     "shell.execute_reply": "2022-02-14T14:48:08.947537Z"
    },
    "tags": []
   },
   "outputs": [
    {
     "name": "stdout",
     "output_type": "stream",
     "text": [
      "316H stainless steel: WatchListCompliant\n"
     ]
    }
   ],
   "source": [
    "ss_316h = mat_result.compliance_by_material_and_indicator[2]\n",
    "print(f\"316H stainless steel: {ss_316h.indicators['SVHC'].flag.name}\")"
   ]
  },
  {
   "cell_type": "markdown",
   "id": "36790fd1",
   "metadata": {},
   "source": [
    "The stainless steel record has the status 'WatchListCompliant', which means there are no impacted substances in the\n",
    "material."
   ]
  },
  {
   "cell_type": "markdown",
   "id": "78e711f4",
   "metadata": {},
   "source": [
    "We can print these substances using the 'WatchListNotImpacted' flag as the threshold."
   ]
  },
  {
   "cell_type": "code",
   "execution_count": 10,
   "id": "53a3552f",
   "metadata": {
    "execution": {
     "iopub.execute_input": "2022-02-14T14:48:08.951384Z",
     "iopub.status.busy": "2022-02-14T14:48:08.950934Z",
     "iopub.status.idle": "2022-02-14T14:48:08.953668Z",
     "shell.execute_reply": "2022-02-14T14:48:08.953998Z"
    },
    "tags": []
   },
   "outputs": [
    {
     "name": "stdout",
     "output_type": "stream",
     "text": [
      "9 non-SVHC substances\n",
      "Substance record history identity: 75489\n",
      "Substance record history identity: 73449\n",
      "Substance record history identity: 75307\n",
      "Substance record history identity: 75352\n",
      "Substance record history identity: 75516\n",
      "Substance record history identity: 77816\n",
      "Substance record history identity: 75373\n",
      "Substance record history identity: 75306\n",
      "Substance record history identity: 77307\n"
     ]
    }
   ],
   "source": [
    "not_impacted_flag = svhc.available_flags.WatchListNotImpacted\n",
    "ss_not_impacted = [\n",
    "    sub\n",
    "    for sub in ss_316h.substances\n",
    "    if sub.indicators[\"SVHC\"].flag == not_impacted_flag\n",
    "]\n",
    "print(f\"{len(ss_not_impacted)} non-SVHC substances\")\n",
    "for sub in ss_not_impacted:\n",
    "    print(f\"Substance record history identity: {sub.record_history_identity}\")"
   ]
  },
  {
   "cell_type": "markdown",
   "id": "a2634a71",
   "metadata": {},
   "source": [
    "## Results Grouped by Indicator"
   ]
  },
  {
   "cell_type": "markdown",
   "id": "4297fb24",
   "metadata": {},
   "source": [
    "Alternatively, using the ``compliance_by_indicator`` property provides a single indicator result that summarizes the\n",
    "results across all materials in the query. This would be useful in a situation where we have a 'concept' assembly\n",
    "stored outside of Granta MI, and want to determine its compliance. We know it contains the materials specified in\n",
    "the query above, and so using ``compliance_by_indicator`` will tell us if that concept assembly is compliant based on\n",
    "the worst result from individual materials."
   ]
  },
  {
   "cell_type": "code",
   "execution_count": 11,
   "id": "1f21f245",
   "metadata": {
    "execution": {
     "iopub.execute_input": "2022-02-14T14:48:08.957100Z",
     "iopub.status.busy": "2022-02-14T14:48:08.956696Z",
     "iopub.status.idle": "2022-02-14T14:48:08.958968Z",
     "shell.execute_reply": "2022-02-14T14:48:08.959309Z"
    },
    "tags": []
   },
   "outputs": [
    {
     "name": "stdout",
     "output_type": "stream",
     "text": [
      "One or more materials contains an SVHC in a quantity > 0.1%\n"
     ]
    }
   ],
   "source": [
    "if mat_result.compliance_by_indicator[\"SVHC\"] >= above_threshold_flag:\n",
    "    print(\"One or more materials contains an SVHC in a quantity > 0.1%\")\n",
    "else:\n",
    "    print(\"No SVHCs, or SVHCs are present in a quantity < 0.1%\")"
   ]
  },
  {
   "cell_type": "markdown",
   "id": "580f5d0a",
   "metadata": {},
   "source": [
    "Note that this cannot tell us which material is responsible for the non-compliance. This would require performing a\n",
    "more granular analysis as shown above, or importing the assembly into Granta MI and running the compliance on that\n",
    "part record."
   ]
  }
 ],
 "metadata": {
  "jupytext": {
   "formats": "ipynb,py:light"
  },
  "kernelspec": {
   "display_name": "Python 3 (ipykernel)",
   "language": "python",
   "name": "python3"
  },
  "language_info": {
   "codemirror_mode": {
    "name": "ipython",
    "version": 3
   },
   "file_extension": ".py",
   "mimetype": "text/x-python",
   "name": "python",
   "nbconvert_exporter": "python",
   "pygments_lexer": "ipython3",
   "version": "3.10.2"
  }
 },
 "nbformat": 4,
 "nbformat_minor": 5
}
