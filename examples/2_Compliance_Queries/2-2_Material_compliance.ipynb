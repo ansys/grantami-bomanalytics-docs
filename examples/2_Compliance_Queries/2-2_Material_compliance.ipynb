{
 "cells": [
  {
   "cell_type": "markdown",
   "id": "eda4ee82",
   "metadata": {},
   "source": [
    "# [TECHDOCS]Performing a Material Compliance Query"
   ]
  },
  {
   "cell_type": "markdown",
   "id": "42b3d4f9",
   "metadata": {},
   "source": [
    "A Material Compliance Query determines whether one or more materials are compliant with the specified indicators. This\n",
    "is done by first determining compliance for the substances associated with the material, and then rolling up the\n",
    "results to the material."
   ]
  },
  {
   "cell_type": "markdown",
   "id": "82243f2e",
   "metadata": {},
   "source": [
    "## Connecting to Granta MI"
   ]
  },
  {
   "cell_type": "markdown",
   "id": "255313d5",
   "metadata": {},
   "source": [
    "Import the `Connection` class and create the connection. See the Getting Started example for more detail."
   ]
  },
  {
   "cell_type": "code",
   "execution_count": 1,
   "id": "ffce8372",
   "metadata": {
    "execution": {
     "iopub.execute_input": "2022-01-19T18:14:08.419649Z",
     "iopub.status.busy": "2022-01-19T18:14:08.419150Z",
     "iopub.status.idle": "2022-01-19T18:14:08.972342Z",
     "shell.execute_reply": "2022-01-19T18:14:08.971753Z"
    },
    "tags": []
   },
   "outputs": [],
   "source": [
    "from ansys.grantami.bomanalytics import Connection\n",
    "\n",
    "server_url = \"http://my_grantami_service/mi_servicelayer\"\n",
    "cxn = Connection(server_url).with_credentials(\"user_name\", \"password\").connect()"
   ]
  },
  {
   "cell_type": "markdown",
   "id": "f6684dcf",
   "metadata": {},
   "source": [
    "## Defining an Indicator"
   ]
  },
  {
   "cell_type": "markdown",
   "id": "e444c06b",
   "metadata": {},
   "source": [
    "In contrast to an ImpactedSubstances query, a Compliance query determines compliance against 'Indicators' as opposed\n",
    "to directly against legislations.\n",
    "\n",
    "There are two types of Indicator, the differences between the two are described elsewhere in the documentation. The\n",
    "differences are in the internal implementation, and the interface presented here applies to both `WatchListIndicator`\n",
    "objects and `RohsIndicator` objects.\n",
    "\n",
    "Generally speaking, if a substance is impacted by a legislation that is associated with an indicator in a quantity\n",
    "above a threshold, the substance is non-compliant with that indicator. This non-compliance then rolls up the BoM\n",
    "hierarchy to any other items that directly or indirectly include that substance."
   ]
  },
  {
   "cell_type": "markdown",
   "id": "8c199c55",
   "metadata": {},
   "source": [
    "The cell below creates two Indicators."
   ]
  },
  {
   "cell_type": "code",
   "execution_count": 2,
   "id": "28657c96",
   "metadata": {
    "execution": {
     "iopub.execute_input": "2022-01-19T18:14:08.977136Z",
     "iopub.status.busy": "2022-01-19T18:14:08.976403Z",
     "iopub.status.idle": "2022-01-19T18:14:08.979304Z",
     "shell.execute_reply": "2022-01-19T18:14:08.979661Z"
    },
    "lines_to_next_cell": 2,
    "tags": []
   },
   "outputs": [],
   "source": [
    "from ansys.grantami.bomanalytics import indicators\n",
    "\n",
    "svhc = indicators.WatchListIndicator(\n",
    "    name=\"SVHC\",\n",
    "    legislation_names=[\"REACH - The Candidate List\"],\n",
    "    default_threshold_percentage=0.1,\n",
    ")\n",
    "sin = indicators.WatchListIndicator(\n",
    "    name=\"SIN\",\n",
    "    legislation_names=[\"The SIN List 2.1 (Substitute It Now!)\"]\n",
    ")"
   ]
  },
  {
   "cell_type": "markdown",
   "id": "9e0b6768",
   "metadata": {
    "tags": []
   },
   "source": [
    "## Building and Running the Query"
   ]
  },
  {
   "cell_type": "markdown",
   "id": "9ec4aa51",
   "metadata": {},
   "source": [
    "Next define the query itself. Materials can be referenced by any typical Granta MI record reference or by Material ID.\n",
    "The table containing the Material records is not required, since this is enforced by the Restricted Substances\n",
    "database schema."
   ]
  },
  {
   "cell_type": "code",
   "execution_count": 3,
   "id": "ad4888ab",
   "metadata": {
    "execution": {
     "iopub.execute_input": "2022-01-19T18:14:08.983662Z",
     "iopub.status.busy": "2022-01-19T18:14:08.983217Z",
     "iopub.status.idle": "2022-01-19T18:14:08.991816Z",
     "shell.execute_reply": "2022-01-19T18:14:08.992174Z"
    },
    "tags": []
   },
   "outputs": [],
   "source": [
    "from ansys.grantami.bomanalytics import queries\n",
    "\n",
    "mat_query = queries.MaterialComplianceQuery().with_indicators([svhc, sin])\n",
    "mat_query = mat_query.with_material_ids([\"plastic-pa66-60glassfiber\",\n",
    "                                         \"zinc-pb-cdlow-alloy-z21220-rolled\",\n",
    "                                         \"stainless-316h\"])"
   ]
  },
  {
   "cell_type": "markdown",
   "id": "f9824f5d",
   "metadata": {},
   "source": [
    "Finally, run the query. Passing a `MaterialComplianceQuery` object to the `Connection.run()` method returns a\n",
    "`MaterialComplianceQueryResult` object."
   ]
  },
  {
   "cell_type": "code",
   "execution_count": 4,
   "id": "6a575dde",
   "metadata": {
    "execution": {
     "iopub.execute_input": "2022-01-19T18:14:08.997366Z",
     "iopub.status.busy": "2022-01-19T18:14:08.996910Z",
     "iopub.status.idle": "2022-01-19T18:14:09.775623Z",
     "shell.execute_reply": "2022-01-19T18:14:09.775996Z"
    },
    "tags": []
   },
   "outputs": [
    {
     "data": {
      "text/plain": [
       "<MaterialComplianceQueryResult: 3 MaterialWithCompliance results>"
      ]
     },
     "execution_count": 4,
     "metadata": {},
     "output_type": "execute_result"
    }
   ],
   "source": [
    "mat_result = cxn.run(mat_query)\n",
    "mat_result"
   ]
  },
  {
   "cell_type": "markdown",
   "id": "60c53df5",
   "metadata": {
    "tags": []
   },
   "source": [
    "The result object contains two properties, `compliance_by_material_and_indicator` and `compliance_by_indicator`."
   ]
  },
  {
   "cell_type": "markdown",
   "id": "2cbf6df1",
   "metadata": {},
   "source": [
    "## compliance_by_material_and_indicator"
   ]
  },
  {
   "cell_type": "markdown",
   "id": "cee2b3eb",
   "metadata": {
    "tags": []
   },
   "source": [
    "`compliance_by_material_and_indicator` contains a list of `MaterialWithComplianceResult` objects that contain the\n",
    "reference to the material record and the compliance status for each indicator. However, since compliance was\n",
    "determined based on the substances associated with the material object, `SubstanceWithComplianceResult` objects are\n",
    "also included, also with their compliance status for each indicator."
   ]
  },
  {
   "cell_type": "markdown",
   "id": "eabe7d43",
   "metadata": {},
   "source": [
    "Initially, we can just print the results for the reinforced PA66 record."
   ]
  },
  {
   "cell_type": "code",
   "execution_count": 5,
   "id": "0e22e6a4",
   "metadata": {
    "execution": {
     "iopub.execute_input": "2022-01-19T18:14:09.780219Z",
     "iopub.status.busy": "2022-01-19T18:14:09.779776Z",
     "iopub.status.idle": "2022-01-19T18:14:09.781543Z",
     "shell.execute_reply": "2022-01-19T18:14:09.781900Z"
    },
    "tags": []
   },
   "outputs": [
    {
     "name": "stdout",
     "output_type": "stream",
     "text": [
      "PA66 (60% glass fiber): WatchListHasSubstanceAboveThreshold\n"
     ]
    }
   ],
   "source": [
    "pa_66 = mat_result.compliance_by_material_and_indicator[0]\n",
    "print(f\"PA66 (60% glass fiber): {pa_66.indicators['SVHC'].flag.name}\")"
   ]
  },
  {
   "cell_type": "markdown",
   "id": "d89272d1",
   "metadata": {},
   "source": [
    "The reinforced PA66 record has the status of 'WatchListHasSubstanceAboveThreshold', which tells us the material is not\n",
    "compliant with the indicator, and therefore contains SVHCs above the 0.1% threshold."
   ]
  },
  {
   "cell_type": "markdown",
   "id": "78590de4",
   "metadata": {},
   "source": [
    "To understand which substances have caused this status, we can print the substances that are not compliant with the\n",
    "legislation. The possible states of the indicator are available on the `Indicator.available_flags` attribute, and can\n",
    "be compared using standard Python operators.\n",
    "\n",
    "For substances, the critical threshold is the state 'WatchListAboveThreshold'."
   ]
  },
  {
   "cell_type": "code",
   "execution_count": 6,
   "id": "c4d3a202",
   "metadata": {
    "execution": {
     "iopub.execute_input": "2022-01-19T18:14:09.788521Z",
     "iopub.status.busy": "2022-01-19T18:14:09.787687Z",
     "iopub.status.idle": "2022-01-19T18:14:09.790271Z",
     "shell.execute_reply": "2022-01-19T18:14:09.789897Z"
    },
    "tags": []
   },
   "outputs": [
    {
     "name": "stdout",
     "output_type": "stream",
     "text": [
      "15 SVHCs\n",
      "Substance record history identity: 75821\n",
      "Substance record history identity: 74483\n",
      "Substance record history identity: 75073\n",
      "Substance record history identity: 75822\n",
      "Substance record history identity: 119243\n",
      "Substance record history identity: 74441\n",
      "Substance record history identity: 161216\n",
      "Substance record history identity: 270848\n",
      "Substance record history identity: 161215\n",
      "Substance record history identity: 76444\n",
      "Substance record history identity: 76445\n",
      "Substance record history identity: 74449\n",
      "Substance record history identity: 77133\n",
      "Substance record history identity: 76672\n",
      "Substance record history identity: 75282\n"
     ]
    }
   ],
   "source": [
    "above_threshold_flag = svhc.available_flags.WatchListAboveThreshold\n",
    "pa_66_svhcs = [sub for sub in pa_66.substances\n",
    "               if sub.indicators[\"SVHC\"] >= above_threshold_flag\n",
    "               ]\n",
    "print(f\"{len(pa_66_svhcs)} SVHCs\")\n",
    "for sub in pa_66_svhcs:\n",
    "    print(f\"Substance record history identity: {sub.record_history_identity}\")"
   ]
  },
  {
   "cell_type": "markdown",
   "id": "747ec99c",
   "metadata": {},
   "source": [
    "Note that children of the items passed into the compliance query are returned with record references based\n",
    "on record history identities only. The Python STK can be used to translate these record history identities into CAS\n",
    "Numbers if required."
   ]
  },
  {
   "cell_type": "markdown",
   "id": "e6b0abfe",
   "metadata": {},
   "source": [
    "Next, look at the state of the zinc alloy record."
   ]
  },
  {
   "cell_type": "code",
   "execution_count": 7,
   "id": "379ed2f6",
   "metadata": {
    "execution": {
     "iopub.execute_input": "2022-01-19T18:14:09.794729Z",
     "iopub.status.busy": "2022-01-19T18:14:09.793832Z",
     "iopub.status.idle": "2022-01-19T18:14:09.796339Z",
     "shell.execute_reply": "2022-01-19T18:14:09.795957Z"
    },
    "tags": []
   },
   "outputs": [
    {
     "name": "stdout",
     "output_type": "stream",
     "text": [
      "Zn-Pb-Cd low alloy: WatchListAllSubstancesBelowThreshold\n"
     ]
    }
   ],
   "source": [
    "zn_pb_cd = mat_result.compliance_by_material_and_indicator[1]\n",
    "print(f\"Zn-Pb-Cd low alloy: {zn_pb_cd.indicators['SVHC'].flag.name}\")"
   ]
  },
  {
   "cell_type": "markdown",
   "id": "dab0355f",
   "metadata": {},
   "source": [
    "The zinc alloy record has the status 'WatchListAllSubstancesBelowThreshold', which means there are substances present\n",
    "that are impacted by the legislation, but are below the 0.1% threshold."
   ]
  },
  {
   "cell_type": "markdown",
   "id": "2f3eeb6f",
   "metadata": {},
   "source": [
    "We can print these substances using the 'WatchListBelowThreshold' flag as the threshold."
   ]
  },
  {
   "cell_type": "code",
   "execution_count": 8,
   "id": "a7d47412",
   "metadata": {
    "execution": {
     "iopub.execute_input": "2022-01-19T18:14:09.801744Z",
     "iopub.status.busy": "2022-01-19T18:14:09.800736Z",
     "iopub.status.idle": "2022-01-19T18:14:09.803240Z",
     "shell.execute_reply": "2022-01-19T18:14:09.802851Z"
    },
    "tags": []
   },
   "outputs": [
    {
     "name": "stdout",
     "output_type": "stream",
     "text": [
      "2 SVHCs below threshold\n",
      "Substance record history identity: 72969\n",
      "Substance record history identity: 74252\n"
     ]
    }
   ],
   "source": [
    "below_threshold_flag = svhc.available_flags.WatchListBelowThreshold\n",
    "zn_svhcs_below_threshold = [sub for sub in zn_pb_cd.substances\n",
    "                            if sub.indicators[\"SVHC\"].flag == below_threshold_flag]\n",
    "print(f\"{len(zn_svhcs_below_threshold)} SVHCs below threshold\")\n",
    "for substance in zn_svhcs_below_threshold:\n",
    "    print(\n",
    "        f\"Substance record history identity: {substance.record_history_identity}\"\n",
    "    )"
   ]
  },
  {
   "cell_type": "markdown",
   "id": "74e4005f",
   "metadata": {},
   "source": [
    "Finally, look at the stainless steel record."
   ]
  },
  {
   "cell_type": "code",
   "execution_count": 9,
   "id": "24062ce8",
   "metadata": {
    "execution": {
     "iopub.execute_input": "2022-01-19T18:14:09.807697Z",
     "iopub.status.busy": "2022-01-19T18:14:09.806721Z",
     "iopub.status.idle": "2022-01-19T18:14:09.809225Z",
     "shell.execute_reply": "2022-01-19T18:14:09.808838Z"
    },
    "tags": []
   },
   "outputs": [
    {
     "name": "stdout",
     "output_type": "stream",
     "text": [
      "316H stainless steel: WatchListCompliant\n"
     ]
    }
   ],
   "source": [
    "ss_316h = mat_result.compliance_by_material_and_indicator[2]\n",
    "print(f\"316H stainless steel: {ss_316h.indicators['SVHC'].flag.name}\")"
   ]
  },
  {
   "cell_type": "markdown",
   "id": "4d7c10e4",
   "metadata": {},
   "source": [
    "The stainless steel record has the status 'WatchListCompliant', which means there are no impacted substances at all in\n",
    "the material."
   ]
  },
  {
   "cell_type": "markdown",
   "id": "9153159a",
   "metadata": {},
   "source": [
    "We can print these substances using the 'WatchListNotImpacted' flag as the threshold."
   ]
  },
  {
   "cell_type": "code",
   "execution_count": 10,
   "id": "331e2489",
   "metadata": {
    "execution": {
     "iopub.execute_input": "2022-01-19T18:14:09.813584Z",
     "iopub.status.busy": "2022-01-19T18:14:09.813135Z",
     "iopub.status.idle": "2022-01-19T18:14:09.817059Z",
     "shell.execute_reply": "2022-01-19T18:14:09.816587Z"
    },
    "tags": []
   },
   "outputs": [
    {
     "name": "stdout",
     "output_type": "stream",
     "text": [
      "9 non-SVHC substances\n",
      "Substance record history identity: 75489\n",
      "Substance record history identity: 73449\n",
      "Substance record history identity: 75307\n",
      "Substance record history identity: 75352\n",
      "Substance record history identity: 75516\n",
      "Substance record history identity: 77816\n",
      "Substance record history identity: 75373\n",
      "Substance record history identity: 75306\n",
      "Substance record history identity: 77307\n"
     ]
    }
   ],
   "source": [
    "not_impacted_flag = svhc.available_flags.WatchListNotImpacted\n",
    "ss_not_impacted = [\n",
    "    sub\n",
    "    for sub in ss_316h.substances\n",
    "    if sub.indicators[\"SVHC\"].flag == not_impacted_flag\n",
    "]\n",
    "print(f\"{len(ss_not_impacted)} non-SVHC substances\")\n",
    "for sub in ss_not_impacted:\n",
    "    print(f\"Substance record history identity: {sub.record_history_identity}\")"
   ]
  },
  {
   "cell_type": "markdown",
   "id": "9a1d8690",
   "metadata": {},
   "source": [
    "## compliance_by_indicator"
   ]
  },
  {
   "cell_type": "markdown",
   "id": "79aa382f",
   "metadata": {},
   "source": [
    "Alternatively, using the `compliance_by_indicator` property will give us a single indicator result that rolls up the\n",
    "results across all materials in the query. This would be useful in a station where we have a 'concept' assembly\n",
    "stored outside of Granta MI, and we want to determine its compliance. We know it contains the materials specified in\n",
    "the query above, and so using `compliance_by_indicator` will tell us if that concept assembly is compliant based on\n",
    "the worst result of the individual materials."
   ]
  },
  {
   "cell_type": "code",
   "execution_count": 11,
   "id": "5e4e5315",
   "metadata": {
    "execution": {
     "iopub.execute_input": "2022-01-19T18:14:09.821685Z",
     "iopub.status.busy": "2022-01-19T18:14:09.820628Z",
     "iopub.status.idle": "2022-01-19T18:14:09.823160Z",
     "shell.execute_reply": "2022-01-19T18:14:09.822782Z"
    },
    "tags": []
   },
   "outputs": [
    {
     "name": "stdout",
     "output_type": "stream",
     "text": [
      "One or more materials contains an SVHC in a quantity > 0.1%\n"
     ]
    }
   ],
   "source": [
    "if mat_result.compliance_by_indicator[\"SVHC\"] >= above_threshold_flag:\n",
    "    print(\"One or more materials contains an SVHC in a quantity > 0.1%\")\n",
    "else:\n",
    "    print(\"No SVHCs, or SVHCs are present in a quantity < 0.1%\")"
   ]
  },
  {
   "cell_type": "markdown",
   "id": "a671c8e2",
   "metadata": {},
   "source": [
    "Note that this cannot tell us which material is responsible for the non-compliance. This would require performing a\n",
    "more granular analysis as shown above, or importing the assembly into Granta MI and running the compliance on that\n",
    "part record."
   ]
  }
 ],
 "metadata": {
  "jupytext": {
   "formats": "ipynb,py:light"
  },
  "kernelspec": {
   "display_name": "Python 3 (ipykernel)",
   "language": "python",
   "name": "python3"
  },
  "language_info": {
   "codemirror_mode": {
    "name": "ipython",
    "version": 3
   },
   "file_extension": ".py",
   "mimetype": "text/x-python",
   "name": "python",
   "nbconvert_exporter": "python",
   "pygments_lexer": "ipython3",
   "version": "3.10.1"
  }
 },
 "nbformat": 4,
 "nbformat_minor": 5
}
