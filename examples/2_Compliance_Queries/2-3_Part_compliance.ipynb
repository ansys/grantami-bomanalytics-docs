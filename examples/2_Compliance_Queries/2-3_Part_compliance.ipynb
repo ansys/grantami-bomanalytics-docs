{
 "cells": [
  {
   "cell_type": "markdown",
   "id": "cb5f5591",
   "metadata": {},
   "source": [
    "# Performing a Part Compliance Query"
   ]
  },
  {
   "cell_type": "markdown",
   "id": "4277b449",
   "metadata": {},
   "source": [
    "A Part Compliance Query determines whether one or more parts are compliant with the specified indicators. This is\n",
    "done by first finding all substances directly or indirectly associated with that part, determining compliance for\n",
    "those substances, and then rolling up the results to the material."
   ]
  },
  {
   "cell_type": "markdown",
   "id": "e9f55283",
   "metadata": {},
   "source": [
    "## Connecting to Granta MI"
   ]
  },
  {
   "cell_type": "markdown",
   "id": "7c6499fb",
   "metadata": {},
   "source": [
    "Import the ``Connection`` class and create the connection. See the [Getting Started](../0_Getting_started.ipynb)\n",
    "example for more details."
   ]
  },
  {
   "cell_type": "code",
   "execution_count": 1,
   "id": "4f839f85",
   "metadata": {
    "execution": {
     "iopub.execute_input": "2022-02-11T22:26:08.354668Z",
     "iopub.status.busy": "2022-02-11T22:26:08.354033Z",
     "iopub.status.idle": "2022-02-11T22:26:08.912621Z",
     "shell.execute_reply": "2022-02-11T22:26:08.911897Z"
    },
    "tags": []
   },
   "outputs": [],
   "source": [
    "from ansys.grantami.bomanalytics import Connection\n",
    "\n",
    "server_url = \"http://my_grantami_server/mi_servicelayer\"\n",
    "cxn = Connection(server_url).with_credentials(\"user_name\", \"password\").connect()"
   ]
  },
  {
   "cell_type": "markdown",
   "id": "c09289a4",
   "metadata": {},
   "source": [
    "## Defining an Indicator"
   ]
  },
  {
   "cell_type": "markdown",
   "id": "9efabd8c",
   "metadata": {},
   "source": [
    "A Compliance query determines compliance against 'Indicators', as opposed to an Impacted Substances query which\n",
    "determines compliance directly against legislations.\n",
    "\n",
    "There are two types of Indicator object (``WatchListIndicator`` and ``RohsIndicator``), and the syntax presented below\n",
    "applies to both. The differences in the internal implementation of the two objects are described in the API\n",
    "documentation.\n",
    "\n",
    "Generally speaking, if a substance is impacted by a legislation associated with an indicator, and in a quantity\n",
    "above a specified threshold, the substance is non-compliant with that indicator. This non-compliance applies to\n",
    "any other items in the BoM hierarchy that directly or indirectly include that substance."
   ]
  },
  {
   "cell_type": "markdown",
   "id": "83ebb53a",
   "metadata": {},
   "source": [
    "First, create two ``WatchListIndicator`` objects."
   ]
  },
  {
   "cell_type": "code",
   "execution_count": 2,
   "id": "3b4d8f6d",
   "metadata": {
    "execution": {
     "iopub.execute_input": "2022-02-11T22:26:08.918344Z",
     "iopub.status.busy": "2022-02-11T22:26:08.917634Z",
     "iopub.status.idle": "2022-02-11T22:26:08.922159Z",
     "shell.execute_reply": "2022-02-11T22:26:08.921614Z"
    },
    "tags": []
   },
   "outputs": [],
   "source": [
    "from ansys.grantami.bomanalytics import indicators\n",
    "\n",
    "svhc = indicators.WatchListIndicator(\n",
    "    name=\"SVHC\",\n",
    "    legislation_names=[\"REACH - The Candidate List\"],\n",
    "    default_threshold_percentage=0.1,\n",
    ")\n",
    "sin = indicators.WatchListIndicator(\n",
    "    name=\"SIN\",\n",
    "    legislation_names=[\"The SIN List 2.1 (Substitute It Now!)\"]\n",
    ")"
   ]
  },
  {
   "cell_type": "markdown",
   "id": "f934cde9",
   "metadata": {
    "tags": []
   },
   "source": [
    "## Building and Running the Query"
   ]
  },
  {
   "cell_type": "markdown",
   "id": "a9663173",
   "metadata": {},
   "source": [
    "Next define the query itself. Parts can be referenced by Granta MI record reference or Part Number. The\n",
    "table containing the Part records is not required, since this is enforced by the Restricted Substances database\n",
    "schema."
   ]
  },
  {
   "cell_type": "code",
   "execution_count": 3,
   "id": "69444def",
   "metadata": {
    "execution": {
     "iopub.execute_input": "2022-02-11T22:26:08.927179Z",
     "iopub.status.busy": "2022-02-11T22:26:08.926542Z",
     "iopub.status.idle": "2022-02-11T22:26:08.937652Z",
     "shell.execute_reply": "2022-02-11T22:26:08.938283Z"
    },
    "tags": []
   },
   "outputs": [],
   "source": [
    "from ansys.grantami.bomanalytics import queries\n",
    "\n",
    "part_query = (\n",
    "    queries.PartComplianceQuery()\n",
    "    .with_part_numbers([\"asm_flap_mating\", \"DRILL\"])\n",
    "    .with_indicators([svhc])\n",
    ")"
   ]
  },
  {
   "cell_type": "markdown",
   "id": "91f6eee3",
   "metadata": {},
   "source": [
    "Finally, run the query. Passing a ``PartComplianceQuery`` object to the ``Connection.run()`` method returns a\n",
    "``PartComplianceQueryResult`` object."
   ]
  },
  {
   "cell_type": "code",
   "execution_count": 4,
   "id": "4ee286cc",
   "metadata": {
    "execution": {
     "iopub.execute_input": "2022-02-11T22:26:08.944768Z",
     "iopub.status.busy": "2022-02-11T22:26:08.944159Z",
     "iopub.status.idle": "2022-02-11T22:26:13.737629Z",
     "shell.execute_reply": "2022-02-11T22:26:13.736774Z"
    },
    "tags": []
   },
   "outputs": [
    {
     "data": {
      "text/plain": [
       "<PartComplianceQueryResult: 2 PartWithCompliance results>"
      ]
     },
     "execution_count": 4,
     "metadata": {},
     "output_type": "execute_result"
    }
   ],
   "source": [
    "part_result = cxn.run(part_query)\n",
    "part_result"
   ]
  },
  {
   "cell_type": "markdown",
   "id": "149fd5b9",
   "metadata": {
    "tags": []
   },
   "source": [
    "The result object contains two properties, ``compliance_by_part_and_indicator`` and ``compliance_by_indicator``."
   ]
  },
  {
   "cell_type": "markdown",
   "id": "0b8e3d16",
   "metadata": {},
   "source": [
    "## Results Grouped by Part"
   ]
  },
  {
   "cell_type": "markdown",
   "id": "c37bc9ed",
   "metadata": {
    "tags": []
   },
   "source": [
    "``compliance_by_part_and_indicator`` contains a list of ``PartWithComplianceResult`` objects with the\n",
    "reference to the part record and the compliance status for each indicator.\n",
    "\n",
    "In Granta MI, Parts can link to the following record types:\n",
    "\n",
    "- Parts\n",
    "- Specifications (which can link to Specifications, Materials, Substances, and Coatings)\n",
    "- Materials (which can link to Substances)\n",
    "- Substances\n",
    "\n",
    "Because compliance of a part is determined based on the compliance of the items that the record is linked to, the\n",
    "corresponding ``ResultWithCompliance`` objects are included in the parent ``PartWithComplianceResult``, each with\n",
    "their own compliance status."
   ]
  },
  {
   "cell_type": "markdown",
   "id": "74e2f172",
   "metadata": {},
   "source": [
    "Since we specified two part records, we have received two result objects back. In this example, we will only look in\n",
    "more detail at results for the wing flap assembly."
   ]
  },
  {
   "cell_type": "code",
   "execution_count": 5,
   "id": "f0c145db",
   "metadata": {
    "execution": {
     "iopub.execute_input": "2022-02-11T22:26:13.743502Z",
     "iopub.status.busy": "2022-02-11T22:26:13.742891Z",
     "iopub.status.idle": "2022-02-11T22:26:13.747509Z",
     "shell.execute_reply": "2022-02-11T22:26:13.747998Z"
    },
    "tags": []
   },
   "outputs": [
    {
     "name": "stdout",
     "output_type": "stream",
     "text": [
      "Wing compliance status: WatchListHasSubstanceAboveThreshold\n"
     ]
    }
   ],
   "source": [
    "wing = part_result.compliance_by_part_and_indicator[0]\n",
    "print(f\"Wing compliance status: {wing.indicators['SVHC'].flag.name}\")"
   ]
  },
  {
   "cell_type": "markdown",
   "id": "388b3486",
   "metadata": {},
   "source": [
    "This tells us that the wing flap assembly contains an SVHC above the 0.1% threshold."
   ]
  },
  {
   "cell_type": "markdown",
   "id": "e1c174fc",
   "metadata": {},
   "source": [
    "We can print the parts below this part that also contain an SVHC above the threshold. The parts referenced by the\n",
    "``wing`` part are available in the ``parts`` property."
   ]
  },
  {
   "cell_type": "code",
   "execution_count": 6,
   "id": "135716f0",
   "metadata": {
    "execution": {
     "iopub.execute_input": "2022-02-11T22:26:13.756565Z",
     "iopub.status.busy": "2022-02-11T22:26:13.755066Z",
     "iopub.status.idle": "2022-02-11T22:26:13.758677Z",
     "shell.execute_reply": "2022-02-11T22:26:13.758124Z"
    },
    "tags": []
   },
   "outputs": [
    {
     "name": "stdout",
     "output_type": "stream",
     "text": [
      "1 parts that contain SVHCs\n",
      "Part: 564821\n"
     ]
    }
   ],
   "source": [
    "above_threshold_flag = svhc.available_flags.WatchListAboveThreshold\n",
    "parts_contain_svhcs = [part for part in wing.parts\n",
    "                       if part.indicators[\"SVHC\"] >= above_threshold_flag]\n",
    "print(f\"{len(parts_contain_svhcs)} parts that contain SVHCs\")\n",
    "for part in parts_contain_svhcs:\n",
    "    print(f\"Part: {part.record_history_identity}\")"
   ]
  },
  {
   "cell_type": "markdown",
   "id": "25661d73",
   "metadata": {
    "lines_to_next_cell": 2
   },
   "source": [
    "This process can be performed recursively to show a structure of each part that contains SVHCs either directly or\n",
    "indirectly. The cells below implement the code above in a function that can be called recursively, and then call it\n",
    "on the wing flap assembly."
   ]
  },
  {
   "cell_type": "code",
   "execution_count": 7,
   "id": "7988326f",
   "metadata": {
    "execution": {
     "iopub.execute_input": "2022-02-11T22:26:13.764145Z",
     "iopub.status.busy": "2022-02-11T22:26:13.763532Z",
     "iopub.status.idle": "2022-02-11T22:26:13.766104Z",
     "shell.execute_reply": "2022-02-11T22:26:13.765561Z"
    },
    "tags": []
   },
   "outputs": [],
   "source": [
    "def recursively_print_parts_with_svhcs(parts, depth=0):\n",
    "    parts_contain_svhcs = [part for part in parts\n",
    "                           if part.indicators[\"SVHC\"] >= above_threshold_flag]\n",
    "    for part in parts_contain_svhcs:\n",
    "        print(f\"{'  '*depth}- Part: {part.record_history_identity}\")\n",
    "        recursively_print_parts_with_svhcs(part.parts, depth + 1)"
   ]
  },
  {
   "cell_type": "code",
   "execution_count": 8,
   "id": "0cbcad0b",
   "metadata": {
    "execution": {
     "iopub.execute_input": "2022-02-11T22:26:13.770946Z",
     "iopub.status.busy": "2022-02-11T22:26:13.770319Z",
     "iopub.status.idle": "2022-02-11T22:26:13.775043Z",
     "shell.execute_reply": "2022-02-11T22:26:13.774415Z"
    },
    "tags": []
   },
   "outputs": [
    {
     "name": "stdout",
     "output_type": "stream",
     "text": [
      "- Part: 564821\n",
      "  - Part: 564794\n",
      "  - Part: 564907\n",
      "  - Part: 565076\n",
      "  - Part: 565088\n"
     ]
    }
   ],
   "source": [
    "recursively_print_parts_with_svhcs(wing.parts)"
   ]
  },
  {
   "cell_type": "markdown",
   "id": "5cf8830f",
   "metadata": {
    "lines_to_next_cell": 2
   },
   "source": [
    "This can be extended further to include all possible BoM components in the recursive iteration, including\n",
    "specifications, coatings, and substances."
   ]
  },
  {
   "cell_type": "code",
   "execution_count": 9,
   "id": "4c12f9a7",
   "metadata": {
    "execution": {
     "iopub.execute_input": "2022-02-11T22:26:13.781215Z",
     "iopub.status.busy": "2022-02-11T22:26:13.780439Z",
     "iopub.status.idle": "2022-02-11T22:26:13.782681Z",
     "shell.execute_reply": "2022-02-11T22:26:13.783191Z"
    },
    "tags": []
   },
   "outputs": [],
   "source": [
    "def recursively_print_parts_with_svhcs(parts, depth=0):\n",
    "    parts_contain_svhcs = [part for part in parts\n",
    "                           if part.indicators[\"SVHC\"] >= above_threshold_flag]\n",
    "    for part in parts_contain_svhcs:\n",
    "        print(f\"{'  '*depth}- Part: {part.record_history_identity}\")\n",
    "        recursively_print_parts_with_svhcs(part.parts, depth + 1)\n",
    "        print_materials_with_svhcs(part.materials, depth + 1)\n",
    "        print_specifications_with_svhcs(part.specifications, depth + 1)\n",
    "        print_substances_with_svhcs(part.substances, depth + 1)"
   ]
  },
  {
   "cell_type": "code",
   "execution_count": 10,
   "id": "d2df40e0",
   "metadata": {
    "execution": {
     "iopub.execute_input": "2022-02-11T22:26:13.789667Z",
     "iopub.status.busy": "2022-02-11T22:26:13.788218Z",
     "iopub.status.idle": "2022-02-11T22:26:13.790826Z",
     "shell.execute_reply": "2022-02-11T22:26:13.791444Z"
    },
    "tags": []
   },
   "outputs": [],
   "source": [
    "def print_materials_with_svhcs(materials, depth=0):\n",
    "    mats_contain_svhcs = [m for m in materials\n",
    "                          if m.indicators[\"SVHC\"] >= above_threshold_flag]\n",
    "    for mat in mats_contain_svhcs:\n",
    "        print(f\"{'  '*depth}- Material: {mat.record_history_identity}\")\n",
    "        print_substances_with_svhcs(mat.substances, depth + 1)"
   ]
  },
  {
   "cell_type": "code",
   "execution_count": 11,
   "id": "00c092b5",
   "metadata": {
    "execution": {
     "iopub.execute_input": "2022-02-11T22:26:13.798988Z",
     "iopub.status.busy": "2022-02-11T22:26:13.797515Z",
     "iopub.status.idle": "2022-02-11T22:26:13.799695Z",
     "shell.execute_reply": "2022-02-11T22:26:13.800371Z"
    },
    "tags": []
   },
   "outputs": [],
   "source": [
    "def print_specifications_with_svhcs(specifications, depth=0):\n",
    "    specs_contain_svhcs = [s for s in specifications\n",
    "                           if s.indicators[\"SVHC\"] >= above_threshold_flag]\n",
    "    for spec in specs_contain_svhcs:\n",
    "        print(f\"{'  '*depth}- Specification: {spec.record_history_identity}\")\n",
    "        print_coatings_with_svhcs(spec.coatings, depth + 1)\n",
    "        print_substances_with_svhcs(spec.substances, depth + 1)"
   ]
  },
  {
   "cell_type": "code",
   "execution_count": 12,
   "id": "0d220c0f",
   "metadata": {
    "execution": {
     "iopub.execute_input": "2022-02-11T22:26:13.805810Z",
     "iopub.status.busy": "2022-02-11T22:26:13.805190Z",
     "iopub.status.idle": "2022-02-11T22:26:13.807782Z",
     "shell.execute_reply": "2022-02-11T22:26:13.808282Z"
    },
    "tags": []
   },
   "outputs": [],
   "source": [
    "def print_coatings_with_svhcs(coatings, depth=0):\n",
    "    coatings_contain_svhcs = [c for c in coatings\n",
    "                             if c.indicators[\"SVHC\"] >= above_threshold_flag]\n",
    "    for coating in coatings_contain_svhcs:\n",
    "        print(f\"{'  '*depth}- Coating: {coating.record_history_identity}\")\n",
    "        print_substances_with_svhcs(coating.substances, depth + 1)"
   ]
  },
  {
   "cell_type": "code",
   "execution_count": 13,
   "id": "77f1d94c",
   "metadata": {
    "execution": {
     "iopub.execute_input": "2022-02-11T22:26:13.814827Z",
     "iopub.status.busy": "2022-02-11T22:26:13.813400Z",
     "iopub.status.idle": "2022-02-11T22:26:13.815676Z",
     "shell.execute_reply": "2022-02-11T22:26:13.816360Z"
    },
    "tags": []
   },
   "outputs": [],
   "source": [
    "def print_substances_with_svhcs(substances, depth=0):\n",
    "    subs_contain_svhcs = [sub for sub in substances\n",
    "                          if sub.indicators[\"SVHC\"] >= above_threshold_flag]\n",
    "    for sub in subs_contain_svhcs:\n",
    "        print(f\"{'  '*depth}- Substance: {sub.record_history_identity}\")"
   ]
  },
  {
   "cell_type": "code",
   "execution_count": 14,
   "id": "839d05c1",
   "metadata": {
    "execution": {
     "iopub.execute_input": "2022-02-11T22:26:13.823141Z",
     "iopub.status.busy": "2022-02-11T22:26:13.822402Z",
     "iopub.status.idle": "2022-02-11T22:26:13.829361Z",
     "shell.execute_reply": "2022-02-11T22:26:13.828785Z"
    },
    "tags": []
   },
   "outputs": [
    {
     "name": "stdout",
     "output_type": "stream",
     "text": [
      "- Part: 564821\n",
      "  - Part: 564794\n",
      "    - Specification: 164846\n",
      "      - Coating: 83146\n",
      "        - Substance: 75023\n",
      "  - Part: 564907\n",
      "    - Specification: 164846\n",
      "      - Coating: 83146\n",
      "        - Substance: 75023\n",
      "  - Part: 565076\n",
      "    - Specification: 164846\n",
      "      - Coating: 83146\n",
      "        - Substance: 75023\n",
      "  - Part: 565088\n",
      "    - Specification: 164846\n",
      "      - Coating: 83146\n",
      "        - Substance: 75023\n"
     ]
    }
   ],
   "source": [
    "recursively_print_parts_with_svhcs(wing.parts)"
   ]
  },
  {
   "cell_type": "markdown",
   "id": "7b35468e",
   "metadata": {},
   "source": [
    "We have now identified a coating that is causing non-compliance. There is a single coating in the assembly that is\n",
    "non-compliant, but it appears in 4 non-compliant sub-components. The coating also only contains one\n",
    "non-compliant substance."
   ]
  },
  {
   "cell_type": "markdown",
   "id": "76618cb0",
   "metadata": {},
   "source": [
    "## Results Grouped by Indicator"
   ]
  },
  {
   "cell_type": "markdown",
   "id": "12e9bc7e",
   "metadata": {},
   "source": [
    "Alternatively, using the ``compliance_by_indicator`` property will give us a single indicator result that rolls up the\n",
    "results across all parts in the query. This would be useful in a situation where we have a 'concept' assembly stored\n",
    "outside of Granta MI, and we want to determine its compliance. We know it contains the subassemblies specified in the\n",
    "query above, and so using ``compliance_by_indicator`` will tell us if that concept assembly is compliant based on the\n",
    "worst result of the individual subassemblies."
   ]
  },
  {
   "cell_type": "code",
   "execution_count": 15,
   "id": "072d3ee2",
   "metadata": {
    "execution": {
     "iopub.execute_input": "2022-02-11T22:26:13.834618Z",
     "iopub.status.busy": "2022-02-11T22:26:13.833982Z",
     "iopub.status.idle": "2022-02-11T22:26:13.836467Z",
     "shell.execute_reply": "2022-02-11T22:26:13.836976Z"
    },
    "tags": []
   },
   "outputs": [
    {
     "name": "stdout",
     "output_type": "stream",
     "text": [
      "One or more subassemblies contains an SVHC in a quantity > 0.1%\n"
     ]
    }
   ],
   "source": [
    "if part_result.compliance_by_indicator[\"SVHC\"] >= above_threshold_flag:\n",
    "    print(\"One or more subassemblies contains an SVHC in a quantity > 0.1%\")\n",
    "else:\n",
    "    print(\"No SVHCs, or SVHCs are present in a quantity < 0.1%\")"
   ]
  }
 ],
 "metadata": {
  "jupytext": {
   "formats": "ipynb,py:light"
  },
  "kernelspec": {
   "display_name": "Python 3 (ipykernel)",
   "language": "python",
   "name": "python3"
  },
  "language_info": {
   "codemirror_mode": {
    "name": "ipython",
    "version": 3
   },
   "file_extension": ".py",
   "mimetype": "text/x-python",
   "name": "python",
   "nbconvert_exporter": "python",
   "pygments_lexer": "ipython3",
   "version": "3.10.2"
  }
 },
 "nbformat": 4,
 "nbformat_minor": 5
}
