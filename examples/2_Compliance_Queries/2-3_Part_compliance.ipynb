{
 "cells": [
  {
   "cell_type": "markdown",
   "id": "f5314dc8",
   "metadata": {},
   "source": [
    "# [TECHDOCS]Performing a Part Compliance Query"
   ]
  },
  {
   "cell_type": "markdown",
   "id": "0f1cbc10",
   "metadata": {},
   "source": [
    "A Part Compliance Query determines whether one or more parts are compliant with the specified indicators. This is\n",
    "done by first finding all substances directly or indirectly associated with that part, determining compliance for\n",
    "those substances, and then rolling up the results to the material."
   ]
  },
  {
   "cell_type": "markdown",
   "id": "07de16b3",
   "metadata": {},
   "source": [
    "## Connecting to Granta MI"
   ]
  },
  {
   "cell_type": "markdown",
   "id": "dd20d40f",
   "metadata": {},
   "source": [
    "Import the `Connection` class and create the connection. See the Getting Started example for more detail."
   ]
  },
  {
   "cell_type": "code",
   "execution_count": 1,
   "id": "63f14cb4",
   "metadata": {
    "execution": {
     "iopub.execute_input": "2022-01-19T18:14:12.267939Z",
     "iopub.status.busy": "2022-01-19T18:14:12.267486Z",
     "iopub.status.idle": "2022-01-19T18:14:12.831153Z",
     "shell.execute_reply": "2022-01-19T18:14:12.830568Z"
    },
    "tags": []
   },
   "outputs": [],
   "source": [
    "from ansys.grantami.bomanalytics import Connection\n",
    "\n",
    "server_url = \"http://my_grantami_service/mi_servicelayer\"\n",
    "cxn = Connection(server_url).with_credentials(\"user_name\", \"password\").connect()"
   ]
  },
  {
   "cell_type": "markdown",
   "id": "43872dd5",
   "metadata": {},
   "source": [
    "## Defining an Indicator"
   ]
  },
  {
   "cell_type": "markdown",
   "id": "3bcd0a86",
   "metadata": {},
   "source": [
    "In contrast to an ImpactedSubstances query, a Compliance query determines compliance against 'Indicators' as opposed\n",
    "to directly against legislations.\n",
    "\n",
    "There are two types of Indicator, the differences between the two are described elsewhere in the documentation. The\n",
    "differences are in the internal implementation, and the interface presented here applies to both `WatchListIndicator`\n",
    "objects and `RohsIndicator` objects. However, the generic behavior is such that if a substance is impacted by a\n",
    "legislation that is associated with an indicator in a quantity above a threshold, the substance is non-compliant with\n",
    "that indicator. This non-compliance then rolls up the BoM hierarchy to any other items that directly or indirectly\n",
    "include that substance."
   ]
  },
  {
   "cell_type": "markdown",
   "id": "98494f2c",
   "metadata": {},
   "source": [
    "The cell below creates two Indicators."
   ]
  },
  {
   "cell_type": "code",
   "execution_count": 2,
   "id": "38d4273c",
   "metadata": {
    "execution": {
     "iopub.execute_input": "2022-01-19T18:14:12.836502Z",
     "iopub.status.busy": "2022-01-19T18:14:12.835101Z",
     "iopub.status.idle": "2022-01-19T18:14:12.838022Z",
     "shell.execute_reply": "2022-01-19T18:14:12.838366Z"
    },
    "lines_to_next_cell": 2,
    "tags": []
   },
   "outputs": [],
   "source": [
    "from ansys.grantami.bomanalytics import indicators\n",
    "\n",
    "svhc = indicators.WatchListIndicator(\n",
    "    name=\"SVHC\",\n",
    "    legislation_names=[\"REACH - The Candidate List\"],\n",
    "    default_threshold_percentage=0.1,\n",
    ")\n",
    "sin = indicators.WatchListIndicator(\n",
    "    name=\"SIN\",\n",
    "    legislation_names=[\"The SIN List 2.1 (Substitute It Now!)\"]\n",
    ")"
   ]
  },
  {
   "cell_type": "markdown",
   "id": "7459a049",
   "metadata": {
    "tags": []
   },
   "source": [
    "## Building and Running the Query"
   ]
  },
  {
   "cell_type": "markdown",
   "id": "7f478858",
   "metadata": {},
   "source": [
    "Next define the query itself. Parts can be referenced by any typical Granta MI record reference or by Part Number. The\n",
    "table containing the Part records is not required, since this is enforced by the Restricted Substances database\n",
    "schema."
   ]
  },
  {
   "cell_type": "code",
   "execution_count": 3,
   "id": "3da34431",
   "metadata": {
    "execution": {
     "iopub.execute_input": "2022-01-19T18:14:12.842317Z",
     "iopub.status.busy": "2022-01-19T18:14:12.841765Z",
     "iopub.status.idle": "2022-01-19T18:14:12.850499Z",
     "shell.execute_reply": "2022-01-19T18:14:12.850096Z"
    },
    "tags": []
   },
   "outputs": [],
   "source": [
    "from ansys.grantami.bomanalytics import queries\n",
    "\n",
    "part_query = (\n",
    "    queries.PartComplianceQuery()\n",
    "    .with_part_numbers([\"asm_flap_mating\", \"DRILL\"])\n",
    "    .with_indicators([svhc])\n",
    ")"
   ]
  },
  {
   "cell_type": "markdown",
   "id": "ac9d507a",
   "metadata": {},
   "source": [
    "Finally, run the query. Passing a `PartComplianceQuery` object to the `Connection.run()` method returns a\n",
    "`PartComplianceQueryResult` object."
   ]
  },
  {
   "cell_type": "code",
   "execution_count": 4,
   "id": "7a858071",
   "metadata": {
    "execution": {
     "iopub.execute_input": "2022-01-19T18:14:12.855597Z",
     "iopub.status.busy": "2022-01-19T18:14:12.855149Z",
     "iopub.status.idle": "2022-01-19T18:14:17.072587Z",
     "shell.execute_reply": "2022-01-19T18:14:17.072997Z"
    },
    "tags": []
   },
   "outputs": [
    {
     "data": {
      "text/plain": [
       "<PartComplianceQueryResult: 2 PartWithCompliance results>"
      ]
     },
     "execution_count": 4,
     "metadata": {},
     "output_type": "execute_result"
    }
   ],
   "source": [
    "part_result = cxn.run(part_query)\n",
    "part_result"
   ]
  },
  {
   "cell_type": "markdown",
   "id": "abc087ba",
   "metadata": {
    "tags": []
   },
   "source": [
    "The result object contains two properties, `compliance_by_part_and_indicator` and `compliance_by_indicator`."
   ]
  },
  {
   "cell_type": "markdown",
   "id": "119f4cb4",
   "metadata": {},
   "source": [
    "## compliance_by_part_and_indicator"
   ]
  },
  {
   "cell_type": "markdown",
   "id": "d67a024f",
   "metadata": {
    "tags": []
   },
   "source": [
    "`compliance_by_part_and_indicator` contains a list of `PartWithComplianceResult` objects that contain the\n",
    "reference to the part record and the compliance status for each indicator. However, in Granta MI Parts can\n",
    "link to the following record types:\n",
    "\n",
    "- Parts\n",
    "- Specifications (which can link to Specifications, Materials, Substances, and Coatings)\n",
    "- Materials (which can link to Substances)\n",
    "- Substances\n",
    "\n",
    "Since compliance is determined based on the compliance of the items the record is linked to, the corresponding\n",
    "`ResultWithCompliance` objects are included in the parent `PartWithComplianceResult`, each with their own\n",
    "compliance status."
   ]
  },
  {
   "cell_type": "markdown",
   "id": "d1bf339c",
   "metadata": {},
   "source": [
    "Since we specified two part records, we have received two result objects back. For this example we are only interested\n",
    "in the first one for the wing flap assembly."
   ]
  },
  {
   "cell_type": "code",
   "execution_count": 5,
   "id": "2e8fb7bd",
   "metadata": {
    "execution": {
     "iopub.execute_input": "2022-01-19T18:14:17.078456Z",
     "iopub.status.busy": "2022-01-19T18:14:17.077406Z",
     "iopub.status.idle": "2022-01-19T18:14:17.080126Z",
     "shell.execute_reply": "2022-01-19T18:14:17.079724Z"
    },
    "tags": []
   },
   "outputs": [
    {
     "name": "stdout",
     "output_type": "stream",
     "text": [
      "Wing compliance status: WatchListHasSubstanceAboveThreshold\n"
     ]
    }
   ],
   "source": [
    "wing = part_result.compliance_by_part_and_indicator[0]\n",
    "print(f\"Wing compliance status: {wing.indicators['SVHC'].flag.name}\")"
   ]
  },
  {
   "cell_type": "markdown",
   "id": "befe2922",
   "metadata": {},
   "source": [
    "This tells us that the wing flap assembly contains an SVHC above the 0.1% threshold."
   ]
  },
  {
   "cell_type": "markdown",
   "id": "88076c5e",
   "metadata": {},
   "source": [
    "We can print the parts below this part that also contain an SVHC above the threshold. The parts referenced by the\n",
    "'wing' part are available in the `parts` property."
   ]
  },
  {
   "cell_type": "code",
   "execution_count": 6,
   "id": "267fdfac",
   "metadata": {
    "execution": {
     "iopub.execute_input": "2022-01-19T18:14:17.084907Z",
     "iopub.status.busy": "2022-01-19T18:14:17.082291Z",
     "iopub.status.idle": "2022-01-19T18:14:17.086853Z",
     "shell.execute_reply": "2022-01-19T18:14:17.087223Z"
    },
    "tags": []
   },
   "outputs": [
    {
     "name": "stdout",
     "output_type": "stream",
     "text": [
      "1 parts that contain SVHCs\n",
      "Part: 564821\n"
     ]
    }
   ],
   "source": [
    "above_threshold_flag = svhc.available_flags.WatchListAboveThreshold\n",
    "parts_contain_svhcs = [part for part in wing.parts\n",
    "                       if part.indicators[\"SVHC\"] >= above_threshold_flag]\n",
    "print(f\"{len(parts_contain_svhcs)} parts that contain SVHCs\")\n",
    "for part in parts_contain_svhcs:\n",
    "    print(f\"Part: {part.record_history_identity}\")"
   ]
  },
  {
   "cell_type": "markdown",
   "id": "42a89ca9",
   "metadata": {
    "lines_to_next_cell": 2
   },
   "source": [
    "This process can be performed recursively to show a structure of each part that contains SVHCs either directly or\n",
    "indirectly. The cells below implement the code above in a function that can be called recursively, and then call it\n",
    "on the wing flap assembly."
   ]
  },
  {
   "cell_type": "code",
   "execution_count": 7,
   "id": "a2d7573c",
   "metadata": {
    "execution": {
     "iopub.execute_input": "2022-01-19T18:14:17.092698Z",
     "iopub.status.busy": "2022-01-19T18:14:17.091476Z",
     "iopub.status.idle": "2022-01-19T18:14:17.093226Z",
     "shell.execute_reply": "2022-01-19T18:14:17.093595Z"
    },
    "tags": []
   },
   "outputs": [],
   "source": [
    "def recursively_print_parts_with_svhcs(parts, depth=0):\n",
    "    parts_contain_svhcs = [part for part in parts\n",
    "                           if part.indicators[\"SVHC\"] >= above_threshold_flag]\n",
    "    for part in parts_contain_svhcs:\n",
    "        print(f\"{'  '*depth}- Part: {part.record_history_identity}\")\n",
    "        recursively_print_parts_with_svhcs(part.parts, depth + 1)"
   ]
  },
  {
   "cell_type": "code",
   "execution_count": 8,
   "id": "759c8f1b",
   "metadata": {
    "execution": {
     "iopub.execute_input": "2022-01-19T18:14:17.097943Z",
     "iopub.status.busy": "2022-01-19T18:14:17.097263Z",
     "iopub.status.idle": "2022-01-19T18:14:17.100916Z",
     "shell.execute_reply": "2022-01-19T18:14:17.101299Z"
    },
    "tags": []
   },
   "outputs": [
    {
     "name": "stdout",
     "output_type": "stream",
     "text": [
      "- Part: 564821\n",
      "  - Part: 564794\n",
      "  - Part: 564907\n",
      "  - Part: 565076\n",
      "  - Part: 565088\n"
     ]
    }
   ],
   "source": [
    "recursively_print_parts_with_svhcs(wing.parts)"
   ]
  },
  {
   "cell_type": "markdown",
   "id": "627f8052",
   "metadata": {
    "lines_to_next_cell": 2
   },
   "source": [
    "This can be extended further to include all possible BoM components in the recursive iteration, including\n",
    "specifications, coatings, and substances."
   ]
  },
  {
   "cell_type": "code",
   "execution_count": 9,
   "id": "c3ef5cd2",
   "metadata": {
    "execution": {
     "iopub.execute_input": "2022-01-19T18:14:17.106980Z",
     "iopub.status.busy": "2022-01-19T18:14:17.105930Z",
     "iopub.status.idle": "2022-01-19T18:14:17.107500Z",
     "shell.execute_reply": "2022-01-19T18:14:17.107865Z"
    },
    "tags": []
   },
   "outputs": [],
   "source": [
    "def recursively_print_parts_with_svhcs(parts, depth=0):\n",
    "    parts_contain_svhcs = [part for part in parts\n",
    "                           if part.indicators[\"SVHC\"] >= above_threshold_flag]\n",
    "    for part in parts_contain_svhcs:\n",
    "        print(f\"{'  '*depth}- Part: {part.record_history_identity}\")\n",
    "        recursively_print_parts_with_svhcs(part.parts, depth + 1)\n",
    "        print_materials_with_svhcs(part.materials, depth + 1)\n",
    "        print_specifications_with_svhcs(part.specifications, depth + 1)\n",
    "        print_substances_with_svhcs(part.substances, depth + 1)"
   ]
  },
  {
   "cell_type": "code",
   "execution_count": 10,
   "id": "25676ef8",
   "metadata": {
    "execution": {
     "iopub.execute_input": "2022-01-19T18:14:17.113030Z",
     "iopub.status.busy": "2022-01-19T18:14:17.111870Z",
     "iopub.status.idle": "2022-01-19T18:14:17.113549Z",
     "shell.execute_reply": "2022-01-19T18:14:17.113916Z"
    },
    "tags": []
   },
   "outputs": [],
   "source": [
    "def print_materials_with_svhcs(materials, depth=0):\n",
    "    mats_contain_svhcs = [m for m in materials\n",
    "                          if m.indicators[\"SVHC\"] >= above_threshold_flag]\n",
    "    for mat in mats_contain_svhcs:\n",
    "        print(f\"{'  '*depth}- Material: {mat.record_history_identity}\")\n",
    "        print_substances_with_svhcs(mat.substances, depth + 1)"
   ]
  },
  {
   "cell_type": "code",
   "execution_count": 11,
   "id": "5e71567a",
   "metadata": {
    "execution": {
     "iopub.execute_input": "2022-01-19T18:14:17.119050Z",
     "iopub.status.busy": "2022-01-19T18:14:17.118014Z",
     "iopub.status.idle": "2022-01-19T18:14:17.119585Z",
     "shell.execute_reply": "2022-01-19T18:14:17.119956Z"
    },
    "tags": []
   },
   "outputs": [],
   "source": [
    "def print_specifications_with_svhcs(specifications, depth=0):\n",
    "    specs_contain_svhcs = [s for s in specifications\n",
    "                           if s.indicators[\"SVHC\"] >= above_threshold_flag]\n",
    "    for spec in specs_contain_svhcs:\n",
    "        print(f\"{'  '*depth}- Specification: {spec.record_history_identity}\")\n",
    "        print_coatings_with_svhcs(spec.coatings, depth + 1)\n",
    "        print_substances_with_svhcs(spec.substances, depth + 1)"
   ]
  },
  {
   "cell_type": "code",
   "execution_count": 12,
   "id": "f972c6b2",
   "metadata": {
    "execution": {
     "iopub.execute_input": "2022-01-19T18:14:17.124200Z",
     "iopub.status.busy": "2022-01-19T18:14:17.123730Z",
     "iopub.status.idle": "2022-01-19T18:14:17.126982Z",
     "shell.execute_reply": "2022-01-19T18:14:17.126578Z"
    },
    "tags": []
   },
   "outputs": [],
   "source": [
    "def print_coatings_with_svhcs(coatings, depth=0):\n",
    "    coatings_contain_svhcs = [c for c in coatings\n",
    "                             if c.indicators[\"SVHC\"] >= above_threshold_flag]\n",
    "    for coating in coatings_contain_svhcs:\n",
    "        print(f\"{'  '*depth}- Coating: {coating.record_history_identity}\")\n",
    "        print_substances_with_svhcs(coating.substances, depth + 1)"
   ]
  },
  {
   "cell_type": "code",
   "execution_count": 13,
   "id": "179bd1e6",
   "metadata": {
    "execution": {
     "iopub.execute_input": "2022-01-19T18:14:17.131075Z",
     "iopub.status.busy": "2022-01-19T18:14:17.129011Z",
     "iopub.status.idle": "2022-01-19T18:14:17.133093Z",
     "shell.execute_reply": "2022-01-19T18:14:17.132662Z"
    },
    "tags": []
   },
   "outputs": [],
   "source": [
    "def print_substances_with_svhcs(substances, depth=0):\n",
    "    subs_contain_svhcs = [sub for sub in substances\n",
    "                          if sub.indicators[\"SVHC\"] >= above_threshold_flag]\n",
    "    for sub in subs_contain_svhcs:\n",
    "        print(f\"{'  '*depth}- Substance: {sub.record_history_identity}\")"
   ]
  },
  {
   "cell_type": "code",
   "execution_count": 14,
   "id": "3866f947",
   "metadata": {
    "execution": {
     "iopub.execute_input": "2022-01-19T18:14:17.138670Z",
     "iopub.status.busy": "2022-01-19T18:14:17.138199Z",
     "iopub.status.idle": "2022-01-19T18:14:17.146736Z",
     "shell.execute_reply": "2022-01-19T18:14:17.146326Z"
    },
    "tags": []
   },
   "outputs": [
    {
     "name": "stdout",
     "output_type": "stream",
     "text": [
      "- Part: 564821\n",
      "  - Part: 564794\n",
      "    - Specification: 164846\n",
      "      - Coating: 83146\n",
      "        - Substance: 75023\n",
      "  - Part: 564907\n",
      "    - Specification: 164846\n",
      "      - Coating: 83146\n",
      "        - Substance: 75023\n",
      "  - Part: 565076\n",
      "    - Specification: 164846\n",
      "      - Coating: 83146\n",
      "        - Substance: 75023\n",
      "  - Part: 565088\n",
      "    - Specification: 164846\n",
      "      - Coating: 83146\n",
      "        - Substance: 75023\n"
     ]
    }
   ],
   "source": [
    "recursively_print_parts_with_svhcs(wing.parts)"
   ]
  },
  {
   "cell_type": "markdown",
   "id": "3cdee716",
   "metadata": {},
   "source": [
    "We have now identified the coating that is causing non-compliance. There is only one coating in the assembly that is\n",
    "non-compliant, that appears in the 4 non-compliant sub-components. Further, the coating only contains one\n",
    "non-compliant substance."
   ]
  },
  {
   "cell_type": "markdown",
   "id": "0c3cd6de",
   "metadata": {},
   "source": [
    "## compliance_by_indicator"
   ]
  },
  {
   "cell_type": "markdown",
   "id": "29f3745e",
   "metadata": {},
   "source": [
    "Alternatively, using the `compliance_by_indicator` property will give us a single indicator result that rolls up the\n",
    "results across all parts in the query. This would be useful in a situation where we have a 'concept' assembly stored\n",
    "outside of Granta MI, and we want to determine its compliance. We know it contains the sub-assemblies specified in the\n",
    "query above, and so using `compliance_by_indicator` will tell us if that concept assembly is compliant based on the\n",
    "worst result of the individual sub-assemblies."
   ]
  },
  {
   "cell_type": "code",
   "execution_count": 15,
   "id": "79f5165d",
   "metadata": {
    "execution": {
     "iopub.execute_input": "2022-01-19T18:14:17.150993Z",
     "iopub.status.busy": "2022-01-19T18:14:17.148858Z",
     "iopub.status.idle": "2022-01-19T18:14:17.152853Z",
     "shell.execute_reply": "2022-01-19T18:14:17.153228Z"
    },
    "tags": []
   },
   "outputs": [
    {
     "name": "stdout",
     "output_type": "stream",
     "text": [
      "One or more sub-assemblies contains an SVHC in a quantity > 0.1%\n"
     ]
    }
   ],
   "source": [
    "if part_result.compliance_by_indicator[\"SVHC\"] >= above_threshold_flag:\n",
    "    print(\"One or more sub-assemblies contains an SVHC in a quantity > 0.1%\")\n",
    "else:\n",
    "    print(\"No SVHCs, or SVHCs are present in a quantity < 0.1%\")"
   ]
  }
 ],
 "metadata": {
  "jupytext": {
   "formats": "ipynb,py:light"
  },
  "kernelspec": {
   "display_name": "Python 3 (ipykernel)",
   "language": "python",
   "name": "python3"
  },
  "language_info": {
   "codemirror_mode": {
    "name": "ipython",
    "version": 3
   },
   "file_extension": ".py",
   "mimetype": "text/x-python",
   "name": "python",
   "nbconvert_exporter": "python",
   "pygments_lexer": "ipython3",
   "version": "3.10.1"
  }
 },
 "nbformat": 4,
 "nbformat_minor": 5
}
