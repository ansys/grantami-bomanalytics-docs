{
 "cells": [
  {
   "cell_type": "markdown",
   "id": "b3b8f2d3",
   "metadata": {},
   "source": [
    "# Determining Compliance for BoMs in External Data Sources"
   ]
  },
  {
   "cell_type": "markdown",
   "id": "1c61dddb",
   "metadata": {},
   "source": [
    "## Introduction"
   ]
  },
  {
   "cell_type": "markdown",
   "id": "cf434d36",
   "metadata": {},
   "source": [
    "You may have to deal with Bills of Materials or other data structures stored in third-party systems. This\n",
    "example shows a scenario where compliance needs to be determined for a BoM-type structure in a JSON file,\n",
    "with the result added to the input file."
   ]
  },
  {
   "cell_type": "markdown",
   "id": "e5be810f",
   "metadata": {},
   "source": [
    "Although it is unlikely that the data structures and processing presented here will be an exact match for your\n",
    "requirements, this example is intended to demonstrate the principles behind using the BoM Analytics API within\n",
    "your existing processes. It shows how a BoM-like data structure can be loaded from a neutral format and used as\n",
    "a starting point for compliance analysis. The approach is applicable to data in other formats, or data loaded from\n",
    "other software platform APIs."
   ]
  },
  {
   "cell_type": "markdown",
   "id": "729e5438",
   "metadata": {},
   "source": [
    "The external data source used in this example can be downloaded\n",
    "[here](supporting-files/source_data.json)."
   ]
  },
  {
   "cell_type": "markdown",
   "id": "474ec678",
   "metadata": {},
   "source": [
    "## Load the External Data"
   ]
  },
  {
   "cell_type": "markdown",
   "id": "d7516e50",
   "metadata": {},
   "source": [
    "First load the JSON file and use the ``json`` module to convert the text into a hierarchical structure of ``dict`` and\n",
    "``list`` objects."
   ]
  },
  {
   "cell_type": "code",
   "execution_count": 1,
   "id": "047cb5d6",
   "metadata": {
    "execution": {
     "iopub.execute_input": "2022-02-04T20:18:55.211112Z",
     "iopub.status.busy": "2022-02-04T20:18:55.209887Z",
     "iopub.status.idle": "2022-02-04T20:18:55.216621Z",
     "shell.execute_reply": "2022-02-04T20:18:55.216962Z"
    },
    "tags": []
   },
   "outputs": [
    {
     "name": "stdout",
     "output_type": "stream",
     "text": [
      "{'components': [{'materials': ['plastic-abs-pvc-flame'],\n",
      "                 'part_number': 'FQC3RQKYE5'},\n",
      "                {'materials': ['plastic-abs-pvc-flame',\n",
      "                               'plastic-pc-10glassfiber'],\n",
      "                 'part_number': '3FF8CXIHWJ'},\n",
      "                {'materials': ['elastomer-pvc-shorea55'],\n",
      "                 'part_number': 'O676WZSGHA'},\n",
      "                {'materials': ['aluminum-6063-t6'],\n",
      "                 'part_number': 'L8NTU4BZY2'},\n",
      "                {'materials': ['aluminum-6063-t6'],\n",
      "                 'part_number': '7N9EUBALU2'},\n",
      "                {'materials': ['stainless-316-annealed'],\n",
      "                 'part_number': 'U921IQSW6K'},\n",
      "                {'materials': ['aluminum-6063-t6', 'glass-borosilicate-7050'],\n",
      "                 'part_number': 'TUSMQ1ZDFM'}]}\n"
     ]
    }
   ],
   "source": [
    "import json\n",
    "from pprint import pprint\n",
    "\n",
    "with open(\"supporting-files/source_data.json\") as f:\n",
    "    data = json.load(f)\n",
    "pprint(data)"
   ]
  },
  {
   "cell_type": "markdown",
   "id": "bd25b6f7",
   "metadata": {},
   "source": [
    "The list of components will be used frequently, so we store this in a variable for convenience."
   ]
  },
  {
   "cell_type": "code",
   "execution_count": 2,
   "id": "593e32e5",
   "metadata": {
    "execution": {
     "iopub.execute_input": "2022-02-04T20:18:55.221179Z",
     "iopub.status.busy": "2022-02-04T20:18:55.220185Z",
     "iopub.status.idle": "2022-02-04T20:18:55.221695Z",
     "shell.execute_reply": "2022-02-04T20:18:55.222049Z"
    },
    "tags": []
   },
   "outputs": [],
   "source": [
    "components = data[\"components\"]"
   ]
  },
  {
   "cell_type": "markdown",
   "id": "7b1f2aa6",
   "metadata": {},
   "source": [
    "It is clear from viewing this data that some parts include multiple materials, and some materials appear in the JSON\n",
    "file more than once. However, the material compliance is not dependent on the component it is used in, and the\n",
    "compliance of a part only depends on the worst compliance status of the constituent materials. Therefore we can\n",
    "simplify the compliance query by get the compliance for the unique set of materials in the JSON file, and perform some\n",
    "data manipulation of the results."
   ]
  },
  {
   "cell_type": "markdown",
   "id": "f7803e28",
   "metadata": {},
   "source": [
    "Since the compliance status of a material does not depend on which component it is used in, and part compliance\n",
    "depends only on the worst compliance status of its constituent materials, we can simplify the query by running it\n",
    "against the set of unique materials in the JSON file. We can then rebuild the data structure from these results to\n",
    "view the compliance by component."
   ]
  },
  {
   "cell_type": "markdown",
   "id": "85ae0b3e",
   "metadata": {},
   "source": [
    "First, use a set comprehension to get the unique materials, which we can then cast into a list."
   ]
  },
  {
   "cell_type": "code",
   "execution_count": 3,
   "id": "92862d54",
   "metadata": {
    "execution": {
     "iopub.execute_input": "2022-02-04T20:18:55.231249Z",
     "iopub.status.busy": "2022-02-04T20:18:55.229222Z",
     "iopub.status.idle": "2022-02-04T20:18:55.233084Z",
     "shell.execute_reply": "2022-02-04T20:18:55.233449Z"
    },
    "tags": []
   },
   "outputs": [
    {
     "data": {
      "text/plain": [
       "{'aluminum-6063-t6',\n",
       " 'elastomer-pvc-shorea55',\n",
       " 'glass-borosilicate-7050',\n",
       " 'plastic-abs-pvc-flame',\n",
       " 'plastic-pc-10glassfiber',\n",
       " 'stainless-316-annealed'}"
      ]
     },
     "execution_count": 3,
     "metadata": {},
     "output_type": "execute_result"
    }
   ],
   "source": [
    "material_ids = {m for comp in components for m in comp[\"materials\"]}\n",
    "material_ids"
   ]
  },
  {
   "cell_type": "markdown",
   "id": "bc7e7f0c",
   "metadata": {},
   "source": [
    "## Getting the Compliance Status"
   ]
  },
  {
   "cell_type": "markdown",
   "id": "95ab550f",
   "metadata": {},
   "source": [
    "Next, create and run a compliance query using the list of material IDs, as shown in previous exercises."
   ]
  },
  {
   "cell_type": "code",
   "execution_count": 4,
   "id": "2784cf4f",
   "metadata": {
    "execution": {
     "iopub.execute_input": "2022-02-04T20:18:55.238529Z",
     "iopub.status.busy": "2022-02-04T20:18:55.237419Z",
     "iopub.status.idle": "2022-02-04T20:18:57.266234Z",
     "shell.execute_reply": "2022-02-04T20:18:57.266653Z"
    },
    "tags": []
   },
   "outputs": [
    {
     "data": {
      "text/plain": [
       "<MaterialComplianceQueryResult: 6 MaterialWithCompliance results>"
      ]
     },
     "execution_count": 4,
     "metadata": {},
     "output_type": "execute_result"
    }
   ],
   "source": [
    "from ansys.grantami.bomanalytics import Connection, indicators, queries\n",
    "\n",
    "server_url = \"http://my_grantami_server/mi_servicelayer\"\n",
    "cxn = Connection(server_url).with_credentials(\"user_name\", \"password\").connect()\n",
    "svhc = indicators.WatchListIndicator(\n",
    "    name=\"SVHC\",\n",
    "    legislation_names=[\"REACH - The Candidate List\"],\n",
    "    default_threshold_percentage=0.1,\n",
    ")\n",
    "mat_query = (\n",
    "    queries.MaterialComplianceQuery()\n",
    "    .with_indicators([svhc])\n",
    "    .with_material_ids(material_ids)\n",
    ")\n",
    "mat_results = cxn.run(mat_query)\n",
    "mat_results"
   ]
  },
  {
   "cell_type": "markdown",
   "id": "d7a59c16",
   "metadata": {},
   "source": [
    "## Post-Processing the Results"
   ]
  },
  {
   "cell_type": "markdown",
   "id": "e87a8169",
   "metadata": {},
   "source": [
    "The results above describe the compliance status for each material, but more work is needed to\n",
    "provide the compliance status for all the components in the original JSON."
   ]
  },
  {
   "cell_type": "markdown",
   "id": "451b34a9",
   "metadata": {},
   "source": [
    "When a component contains only one material, the result can simply be copied over.  In the general case, moving from\n",
    "material compliance to component compliance means taking the worst compliance result across all the constituent\n",
    "materials."
   ]
  },
  {
   "cell_type": "markdown",
   "id": "0b6166e7",
   "metadata": {},
   "source": [
    "To do this, first create a dictionary that maps a material ID to the indicator result returned by the query."
   ]
  },
  {
   "cell_type": "code",
   "execution_count": 5,
   "id": "cb3893a9",
   "metadata": {
    "execution": {
     "iopub.execute_input": "2022-02-04T20:18:57.271458Z",
     "iopub.status.busy": "2022-02-04T20:18:57.270331Z",
     "iopub.status.idle": "2022-02-04T20:18:57.271975Z",
     "shell.execute_reply": "2022-02-04T20:18:57.272412Z"
    },
    "tags": []
   },
   "outputs": [],
   "source": [
    "material_lookup = {mat.material_id: mat.indicators[\"SVHC\"]\n",
    "                   for mat in mat_results.compliance_by_material_and_indicator}"
   ]
  },
  {
   "cell_type": "markdown",
   "id": "89b71fca",
   "metadata": {
    "lines_to_next_cell": 2
   },
   "source": [
    "Next, define a function that takes a list of material IDs and returns the worst compliance status associated with the\n",
    "materials in the list.\n",
    "\n",
    "We can use the built-in ``max()`` function to do this, because ``WatchListIndicator`` objects can be compared with >\n",
    "and < operators. The convention is that a worse result is 'greater than' a better result."
   ]
  },
  {
   "cell_type": "code",
   "execution_count": 6,
   "id": "4ea39fe9",
   "metadata": {
    "execution": {
     "iopub.execute_input": "2022-02-04T20:18:57.276710Z",
     "iopub.status.busy": "2022-02-04T20:18:57.275756Z",
     "iopub.status.idle": "2022-02-04T20:18:57.277226Z",
     "shell.execute_reply": "2022-02-04T20:18:57.277582Z"
    },
    "tags": []
   },
   "outputs": [],
   "source": [
    "def rollup_results(material_ids) -> str:\n",
    "    indicator_results = [material_lookup[mat_id] for mat_id in material_ids]\n",
    "    worst_result = max(indicator_results)\n",
    "    return worst_result.flag.name"
   ]
  },
  {
   "cell_type": "markdown",
   "id": "0e907e57",
   "metadata": {},
   "source": [
    "Now call this function for each component in a ``dict`` comprehension to obtain a mapping between part number\n",
    "and compliance status."
   ]
  },
  {
   "cell_type": "code",
   "execution_count": 7,
   "id": "a2a96c1e",
   "metadata": {
    "execution": {
     "iopub.execute_input": "2022-02-04T20:18:57.282231Z",
     "iopub.status.busy": "2022-02-04T20:18:57.281773Z",
     "iopub.status.idle": "2022-02-04T20:18:57.283908Z",
     "shell.execute_reply": "2022-02-04T20:18:57.284262Z"
    },
    "tags": []
   },
   "outputs": [
    {
     "data": {
      "text/plain": [
       "{'FQC3RQKYE5': 'WatchListHasSubstanceAboveThreshold',\n",
       " '3FF8CXIHWJ': 'WatchListHasSubstanceAboveThreshold',\n",
       " 'O676WZSGHA': 'WatchListHasSubstanceAboveThreshold',\n",
       " 'L8NTU4BZY2': 'WatchListCompliant',\n",
       " '7N9EUBALU2': 'WatchListCompliant',\n",
       " 'U921IQSW6K': 'WatchListCompliant',\n",
       " 'TUSMQ1ZDFM': 'WatchListHasSubstanceAboveThreshold'}"
      ]
     },
     "execution_count": 7,
     "metadata": {},
     "output_type": "execute_result"
    }
   ],
   "source": [
    "component_results = {comp[\"part_number\"]: rollup_results(comp[\"materials\"])\n",
    "                     for comp in components}\n",
    "component_results"
   ]
  },
  {
   "cell_type": "markdown",
   "id": "ae908be9",
   "metadata": {},
   "source": [
    "These results include text defined by the API for compliance status. However, we may want the compliance\n",
    "status to determine the approvals required to release the part in a design review process. In that case, we can define\n",
    "a mapping between compliance status and approval requirements."
   ]
  },
  {
   "cell_type": "code",
   "execution_count": 8,
   "id": "9144032a",
   "metadata": {
    "execution": {
     "iopub.execute_input": "2022-02-04T20:18:57.288464Z",
     "iopub.status.busy": "2022-02-04T20:18:57.287511Z",
     "iopub.status.idle": "2022-02-04T20:18:57.288977Z",
     "shell.execute_reply": "2022-02-04T20:18:57.289332Z"
    },
    "tags": []
   },
   "outputs": [],
   "source": [
    "flags = indicators.WatchListFlag\n",
    "result_map = {\n",
    "    flags.WatchListCompliant.name: \"No Approval Required\",\n",
    "    flags.WatchListAllSubstancesBelowThreshold.name: \"Level 1 Approval Required\",\n",
    "    flags.WatchListHasSubstanceAboveThreshold.name: \"Level 2 Approval Required\",\n",
    "}"
   ]
  },
  {
   "cell_type": "markdown",
   "id": "e7a2d6f7",
   "metadata": {},
   "source": [
    "We can now use this dictionary to map from the Granta MI result to the approval requirements."
   ]
  },
  {
   "cell_type": "code",
   "execution_count": 9,
   "id": "ecb3ef74",
   "metadata": {
    "execution": {
     "iopub.execute_input": "2022-02-04T20:18:57.293372Z",
     "iopub.status.busy": "2022-02-04T20:18:57.291091Z",
     "iopub.status.idle": "2022-02-04T20:18:57.295088Z",
     "shell.execute_reply": "2022-02-04T20:18:57.295449Z"
    },
    "tags": []
   },
   "outputs": [
    {
     "data": {
      "text/plain": [
       "{'FQC3RQKYE5': 'Level 2 Approval Required',\n",
       " '3FF8CXIHWJ': 'Level 2 Approval Required',\n",
       " 'O676WZSGHA': 'Level 2 Approval Required',\n",
       " 'L8NTU4BZY2': 'No Approval Required',\n",
       " '7N9EUBALU2': 'No Approval Required',\n",
       " 'U921IQSW6K': 'No Approval Required',\n",
       " 'TUSMQ1ZDFM': 'Level 2 Approval Required'}"
      ]
     },
     "execution_count": 9,
     "metadata": {},
     "output_type": "execute_result"
    }
   ],
   "source": [
    "results = {part_number: result_map[result]\n",
    "           for part_number, result in component_results.items()}\n",
    "results"
   ]
  },
  {
   "cell_type": "markdown",
   "id": "b8d92c66",
   "metadata": {},
   "source": [
    "## Write the Output"
   ]
  },
  {
   "cell_type": "markdown",
   "id": "0f6b6f35",
   "metadata": {},
   "source": [
    "Once we have our final result, we can take our result ``dict`` and use it to extend the original JSON data structure,\n",
    "with approval requirements added in."
   ]
  },
  {
   "cell_type": "code",
   "execution_count": 10,
   "id": "0d876feb",
   "metadata": {
    "execution": {
     "iopub.execute_input": "2022-02-04T20:18:57.300190Z",
     "iopub.status.busy": "2022-02-04T20:18:57.299048Z",
     "iopub.status.idle": "2022-02-04T20:18:57.300705Z",
     "shell.execute_reply": "2022-02-04T20:18:57.301061Z"
    }
   },
   "outputs": [],
   "source": [
    "components_with_result = []\n",
    "for component in components:\n",
    "    component_with_result = component\n",
    "    part_number = component[\"part_number\"]\n",
    "    component_with_result[\"approval\"] = results[part_number]\n",
    "    components_with_result.append(component_with_result)\n",
    "\n",
    "data_results = {}\n",
    "data_results[\"components\"] = components_with_result"
   ]
  },
  {
   "cell_type": "markdown",
   "id": "a330c21a",
   "metadata": {},
   "source": [
    "Printing the results shows the new data structure with the results included."
   ]
  },
  {
   "cell_type": "code",
   "execution_count": 11,
   "id": "a42bcf65",
   "metadata": {
    "execution": {
     "iopub.execute_input": "2022-02-04T20:18:57.307336Z",
     "iopub.status.busy": "2022-02-04T20:18:57.306819Z",
     "iopub.status.idle": "2022-02-04T20:18:57.310362Z",
     "shell.execute_reply": "2022-02-04T20:18:57.309977Z"
    },
    "tags": []
   },
   "outputs": [
    {
     "name": "stdout",
     "output_type": "stream",
     "text": [
      "{'components': [{'approval': 'Level 2 Approval Required',\n",
      "                 'materials': ['plastic-abs-pvc-flame'],\n",
      "                 'part_number': 'FQC3RQKYE5'},\n",
      "                {'approval': 'Level 2 Approval Required',\n",
      "                 'materials': ['plastic-abs-pvc-flame',\n",
      "                               'plastic-pc-10glassfiber'],\n",
      "                 'part_number': '3FF8CXIHWJ'},\n",
      "                {'approval': 'Level 2 Approval Required',\n",
      "                 'materials': ['elastomer-pvc-shorea55'],\n",
      "                 'part_number': 'O676WZSGHA'},\n",
      "                {'approval': 'No Approval Required',\n",
      "                 'materials': ['aluminum-6063-t6'],\n",
      "                 'part_number': 'L8NTU4BZY2'},\n",
      "                {'approval': 'No Approval Required',\n",
      "                 'materials': ['aluminum-6063-t6'],\n",
      "                 'part_number': '7N9EUBALU2'},\n",
      "                {'approval': 'No Approval Required',\n",
      "                 'materials': ['stainless-316-annealed'],\n",
      "                 'part_number': 'U921IQSW6K'},\n",
      "                {'approval': 'Level 2 Approval Required',\n",
      "                 'materials': ['aluminum-6063-t6', 'glass-borosilicate-7050'],\n",
      "                 'part_number': 'TUSMQ1ZDFM'}]}\n"
     ]
    }
   ],
   "source": [
    "pprint(data_results)"
   ]
  }
 ],
 "metadata": {
  "jupytext": {
   "formats": "ipynb,py:light"
  },
  "kernelspec": {
   "display_name": "Python 3 (ipykernel)",
   "language": "python",
   "name": "python3"
  },
  "language_info": {
   "codemirror_mode": {
    "name": "ipython",
    "version": 3
   },
   "file_extension": ".py",
   "mimetype": "text/x-python",
   "name": "python",
   "nbconvert_exporter": "python",
   "pygments_lexer": "ipython3",
   "version": "3.10.2"
  }
 },
 "nbformat": 4,
 "nbformat_minor": 5
}
