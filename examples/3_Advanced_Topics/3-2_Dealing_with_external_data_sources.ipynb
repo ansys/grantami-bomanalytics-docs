{
 "cells": [
  {
   "cell_type": "markdown",
   "id": "0983d863",
   "metadata": {},
   "source": [
    "# [TECHDOCS]Determining Compliance for BoMs in External Data Sources"
   ]
  },
  {
   "cell_type": "markdown",
   "id": "51559061",
   "metadata": {},
   "source": [
    "## Introduction"
   ]
  },
  {
   "cell_type": "markdown",
   "id": "ee5c12af",
   "metadata": {},
   "source": [
    "It is common to deal with Bills of Materials or other data structures stored in a third party system. This\n",
    "example shows a scenario where compliance needs to be determined for a BoM-type structure in a JSON file,\n",
    "with the result added to the input file."
   ]
  },
  {
   "cell_type": "markdown",
   "id": "c8ad96d9",
   "metadata": {},
   "source": [
    "Whilst it is possible that data would be available in a JSON file, the intention is that the approach presented\n",
    "here would be applicable for data in other formats, or data loaded from other software platform APIs."
   ]
  },
  {
   "cell_type": "markdown",
   "id": "5581e26f",
   "metadata": {},
   "source": [
    "The external data source used in this example can be downloaded\n",
    "[here](supporting-files/source_data.json)."
   ]
  },
  {
   "cell_type": "markdown",
   "id": "bd00d0ef",
   "metadata": {},
   "source": [
    "## Load the External Data"
   ]
  },
  {
   "cell_type": "markdown",
   "id": "818ba81d",
   "metadata": {},
   "source": [
    "First load the JSON file and use the `json` module\n",
    "to convert the text into a hierarchical structure of `dict` and `list` objects."
   ]
  },
  {
   "cell_type": "code",
   "execution_count": 1,
   "id": "cd0d8ea4",
   "metadata": {
    "execution": {
     "iopub.execute_input": "2022-01-19T18:14:24.656158Z",
     "iopub.status.busy": "2022-01-19T18:14:24.654773Z",
     "iopub.status.idle": "2022-01-19T18:14:24.662276Z",
     "shell.execute_reply": "2022-01-19T18:14:24.661765Z"
    },
    "tags": []
   },
   "outputs": [
    {
     "name": "stdout",
     "output_type": "stream",
     "text": [
      "{'components': [{'materials': ['plastic-abs-pvc-flame'],\n",
      "                 'part_number': 'FQC3RQKYE5'},\n",
      "                {'materials': ['plastic-abs-pvc-flame',\n",
      "                               'plastic-pc-10glassfiber'],\n",
      "                 'part_number': '3FF8CXIHWJ'},\n",
      "                {'materials': ['elastomer-pvc-shorea55'],\n",
      "                 'part_number': 'O676WZSGHA'},\n",
      "                {'materials': ['aluminum-6063-t6'],\n",
      "                 'part_number': 'L8NTU4BZY2'},\n",
      "                {'materials': ['aluminum-6063-t6'],\n",
      "                 'part_number': '7N9EUBALU2'},\n",
      "                {'materials': ['stainless-316-annealed'],\n",
      "                 'part_number': 'U921IQSW6K'},\n",
      "                {'materials': ['aluminum-6063-t6', 'glass-borosilicate-7050'],\n",
      "                 'part_number': 'TUSMQ1ZDFM'}]}\n"
     ]
    }
   ],
   "source": [
    "import json\n",
    "from pprint import pprint\n",
    "\n",
    "with open(\"supporting-files/source_data.json\") as f:\n",
    "    data = json.load(f)\n",
    "pprint(data)"
   ]
  },
  {
   "cell_type": "markdown",
   "id": "96c7d573",
   "metadata": {},
   "source": [
    "The list of components will be used frequently, so we can store this in a variable for convenience."
   ]
  },
  {
   "cell_type": "code",
   "execution_count": 2,
   "id": "4e07797f",
   "metadata": {
    "execution": {
     "iopub.execute_input": "2022-01-19T18:14:24.666026Z",
     "iopub.status.busy": "2022-01-19T18:14:24.665572Z",
     "iopub.status.idle": "2022-01-19T18:14:24.668227Z",
     "shell.execute_reply": "2022-01-19T18:14:24.668574Z"
    },
    "tags": []
   },
   "outputs": [],
   "source": [
    "components = data[\"components\"]"
   ]
  },
  {
   "cell_type": "markdown",
   "id": "2d244d13",
   "metadata": {},
   "source": [
    "It is clear from viewing this data that some parts include multiple materials, and some materials appear in the JSON\n",
    "file more than once. However, the material compliance is not dependent on the component it is used in, and the\n",
    "compliance of a part only depends on the worst compliance status of the constituent materials. Therefore we can\n",
    "simplify the compliance query by get the compliance for the unique set of materials in the JSON file, and perform some\n",
    "data manipulation of the results."
   ]
  },
  {
   "cell_type": "markdown",
   "id": "ae33ab8a",
   "metadata": {},
   "source": [
    "We can use a set comprehension to get the unique materials, which we can then cast into a list."
   ]
  },
  {
   "cell_type": "code",
   "execution_count": 3,
   "id": "48791a28",
   "metadata": {
    "execution": {
     "iopub.execute_input": "2022-01-19T18:14:24.677731Z",
     "iopub.status.busy": "2022-01-19T18:14:24.677253Z",
     "iopub.status.idle": "2022-01-19T18:14:24.681977Z",
     "shell.execute_reply": "2022-01-19T18:14:24.681563Z"
    },
    "tags": []
   },
   "outputs": [
    {
     "data": {
      "text/plain": [
       "{'aluminum-6063-t6',\n",
       " 'elastomer-pvc-shorea55',\n",
       " 'glass-borosilicate-7050',\n",
       " 'plastic-abs-pvc-flame',\n",
       " 'plastic-pc-10glassfiber',\n",
       " 'stainless-316-annealed'}"
      ]
     },
     "execution_count": 3,
     "metadata": {},
     "output_type": "execute_result"
    }
   ],
   "source": [
    "material_ids = {m for comp in components for m in comp[\"materials\"]}\n",
    "material_ids"
   ]
  },
  {
   "cell_type": "markdown",
   "id": "45482c48",
   "metadata": {},
   "source": [
    "## Getting the Compliance Status"
   ]
  },
  {
   "cell_type": "markdown",
   "id": "998d1183",
   "metadata": {},
   "source": [
    "Now we can feed the list of material IDs into a compliance query as shown in previous exercises."
   ]
  },
  {
   "cell_type": "code",
   "execution_count": 4,
   "id": "e530c29d",
   "metadata": {
    "execution": {
     "iopub.execute_input": "2022-01-19T18:14:24.688280Z",
     "iopub.status.busy": "2022-01-19T18:14:24.686585Z",
     "iopub.status.idle": "2022-01-19T18:14:26.904595Z",
     "shell.execute_reply": "2022-01-19T18:14:26.905294Z"
    },
    "tags": []
   },
   "outputs": [
    {
     "data": {
      "text/plain": [
       "<MaterialComplianceQueryResult: 6 MaterialWithCompliance results>"
      ]
     },
     "execution_count": 4,
     "metadata": {},
     "output_type": "execute_result"
    }
   ],
   "source": [
    "from ansys.grantami.bomanalytics import Connection, indicators, queries\n",
    "\n",
    "server_url = \"http://my_grantami_service/mi_servicelayer\"\n",
    "cxn = Connection(server_url).with_credentials(\"user_name\", \"password\").connect()\n",
    "svhc = indicators.WatchListIndicator(\n",
    "    name=\"SVHC\",\n",
    "    legislation_names=[\"REACH - The Candidate List\"],\n",
    "    default_threshold_percentage=0.1,\n",
    ")\n",
    "mat_query = (\n",
    "    queries.MaterialComplianceQuery()\n",
    "    .with_indicators([svhc])\n",
    "    .with_material_ids(material_ids)\n",
    ")\n",
    "mat_results = cxn.run(mat_query)\n",
    "mat_results"
   ]
  },
  {
   "cell_type": "markdown",
   "id": "d07ca8f2",
   "metadata": {},
   "source": [
    "## Post-Processing the Results"
   ]
  },
  {
   "cell_type": "markdown",
   "id": "c0ba8a54",
   "metadata": {},
   "source": [
    "The results above describe the compliance status for each material, but some further work needs to be performed to\n",
    "provide the compliance status for all the components in the original JSON."
   ]
  },
  {
   "cell_type": "markdown",
   "id": "8a51427d",
   "metadata": {},
   "source": [
    "In the case where a component contains only one material, the result can simply be copied over.\n",
    "In the general case, moving from material compliance to component compliance just means taking\n",
    "the worst compliance across all the constituent materials."
   ]
  },
  {
   "cell_type": "markdown",
   "id": "a78e9f21",
   "metadata": {},
   "source": [
    "To do this, we first create a dictionary that maps a material ID to the indicator result returned by the query."
   ]
  },
  {
   "cell_type": "code",
   "execution_count": 5,
   "id": "bb300ae1",
   "metadata": {
    "execution": {
     "iopub.execute_input": "2022-01-19T18:14:26.915446Z",
     "iopub.status.busy": "2022-01-19T18:14:26.914956Z",
     "iopub.status.idle": "2022-01-19T18:14:26.918471Z",
     "shell.execute_reply": "2022-01-19T18:14:26.918038Z"
    },
    "tags": []
   },
   "outputs": [],
   "source": [
    "material_lookup = {mat.material_id: mat.indicators[\"SVHC\"]\n",
    "                   for mat in mat_results.compliance_by_material_and_indicator}"
   ]
  },
  {
   "cell_type": "markdown",
   "id": "72944e19",
   "metadata": {
    "lines_to_next_cell": 2
   },
   "source": [
    "Next define a function that takes a list of material IDs and returns the worst compliance status for all of them.\n",
    "We can use the built-in `max()` function to do this, since `WatchListIndicator` objects can be compared with > and <\n",
    "operators. The convention is that a worse result is 'greater than' a better result."
   ]
  },
  {
   "cell_type": "code",
   "execution_count": 6,
   "id": "74e0e262",
   "metadata": {
    "execution": {
     "iopub.execute_input": "2022-01-19T18:14:26.922737Z",
     "iopub.status.busy": "2022-01-19T18:14:26.922278Z",
     "iopub.status.idle": "2022-01-19T18:14:26.925465Z",
     "shell.execute_reply": "2022-01-19T18:14:26.925090Z"
    },
    "tags": []
   },
   "outputs": [],
   "source": [
    "def rollup_results(material_ids) -> str:\n",
    "    indicator_results = [material_lookup[mat_id] for mat_id in material_ids]\n",
    "    worst_result = max(indicator_results)\n",
    "    return worst_result.flag.name"
   ]
  },
  {
   "cell_type": "markdown",
   "id": "c64023e6",
   "metadata": {},
   "source": [
    "Now call this function for each component in a `dict` comprehension, giving us a mapping between part number\n",
    "and compliance status."
   ]
  },
  {
   "cell_type": "code",
   "execution_count": 7,
   "id": "48321750",
   "metadata": {
    "execution": {
     "iopub.execute_input": "2022-01-19T18:14:26.930040Z",
     "iopub.status.busy": "2022-01-19T18:14:26.929588Z",
     "iopub.status.idle": "2022-01-19T18:14:26.933793Z",
     "shell.execute_reply": "2022-01-19T18:14:26.934164Z"
    },
    "tags": []
   },
   "outputs": [
    {
     "data": {
      "text/plain": [
       "{'FQC3RQKYE5': 'WatchListHasSubstanceAboveThreshold',\n",
       " '3FF8CXIHWJ': 'WatchListHasSubstanceAboveThreshold',\n",
       " 'O676WZSGHA': 'WatchListHasSubstanceAboveThreshold',\n",
       " 'L8NTU4BZY2': 'WatchListCompliant',\n",
       " '7N9EUBALU2': 'WatchListCompliant',\n",
       " 'U921IQSW6K': 'WatchListCompliant',\n",
       " 'TUSMQ1ZDFM': 'WatchListHasSubstanceAboveThreshold'}"
      ]
     },
     "execution_count": 7,
     "metadata": {},
     "output_type": "execute_result"
    }
   ],
   "source": [
    "component_results = {comp[\"part_number\"]: rollup_results(comp[\"materials\"])\n",
    "                     for comp in components}\n",
    "component_results"
   ]
  },
  {
   "cell_type": "markdown",
   "id": "fd7c72f7",
   "metadata": {},
   "source": [
    "These results include the text as defined by the API. However, let's say in this example we are using the compliance\n",
    "status to determine the approvals required to release the part in a design review process. As a result, we can define\n",
    "a mapping between compliance statuses and approval requirements."
   ]
  },
  {
   "cell_type": "code",
   "execution_count": 8,
   "id": "90574f61",
   "metadata": {
    "execution": {
     "iopub.execute_input": "2022-01-19T18:14:26.938226Z",
     "iopub.status.busy": "2022-01-19T18:14:26.937759Z",
     "iopub.status.idle": "2022-01-19T18:14:26.940757Z",
     "shell.execute_reply": "2022-01-19T18:14:26.940335Z"
    },
    "tags": []
   },
   "outputs": [],
   "source": [
    "flags = indicators.WatchListFlag\n",
    "result_map = {\n",
    "    flags.WatchListCompliant.name: \"No Approval Required\",\n",
    "    flags.WatchListAllSubstancesBelowThreshold.name: \"Level 1 Approval Required\",\n",
    "    flags.WatchListHasSubstanceAboveThreshold.name: \"Level 2 Approval Required\",\n",
    "}"
   ]
  },
  {
   "cell_type": "markdown",
   "id": "b57e8605",
   "metadata": {},
   "source": [
    "We can now use this dictionary to map from the Granta MI result to the approval requirements."
   ]
  },
  {
   "cell_type": "code",
   "execution_count": 9,
   "id": "0e571295",
   "metadata": {
    "execution": {
     "iopub.execute_input": "2022-01-19T18:14:26.944960Z",
     "iopub.status.busy": "2022-01-19T18:14:26.944474Z",
     "iopub.status.idle": "2022-01-19T18:14:26.947832Z",
     "shell.execute_reply": "2022-01-19T18:14:26.947191Z"
    },
    "tags": []
   },
   "outputs": [
    {
     "data": {
      "text/plain": [
       "{'FQC3RQKYE5': 'Level 2 Approval Required',\n",
       " '3FF8CXIHWJ': 'Level 2 Approval Required',\n",
       " 'O676WZSGHA': 'Level 2 Approval Required',\n",
       " 'L8NTU4BZY2': 'No Approval Required',\n",
       " '7N9EUBALU2': 'No Approval Required',\n",
       " 'U921IQSW6K': 'No Approval Required',\n",
       " 'TUSMQ1ZDFM': 'Level 2 Approval Required'}"
      ]
     },
     "execution_count": 9,
     "metadata": {},
     "output_type": "execute_result"
    }
   ],
   "source": [
    "results = {part_number: result_map[result]\n",
    "           for part_number, result in component_results.items()}\n",
    "results"
   ]
  },
  {
   "cell_type": "markdown",
   "id": "c443f31d",
   "metadata": {},
   "source": [
    "## Write the Output"
   ]
  },
  {
   "cell_type": "markdown",
   "id": "ee9dd0a4",
   "metadata": {},
   "source": [
    "For the final result, we can take our result `dict` and use it to extend the original JSON data structure with\n",
    "the approval requirements added in."
   ]
  },
  {
   "cell_type": "code",
   "execution_count": 10,
   "id": "a7a2a7ea",
   "metadata": {
    "execution": {
     "iopub.execute_input": "2022-01-19T18:14:26.951878Z",
     "iopub.status.busy": "2022-01-19T18:14:26.951431Z",
     "iopub.status.idle": "2022-01-19T18:14:26.954030Z",
     "shell.execute_reply": "2022-01-19T18:14:26.954380Z"
    }
   },
   "outputs": [],
   "source": [
    "components_with_result = []\n",
    "for component in components:\n",
    "    component_with_result = component\n",
    "    part_number = component[\"part_number\"]\n",
    "    component_with_result[\"approval\"] = results[part_number]\n",
    "    components_with_result.append(component_with_result)\n",
    "\n",
    "data_results = {}\n",
    "data_results[\"components\"] = components_with_result"
   ]
  },
  {
   "cell_type": "markdown",
   "id": "c2a4dd33",
   "metadata": {},
   "source": [
    "Finally, printing the results shows the new data structure with the results included."
   ]
  },
  {
   "cell_type": "code",
   "execution_count": 11,
   "id": "9ce23241",
   "metadata": {
    "execution": {
     "iopub.execute_input": "2022-01-19T18:14:26.963523Z",
     "iopub.status.busy": "2022-01-19T18:14:26.958434Z",
     "iopub.status.idle": "2022-01-19T18:14:26.965619Z",
     "shell.execute_reply": "2022-01-19T18:14:26.965969Z"
    },
    "tags": []
   },
   "outputs": [
    {
     "name": "stdout",
     "output_type": "stream",
     "text": [
      "{'components': [{'approval': 'Level 2 Approval Required',\n",
      "                 'materials': ['plastic-abs-pvc-flame'],\n",
      "                 'part_number': 'FQC3RQKYE5'},\n",
      "                {'approval': 'Level 2 Approval Required',\n",
      "                 'materials': ['plastic-abs-pvc-flame',\n",
      "                               'plastic-pc-10glassfiber'],\n",
      "                 'part_number': '3FF8CXIHWJ'},\n",
      "                {'approval': 'Level 2 Approval Required',\n",
      "                 'materials': ['elastomer-pvc-shorea55'],\n",
      "                 'part_number': 'O676WZSGHA'},\n",
      "                {'approval': 'No Approval Required',\n",
      "                 'materials': ['aluminum-6063-t6'],\n",
      "                 'part_number': 'L8NTU4BZY2'},\n",
      "                {'approval': 'No Approval Required',\n",
      "                 'materials': ['aluminum-6063-t6'],\n",
      "                 'part_number': '7N9EUBALU2'},\n",
      "                {'approval': 'No Approval Required',\n",
      "                 'materials': ['stainless-316-annealed'],\n",
      "                 'part_number': 'U921IQSW6K'},\n",
      "                {'approval': 'Level 2 Approval Required',\n",
      "                 'materials': ['aluminum-6063-t6', 'glass-borosilicate-7050'],\n",
      "                 'part_number': 'TUSMQ1ZDFM'}]}\n"
     ]
    }
   ],
   "source": [
    "pprint(data_results)"
   ]
  },
  {
   "cell_type": "markdown",
   "id": "5147ed09",
   "metadata": {},
   "source": [
    "## Summary"
   ]
  },
  {
   "cell_type": "markdown",
   "id": "de0595dc",
   "metadata": {},
   "source": [
    "This example has aimed to show how a BoM-like data structure can be loaded from a neutral format and used as a\n",
    "starting point for compliance analysis. Whilst it is unlikely that the data structures and processing presented here\n",
    "will be an exact match for your requirements, it should at least demonstrate the principle for how to plug the BoM\n",
    "Analytics API into your processes."
   ]
  }
 ],
 "metadata": {
  "jupytext": {
   "formats": "ipynb,py:light"
  },
  "kernelspec": {
   "display_name": "Python 3 (ipykernel)",
   "language": "python",
   "name": "python3"
  },
  "language_info": {
   "codemirror_mode": {
    "name": "ipython",
    "version": 3
   },
   "file_extension": ".py",
   "mimetype": "text/x-python",
   "name": "python",
   "nbconvert_exporter": "python",
   "pygments_lexer": "ipython3",
   "version": "3.10.1"
  }
 },
 "nbformat": 4,
 "nbformat_minor": 5
}
