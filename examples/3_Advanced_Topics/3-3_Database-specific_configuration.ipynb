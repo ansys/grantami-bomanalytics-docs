{
 "cells": [
  {
   "cell_type": "markdown",
   "id": "0bbcf2d0",
   "metadata": {},
   "source": [
    "# Database-specific configuration options"
   ]
  },
  {
   "cell_type": "markdown",
   "id": "c9ed0de2",
   "metadata": {},
   "source": [
    "Granta MI BoM Analytics work with an off-the-shelf Granta MI Restricted Substances database. However, there are\n",
    "some situations in which additional run-time configuration changes are required:\n",
    "\n",
    "- If the database key or table names have been modified from their default values, these must be set on the\n",
    "  ``Connection`` object.\n",
    "- If the number of linked records is very large, the batch sizes should be changed for each query. For more\n",
    "  informatioon, see [Batching requests](../../api/batching.rst)."
   ]
  },
  {
   "cell_type": "markdown",
   "id": "7218554c",
   "metadata": {},
   "source": [
    "## Specify a custom database key or table name"
   ]
  },
  {
   "cell_type": "markdown",
   "id": "6c6138bd",
   "metadata": {},
   "source": [
    "The default database key, ``MI_Restricted_Substances``, is used if no database key is specified. To specify a\n",
    "key, use the ``Connection.set_database_details()`` method. The specified key is then used for all queries made\n",
    "with this ``Connection`` object."
   ]
  },
  {
   "cell_type": "code",
   "execution_count": 1,
   "id": "e63ab03a",
   "metadata": {
    "execution": {
     "iopub.execute_input": "2022-12-15T23:21:29.302870Z",
     "iopub.status.busy": "2022-12-15T23:21:29.302503Z",
     "iopub.status.idle": "2022-12-15T23:21:30.083672Z",
     "shell.execute_reply": "2022-12-15T23:21:30.082976Z"
    },
    "tags": []
   },
   "outputs": [
    {
     "data": {
      "text/plain": [
       "<BomServicesClient: url=\"http://my_grantami_server/mi_servicelayer\", dbkey=\"ACME_SUBSTANCES_DATABASE\">"
      ]
     },
     "execution_count": 1,
     "metadata": {},
     "output_type": "execute_result"
    }
   ],
   "source": [
    "from ansys.grantami.bomanalytics import Connection\n",
    "\n",
    "server_url = \"http://my_grantami_server/mi_servicelayer\"\n",
    "cxn = Connection(server_url).with_credentials(\"user_name\", \"password\").connect()\n",
    "cxn.set_database_details(database_key=\"ACME_SUBSTANCES_DATABASE\")\n",
    "cxn"
   ]
  },
  {
   "cell_type": "markdown",
   "id": "d422fdd9",
   "metadata": {},
   "source": [
    "It is also possible to specify alternative names for the relevant restricted substances tables, if they\n",
    "have been modified from the defaults. You provide the names to the ``.set_database_details()`` method in the same way."
   ]
  },
  {
   "cell_type": "code",
   "execution_count": 2,
   "id": "f44eb9d9",
   "metadata": {
    "execution": {
     "iopub.execute_input": "2022-12-15T23:21:30.087374Z",
     "iopub.status.busy": "2022-12-15T23:21:30.087161Z",
     "iopub.status.idle": "2022-12-15T23:21:30.091244Z",
     "shell.execute_reply": "2022-12-15T23:21:30.090662Z"
    },
    "tags": []
   },
   "outputs": [
    {
     "data": {
      "text/plain": [
       "<BomServicesClient: url=\"http://my_grantami_server/mi_servicelayer\", dbkey=\"MI_Restricted_Substances\">"
      ]
     },
     "execution_count": 2,
     "metadata": {},
     "output_type": "execute_result"
    }
   ],
   "source": [
    "cxn.set_database_details(in_house_materials_table_name=\"ACME Materials\")\n",
    "cxn"
   ]
  },
  {
   "cell_type": "markdown",
   "id": "3f49f1d5",
   "metadata": {},
   "source": [
    "## Batch size"
   ]
  },
  {
   "cell_type": "markdown",
   "id": "02d2ea7d",
   "metadata": {},
   "source": [
    "The queries that can be performed with this package are batched if they exceed a certain size. This is achieved by\n",
    "splitting the list of parts, materials, etc. into smaller lists to reduce the overall time taken\n",
    "to perform the query. Default batch sizes have been chosen based on typical tabular attribute sizes, but\n",
    "these might need to be changed in some situations. For examples, see the relevant page in the API documentation."
   ]
  },
  {
   "cell_type": "markdown",
   "id": "c8e5fc5d",
   "metadata": {},
   "source": [
    "The batch size is included in the query ``__repr__``. The following cell shows a ``SpecificationComplianceQuery``\n",
    "object with the default batch size."
   ]
  },
  {
   "cell_type": "code",
   "execution_count": 3,
   "id": "83c2fb3b",
   "metadata": {
    "execution": {
     "iopub.execute_input": "2022-12-15T23:21:30.094965Z",
     "iopub.status.busy": "2022-12-15T23:21:30.094763Z",
     "iopub.status.idle": "2022-12-15T23:21:30.099020Z",
     "shell.execute_reply": "2022-12-15T23:21:30.098430Z"
    },
    "tags": []
   },
   "outputs": [
    {
     "data": {
      "text/plain": [
       "<SpecificationComplianceQuery: 0 specifications, batch size = 10, 0 indicators>"
      ]
     },
     "execution_count": 3,
     "metadata": {},
     "output_type": "execute_result"
    }
   ],
   "source": [
    "from ansys.grantami.bomanalytics import queries\n",
    "\n",
    "spec_query = queries.SpecificationComplianceQuery()\n",
    "spec_query"
   ]
  },
  {
   "cell_type": "markdown",
   "id": "b0696688",
   "metadata": {},
   "source": [
    "You can manually set the batch size like this:"
   ]
  },
  {
   "cell_type": "code",
   "execution_count": 4,
   "id": "7104a6ba",
   "metadata": {
    "execution": {
     "iopub.execute_input": "2022-12-15T23:21:30.102589Z",
     "iopub.status.busy": "2022-12-15T23:21:30.102376Z",
     "iopub.status.idle": "2022-12-15T23:21:30.106455Z",
     "shell.execute_reply": "2022-12-15T23:21:30.105780Z"
    },
    "tags": []
   },
   "outputs": [
    {
     "data": {
      "text/plain": [
       "<SpecificationComplianceQuery: 0 specifications, batch size = 5, 0 indicators>"
      ]
     },
     "execution_count": 4,
     "metadata": {},
     "output_type": "execute_result"
    }
   ],
   "source": [
    "spec_query = spec_query.with_batch_size(5)\n",
    "spec_query"
   ]
  }
 ],
 "metadata": {
  "jupytext": {
   "formats": "ipynb,py:light"
  },
  "kernelspec": {
   "display_name": "Python 3 (ipykernel)",
   "language": "python",
   "name": "python3"
  },
  "language_info": {
   "codemirror_mode": {
    "name": "ipython",
    "version": 3
   },
   "file_extension": ".py",
   "mimetype": "text/x-python",
   "name": "python",
   "nbconvert_exporter": "python",
   "pygments_lexer": "ipython3",
   "version": "3.9.16"
  }
 },
 "nbformat": 4,
 "nbformat_minor": 5
}
