{
 "cells": [
  {
   "cell_type": "markdown",
   "id": "30563a57",
   "metadata": {},
   "source": [
    "# Database-Specific Configuration Options"
   ]
  },
  {
   "cell_type": "markdown",
   "id": "82c5bd7d",
   "metadata": {},
   "source": [
    "The BoM Analytics package will work with an off-the-shelf Granta MI Restricted Substances database. However, there are\n",
    "some situations in which additional run-time configuration changes are required:\n",
    "\n",
    "- If the database key or table names have been modified from their default values, these must be set on the\n",
    "  ``Connection`` object\n",
    "- If the number of linked records is very large, the batch sizes should be changed for each query (see\n",
    "  [Batching Requests](../../api/batching.rst) for more details)"
   ]
  },
  {
   "cell_type": "markdown",
   "id": "b42f2d9d",
   "metadata": {},
   "source": [
    "## Specifying a Custom Database Key or Table Name"
   ]
  },
  {
   "cell_type": "markdown",
   "id": "c7eb124f",
   "metadata": {},
   "source": [
    "The default database key, ``MI_Restricted_Substances``, is used if no database key is specified. To specify an\n",
    "alternative, use the ``Connection.set_database_details()`` method. This database key will be used for all queries made\n",
    "with this ``Connection`` object."
   ]
  },
  {
   "cell_type": "code",
   "execution_count": 1,
   "id": "d9af0dfb",
   "metadata": {
    "execution": {
     "iopub.execute_input": "2022-02-18T19:21:20.099212Z",
     "iopub.status.busy": "2022-02-18T19:21:20.098971Z",
     "iopub.status.idle": "2022-02-18T19:21:20.645282Z",
     "shell.execute_reply": "2022-02-18T19:21:20.644655Z"
    },
    "tags": []
   },
   "outputs": [
    {
     "data": {
      "text/plain": [
       "<BomServicesClient: url=\"http://my_grantami_server/mi_servicelayer\", dbkey=\"ACME_SUBSTANCES_DATABASE\">"
      ]
     },
     "execution_count": 1,
     "metadata": {},
     "output_type": "execute_result"
    }
   ],
   "source": [
    "from ansys.grantami.bomanalytics import Connection\n",
    "\n",
    "server_url = \"http://my_grantami_server/mi_servicelayer\"\n",
    "cxn = Connection(server_url).with_credentials(\"user_name\", \"password\").connect()\n",
    "cxn.set_database_details(database_key=\"ACME_SUBSTANCES_DATABASE\")\n",
    "cxn"
   ]
  },
  {
   "cell_type": "markdown",
   "id": "a1920dd8",
   "metadata": {},
   "source": [
    "It is also possible to specify alternative names for the relevant Restricted Substances tables, if they\n",
    "have been modified from the defaults. These are provided to the ``.set_database_details()`` method in the same way."
   ]
  },
  {
   "cell_type": "code",
   "execution_count": 2,
   "id": "1a5768a0",
   "metadata": {
    "execution": {
     "iopub.execute_input": "2022-02-18T19:21:20.648752Z",
     "iopub.status.busy": "2022-02-18T19:21:20.648383Z",
     "iopub.status.idle": "2022-02-18T19:21:20.652337Z",
     "shell.execute_reply": "2022-02-18T19:21:20.651811Z"
    },
    "tags": []
   },
   "outputs": [
    {
     "data": {
      "text/plain": [
       "<BomServicesClient: url=\"http://my_grantami_server/mi_servicelayer\", dbkey=\"MI_Restricted_Substances\">"
      ]
     },
     "execution_count": 2,
     "metadata": {},
     "output_type": "execute_result"
    }
   ],
   "source": [
    "cxn.set_database_details(in_house_materials_table_name=\"ACME Materials\")\n",
    "cxn"
   ]
  },
  {
   "cell_type": "markdown",
   "id": "0e480e6b",
   "metadata": {},
   "source": [
    "## Batch Size"
   ]
  },
  {
   "cell_type": "markdown",
   "id": "b04b6863",
   "metadata": {},
   "source": [
    "The queries that can be performed with this package are batched if they exceed a certain size. This is achieved by\n",
    "splitting the list of parts, materials, etc. into smaller lists to reduce the overall time taken\n",
    "to perform the query. Default batch sizes have been chosen based on typical tabular attribute sizes, but\n",
    "these may need to be changed in some situations (see the relevant page in the API documentation for examples)."
   ]
  },
  {
   "cell_type": "markdown",
   "id": "1bb9757b",
   "metadata": {},
   "source": [
    "The batch size is included in the query ``__repr__``. The cell below shows a ``SpecificationComplianceQuery`` object\n",
    "with the default batch size."
   ]
  },
  {
   "cell_type": "code",
   "execution_count": 3,
   "id": "c66f72b8",
   "metadata": {
    "execution": {
     "iopub.execute_input": "2022-02-18T19:21:20.655931Z",
     "iopub.status.busy": "2022-02-18T19:21:20.655518Z",
     "iopub.status.idle": "2022-02-18T19:21:20.667121Z",
     "shell.execute_reply": "2022-02-18T19:21:20.666623Z"
    },
    "tags": []
   },
   "outputs": [
    {
     "data": {
      "text/plain": [
       "<SpecificationComplianceQuery: 0 specifications, batch size = 10, 0 indicators>"
      ]
     },
     "execution_count": 3,
     "metadata": {},
     "output_type": "execute_result"
    }
   ],
   "source": [
    "from ansys.grantami.bomanalytics import queries\n",
    "\n",
    "spec_query = queries.SpecificationComplianceQuery()\n",
    "spec_query"
   ]
  },
  {
   "cell_type": "markdown",
   "id": "2e79ff10",
   "metadata": {},
   "source": [
    "You can manually set the batch size by doing the following:"
   ]
  },
  {
   "cell_type": "code",
   "execution_count": 4,
   "id": "06bc240d",
   "metadata": {
    "execution": {
     "iopub.execute_input": "2022-02-18T19:21:20.669802Z",
     "iopub.status.busy": "2022-02-18T19:21:20.669483Z",
     "iopub.status.idle": "2022-02-18T19:21:20.673211Z",
     "shell.execute_reply": "2022-02-18T19:21:20.672692Z"
    },
    "tags": []
   },
   "outputs": [
    {
     "data": {
      "text/plain": [
       "<SpecificationComplianceQuery: 0 specifications, batch size = 5, 0 indicators>"
      ]
     },
     "execution_count": 4,
     "metadata": {},
     "output_type": "execute_result"
    }
   ],
   "source": [
    "spec_query = spec_query.with_batch_size(5)\n",
    "spec_query"
   ]
  }
 ],
 "metadata": {
  "jupytext": {
   "formats": "ipynb,py:light"
  },
  "kernelspec": {
   "display_name": "Python 3 (ipykernel)",
   "language": "python",
   "name": "python3"
  },
  "language_info": {
   "codemirror_mode": {
    "name": "ipython",
    "version": 3
   },
   "file_extension": ".py",
   "mimetype": "text/x-python",
   "name": "python",
   "nbconvert_exporter": "python",
   "pygments_lexer": "ipython3",
   "version": "3.10.2"
  }
 },
 "nbformat": 4,
 "nbformat_minor": 5
}
