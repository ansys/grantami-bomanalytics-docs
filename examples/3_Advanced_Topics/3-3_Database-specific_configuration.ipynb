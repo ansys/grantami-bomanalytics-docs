{
 "cells": [
  {
   "cell_type": "markdown",
   "id": "c975c824",
   "metadata": {},
   "source": [
    "# Database-Specific Configuration Options"
   ]
  },
  {
   "cell_type": "markdown",
   "id": "8435f7ce",
   "metadata": {},
   "source": [
    "The BoM Analytics package will work with an off-the-shelf Granta MI Restricted Substances database. However, there are\n",
    "some situations in which additional run-time configuration changes are required:\n",
    "\n",
    "- If the database key or table names have been modified from their default values, these must be set on the\n",
    "  ``Connection`` object\n",
    "- If the number of linked records is very large, the batch sizes should be changed for each query (see\n",
    "  [Batching Requests](../../api/batching.rst) for more details)"
   ]
  },
  {
   "cell_type": "markdown",
   "id": "e531a6c9",
   "metadata": {},
   "source": [
    "## Specifying a Custom Database Key or Table Name"
   ]
  },
  {
   "cell_type": "markdown",
   "id": "750117c1",
   "metadata": {},
   "source": [
    "The default database key, ``MI_Restricted_Substances``, is used if no database key is specified. To specify an\n",
    "alternative, use the ``Connection.set_database_details()`` method. This database key will be used for all queries made\n",
    "with this ``Connection`` object."
   ]
  },
  {
   "cell_type": "code",
   "execution_count": 1,
   "id": "75e5ca82",
   "metadata": {
    "execution": {
     "iopub.execute_input": "2022-02-14T14:48:28.705374Z",
     "iopub.status.busy": "2022-02-14T14:48:28.704930Z",
     "iopub.status.idle": "2022-02-14T14:48:29.045222Z",
     "shell.execute_reply": "2022-02-14T14:48:29.045584Z"
    },
    "tags": []
   },
   "outputs": [
    {
     "data": {
      "text/plain": [
       "<BomServicesClient: url=\"http://my_grantami_server/mi_servicelayer\", dbkey=\"ACME_SUBSTANCES_DATABASE\">"
      ]
     },
     "execution_count": 1,
     "metadata": {},
     "output_type": "execute_result"
    }
   ],
   "source": [
    "from ansys.grantami.bomanalytics import Connection\n",
    "\n",
    "server_url = \"http://my_grantami_server/mi_servicelayer\"\n",
    "cxn = Connection(server_url).with_credentials(\"user_name\", \"password\").connect()\n",
    "cxn.set_database_details(database_key=\"ACME_SUBSTANCES_DATABASE\")\n",
    "cxn"
   ]
  },
  {
   "cell_type": "markdown",
   "id": "32941b7f",
   "metadata": {},
   "source": [
    "It is also possible to specify alternative names for the relevant Restricted Substances tables, if they\n",
    "have been modified from the defaults. These are provided to the ``.set_database_details()`` method in the same way."
   ]
  },
  {
   "cell_type": "code",
   "execution_count": 2,
   "id": "cfb5382b",
   "metadata": {
    "execution": {
     "iopub.execute_input": "2022-02-14T14:48:29.049733Z",
     "iopub.status.busy": "2022-02-14T14:48:29.049291Z",
     "iopub.status.idle": "2022-02-14T14:48:29.051404Z",
     "shell.execute_reply": "2022-02-14T14:48:29.051744Z"
    },
    "tags": []
   },
   "outputs": [
    {
     "data": {
      "text/plain": [
       "<BomServicesClient: url=\"http://my_grantami_server/mi_servicelayer\", dbkey=\"MI_Restricted_Substances\">"
      ]
     },
     "execution_count": 2,
     "metadata": {},
     "output_type": "execute_result"
    }
   ],
   "source": [
    "cxn.set_database_details(in_house_materials_table_name=\"ACME Materials\")\n",
    "cxn"
   ]
  },
  {
   "cell_type": "markdown",
   "id": "7514492c",
   "metadata": {},
   "source": [
    "## Batch Size"
   ]
  },
  {
   "cell_type": "markdown",
   "id": "b2fd905b",
   "metadata": {},
   "source": [
    "The queries that can be performed with this package are batched if they exceed a certain size. This is achieved by\n",
    "splitting the list of parts, materials, etc. into smaller lists to reduce the overall time taken\n",
    "to perform the query. Default batch sizes have been chosen based on typical tabular attribute sizes, but\n",
    "these may need to be changed in some situations (see the relevant page in the API documentation for examples)."
   ]
  },
  {
   "cell_type": "markdown",
   "id": "918b18c0",
   "metadata": {},
   "source": [
    "The batch size is included in the query ``__repr__``. The cell below shows a ``SpecificationComplianceQuery`` object\n",
    "with the default batch size."
   ]
  },
  {
   "cell_type": "code",
   "execution_count": 3,
   "id": "d88c4b4e",
   "metadata": {
    "execution": {
     "iopub.execute_input": "2022-02-14T14:48:29.055174Z",
     "iopub.status.busy": "2022-02-14T14:48:29.054725Z",
     "iopub.status.idle": "2022-02-14T14:48:29.064562Z",
     "shell.execute_reply": "2022-02-14T14:48:29.064212Z"
    },
    "tags": []
   },
   "outputs": [
    {
     "data": {
      "text/plain": [
       "<SpecificationComplianceQuery: 0 specifications, batch size = 10, 0 indicators>"
      ]
     },
     "execution_count": 3,
     "metadata": {},
     "output_type": "execute_result"
    }
   ],
   "source": [
    "from ansys.grantami.bomanalytics import queries\n",
    "\n",
    "spec_query = queries.SpecificationComplianceQuery()\n",
    "spec_query"
   ]
  },
  {
   "cell_type": "markdown",
   "id": "63b996eb",
   "metadata": {},
   "source": [
    "You can manually set the batch size by doing the following:"
   ]
  },
  {
   "cell_type": "code",
   "execution_count": 4,
   "id": "26bf0abc",
   "metadata": {
    "execution": {
     "iopub.execute_input": "2022-02-14T14:48:29.068515Z",
     "iopub.status.busy": "2022-02-14T14:48:29.068077Z",
     "iopub.status.idle": "2022-02-14T14:48:29.070078Z",
     "shell.execute_reply": "2022-02-14T14:48:29.070409Z"
    },
    "tags": []
   },
   "outputs": [
    {
     "data": {
      "text/plain": [
       "<SpecificationComplianceQuery: 0 specifications, batch size = 5, 0 indicators>"
      ]
     },
     "execution_count": 4,
     "metadata": {},
     "output_type": "execute_result"
    }
   ],
   "source": [
    "spec_query = spec_query.with_batch_size(5)\n",
    "spec_query"
   ]
  }
 ],
 "metadata": {
  "jupytext": {
   "formats": "ipynb,py:light"
  },
  "kernelspec": {
   "display_name": "Python 3 (ipykernel)",
   "language": "python",
   "name": "python3"
  },
  "language_info": {
   "codemirror_mode": {
    "name": "ipython",
    "version": 3
   },
   "file_extension": ".py",
   "mimetype": "text/x-python",
   "name": "python",
   "nbconvert_exporter": "python",
   "pygments_lexer": "ipython3",
   "version": "3.10.2"
  }
 },
 "nbformat": 4,
 "nbformat_minor": 5
}
