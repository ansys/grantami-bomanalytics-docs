{
 "cells": [
  {
   "cell_type": "markdown",
   "id": "8116053f",
   "metadata": {},
   "source": [
    "# [TECHDOCS]Writing Compliance Results to a DataFrame"
   ]
  },
  {
   "cell_type": "markdown",
   "id": "01160bb9",
   "metadata": {},
   "source": [
    "## Introduction"
   ]
  },
  {
   "cell_type": "markdown",
   "id": "7c06a28a",
   "metadata": {},
   "source": [
    "The BoM Analytics package presents compliance results in a hierarchical data structure. An alternative way of\n",
    "representing the data is in a tabular data structure, where each row contains a reference to the parent row.\n",
    "This example shows an example of how the data could be translated from one format to another, and makes use\n",
    "of a `pandas.DataFrame` object to store the tabulated data."
   ]
  },
  {
   "cell_type": "markdown",
   "id": "4efa1902",
   "metadata": {},
   "source": [
    "## Perform a Compliance Query"
   ]
  },
  {
   "cell_type": "markdown",
   "id": "3912d3fa",
   "metadata": {},
   "source": [
    "The first step is to perform a compliance query on an assembly that will result in a deeply\n",
    "nested structure. The code here is presented without explanation, see other examples for more\n",
    "detail."
   ]
  },
  {
   "cell_type": "code",
   "execution_count": 1,
   "id": "d7d8d51c",
   "metadata": {
    "execution": {
     "iopub.execute_input": "2022-01-19T18:14:31.581967Z",
     "iopub.status.busy": "2022-01-19T18:14:31.581532Z",
     "iopub.status.idle": "2022-01-19T18:14:34.343619Z",
     "shell.execute_reply": "2022-01-19T18:14:34.342745Z"
    },
    "tags": []
   },
   "outputs": [],
   "source": [
    "from ansys.grantami.bomanalytics import Connection, indicators, queries\n",
    "\n",
    "server_url = \"http://my_grantami_service/mi_servicelayer\"\n",
    "cxn = Connection(server_url).with_credentials(\"user_name\", \"password\").connect()\n",
    "svhc = indicators.WatchListIndicator(\n",
    "    name=\"SVHC\",\n",
    "    legislation_names=[\"REACH - The Candidate List\"],\n",
    "    default_threshold_percentage=0.1,\n",
    ")\n",
    "part_query = (\n",
    "    queries.PartComplianceQuery()\n",
    "    .with_record_history_ids([565060])\n",
    "    .with_indicators([svhc])\n",
    ")\n",
    "part_result = cxn.run(part_query)"
   ]
  },
  {
   "cell_type": "markdown",
   "id": "e518e7a7",
   "metadata": {},
   "source": [
    "The `part_result` object contains the compliance result for every sub-item. This is ideal for understanding\n",
    "compliance at a certain 'level' of the structure, e.g. we can display the compliance for each item directly\n",
    "under the root part."
   ]
  },
  {
   "cell_type": "code",
   "execution_count": 2,
   "id": "f8f98b32",
   "metadata": {
    "execution": {
     "iopub.execute_input": "2022-01-19T18:14:34.350805Z",
     "iopub.status.busy": "2022-01-19T18:14:34.349739Z",
     "iopub.status.idle": "2022-01-19T18:14:34.352561Z",
     "shell.execute_reply": "2022-01-19T18:14:34.352175Z"
    }
   },
   "outputs": [
    {
     "name": "stdout",
     "output_type": "stream",
     "text": [
      "Part ID: 565020, Compliance: WatchListFlag.WatchListCompliant\n",
      "Part ID: 565046, Compliance: WatchListFlag.WatchListCompliant\n",
      "Part ID: 565010, Compliance: WatchListFlag.WatchListCompliant\n",
      "Part ID: 564812, Compliance: WatchListFlag.WatchListCompliant\n",
      "Part ID: 564929, Compliance: WatchListFlag.WatchListCompliant\n",
      "Part ID: 565082, Compliance: WatchListFlag.WatchListCompliant\n",
      "Part ID: 565040, Compliance: WatchListFlag.WatchListCompliant\n",
      "Part ID: 564772, Compliance: WatchListFlag.WatchListCompliant\n",
      "Part ID: 565037, Compliance: WatchListFlag.WatchListCompliant\n",
      "Part ID: 565053, Compliance: WatchListFlag.WatchListCompliant\n",
      "Part ID: 564831, Compliance: WatchListFlag.WatchListCompliant\n",
      "Part ID: 564821, Compliance: WatchListFlag.WatchListHasSubstanceAboveThreshold\n"
     ]
    }
   ],
   "source": [
    "for part in part_result.compliance_by_part_and_indicator[0].parts:\n",
    "    print(\n",
    "        f\"Part ID: {part.record_history_identity}, \"\n",
    "        f\"Compliance: {part.indicators['SVHC'].flag}\"\n",
    "    )"
   ]
  },
  {
   "cell_type": "markdown",
   "id": "1621186c",
   "metadata": {},
   "source": [
    "However, it is less useful to be able to compare items at different levels. For this, we can flatten the data into a\n",
    "tabular structure."
   ]
  },
  {
   "cell_type": "markdown",
   "id": "a0ee8adb",
   "metadata": {},
   "source": [
    "## Flatten the Hierarchical Data Structure"
   ]
  },
  {
   "cell_type": "markdown",
   "id": "2b696017",
   "metadata": {},
   "source": [
    "We will flatten the data into a `list` of `dict` objects, where each `dict` represents an 'item' in the\n",
    "hierarchy, and each value in the `dict` represents a property of that item. This structure can then either\n",
    "be used directly or can be used to construct a `DataFrame`."
   ]
  },
  {
   "cell_type": "markdown",
   "id": "4739ebca",
   "metadata": {
    "lines_to_next_cell": 2
   },
   "source": [
    "First define a helper function that will transform a ComplianceResult object into a dict. In addition to storing\n",
    "properties that are intrinsic to the item (e.g. the ID, the type, and the SVHC result), we also want to store\n",
    "structural information, such as the level of the item and the ID of its parent."
   ]
  },
  {
   "cell_type": "code",
   "execution_count": 3,
   "id": "9850124a",
   "metadata": {
    "execution": {
     "iopub.execute_input": "2022-01-19T18:14:34.358012Z",
     "iopub.status.busy": "2022-01-19T18:14:34.356981Z",
     "iopub.status.idle": "2022-01-19T18:14:34.358527Z",
     "shell.execute_reply": "2022-01-19T18:14:34.358883Z"
    },
    "lines_to_end_of_cell_marker": 2,
    "tags": []
   },
   "outputs": [],
   "source": [
    "def create_dict(item, item_type, level, parent_id):\n",
    "    \"\"\"Add a BoM item to a list\"\"\"\n",
    "    item_id = item.record_history_identity\n",
    "    indicator = item.indicators[\"SVHC\"]\n",
    "    row = {\n",
    "        \"Item\": item_id,\n",
    "        \"Parent\": parent_id,\n",
    "        \"Type\": item_type,\n",
    "        \"SVHC\": indicator,\n",
    "        \"Level\": level,\n",
    "    }\n",
    "    return row"
   ]
  },
  {
   "cell_type": "markdown",
   "id": "18d26fca",
   "metadata": {
    "lines_to_next_cell": 2
   },
   "source": [
    "To help with the flattening process, we will also define a schema, which describes for each item type what\n",
    "child item types it can contain."
   ]
  },
  {
   "cell_type": "code",
   "execution_count": 4,
   "id": "3784b257",
   "metadata": {
    "execution": {
     "iopub.execute_input": "2022-01-19T18:14:34.362879Z",
     "iopub.status.busy": "2022-01-19T18:14:34.362439Z",
     "iopub.status.idle": "2022-01-19T18:14:34.364524Z",
     "shell.execute_reply": "2022-01-19T18:14:34.364139Z"
    },
    "lines_to_next_cell": 2
   },
   "outputs": [],
   "source": [
    "schema = {\n",
    "    \"Part\": [\"Part\", \"Specification\", \"Material\", \"Substance\"],\n",
    "    \"Specification\": [\"Specification\", \"Coating\", \"Material\", \"Substance\"],\n",
    "    \"Material\": [\"Substance\"],\n",
    "    \"Coating\": [\"Substance\"],\n",
    "    \"Substance\": [],\n",
    "}"
   ]
  },
  {
   "cell_type": "markdown",
   "id": "e10b509a",
   "metadata": {},
   "source": [
    "The function itself performs the flattening via a stack-based approach, by which the children of the item currently\n",
    "being processed are iteratively added to the `items_to_process` stack. Since this stack is both being moderated and\n",
    "iterated over, we must use a while loop and a .pop() statement instead of a for loop."
   ]
  },
  {
   "cell_type": "markdown",
   "id": "45318772",
   "metadata": {
    "lines_to_next_cell": 2
   },
   "source": [
    "The stack uses a special type of collection called a `deque`, which is similar to a `list` but is optimized for\n",
    "these sorts of stack-type use cases which involve repeated calls to .pop() and .extend()."
   ]
  },
  {
   "cell_type": "code",
   "execution_count": 5,
   "id": "5bb06dba",
   "metadata": {
    "execution": {
     "iopub.execute_input": "2022-01-19T18:14:34.372720Z",
     "iopub.status.busy": "2022-01-19T18:14:34.371625Z",
     "iopub.status.idle": "2022-01-19T18:14:34.373237Z",
     "shell.execute_reply": "2022-01-19T18:14:34.373595Z"
    },
    "tags": []
   },
   "outputs": [],
   "source": [
    "from collections import deque\n",
    "\n",
    "\n",
    "def flatten_bom(root_part):\n",
    "    result = []  # List that will contain all dicts\n",
    "\n",
    "    # The stack contains a deque of tuples: (item_object, item_type, level, parent_id)\n",
    "    # First seed the stack with the root part\n",
    "    items_to_process = deque([(root_part, \"Part\", 0, None)])\n",
    "\n",
    "    while items_to_process:\n",
    "        # Get the next item from the stack\n",
    "        item_object, item_type, level, parent = items_to_process.pop()\n",
    "        # Create the dict\n",
    "        row = create_dict(item_object, item_type, level, parent)\n",
    "        # Append it to the result list\n",
    "        result.append(row)\n",
    "\n",
    "        # Compute the properties for the child items\n",
    "        item_id = item_object.record_history_identity\n",
    "        child_items = schema[item_type]\n",
    "        child_level = level + 1\n",
    "\n",
    "        # Add the child items to the stack\n",
    "        if \"Part\" in child_items:\n",
    "            items_to_process.extend([(p, \"Part\", child_level, item_id)\n",
    "                                     for p in item_object.parts])\n",
    "        if \"Specification\" in child_items:\n",
    "            items_to_process.extend([(s, \"Specification\", child_level, item_id)\n",
    "                                     for s in item_object.specifications])\n",
    "        if \"Material\" in child_items:\n",
    "            items_to_process.extend([(m, \"Material\", child_level, item_id)\n",
    "                                     for m in item_object.materials])\n",
    "        if \"Coating\" in child_items:\n",
    "            items_to_process.extend([(c, \"Coating\", child_level, item_id)\n",
    "                                     for c in item_object.coatings])\n",
    "        if \"Substance\" in child_items:\n",
    "            items_to_process.extend([(s, \"Substance\", child_level, item_id)\n",
    "                                     for s in item_object.substances])\n",
    "\n",
    "    # When the stack is empty, the while loop exists. Return the result list.\n",
    "    return result"
   ]
  },
  {
   "cell_type": "markdown",
   "id": "2dfb700d",
   "metadata": {},
   "source": [
    "Finally, call the function above against the results from the compliance query, and use the list to create a\n",
    "`DataFrame`."
   ]
  },
  {
   "cell_type": "code",
   "execution_count": 6,
   "id": "a63563c2",
   "metadata": {
    "execution": {
     "iopub.execute_input": "2022-01-19T18:14:34.377470Z",
     "iopub.status.busy": "2022-01-19T18:14:34.377029Z",
     "iopub.status.idle": "2022-01-19T18:14:34.613505Z",
     "shell.execute_reply": "2022-01-19T18:14:34.613090Z"
    },
    "tags": []
   },
   "outputs": [
    {
     "name": "stdout",
     "output_type": "stream",
     "text": [
      "301 rows\n"
     ]
    },
    {
     "data": {
      "text/html": [
       "<div>\n",
       "<style scoped>\n",
       "    .dataframe tbody tr th:only-of-type {\n",
       "        vertical-align: middle;\n",
       "    }\n",
       "\n",
       "    .dataframe tbody tr th {\n",
       "        vertical-align: top;\n",
       "    }\n",
       "\n",
       "    .dataframe thead th {\n",
       "        text-align: right;\n",
       "    }\n",
       "</style>\n",
       "<table border=\"1\" class=\"dataframe\">\n",
       "  <thead>\n",
       "    <tr style=\"text-align: right;\">\n",
       "      <th></th>\n",
       "      <th>Item</th>\n",
       "      <th>Parent</th>\n",
       "      <th>Type</th>\n",
       "      <th>SVHC</th>\n",
       "      <th>Level</th>\n",
       "    </tr>\n",
       "  </thead>\n",
       "  <tbody>\n",
       "    <tr>\n",
       "      <th>0</th>\n",
       "      <td>565060</td>\n",
       "      <td>None</td>\n",
       "      <td>Part</td>\n",
       "      <td>SVHC, WatchListHasSubstanceAboveThreshold</td>\n",
       "      <td>0</td>\n",
       "    </tr>\n",
       "    <tr>\n",
       "      <th>1</th>\n",
       "      <td>564821</td>\n",
       "      <td>565060</td>\n",
       "      <td>Part</td>\n",
       "      <td>SVHC, WatchListHasSubstanceAboveThreshold</td>\n",
       "      <td>1</td>\n",
       "    </tr>\n",
       "    <tr>\n",
       "      <th>2</th>\n",
       "      <td>565088</td>\n",
       "      <td>564821</td>\n",
       "      <td>Part</td>\n",
       "      <td>SVHC, WatchListHasSubstanceAboveThreshold</td>\n",
       "      <td>2</td>\n",
       "    </tr>\n",
       "    <tr>\n",
       "      <th>3</th>\n",
       "      <td>12476</td>\n",
       "      <td>565088</td>\n",
       "      <td>Material</td>\n",
       "      <td>SVHC, WatchListCompliant</td>\n",
       "      <td>3</td>\n",
       "    </tr>\n",
       "    <tr>\n",
       "      <th>4</th>\n",
       "      <td>164846</td>\n",
       "      <td>565088</td>\n",
       "      <td>Specification</td>\n",
       "      <td>SVHC, WatchListHasSubstanceAboveThreshold</td>\n",
       "      <td>3</td>\n",
       "    </tr>\n",
       "  </tbody>\n",
       "</table>\n",
       "</div>"
      ],
      "text/plain": [
       "     Item  Parent           Type                                       SVHC  \\\n",
       "0  565060    None           Part  SVHC, WatchListHasSubstanceAboveThreshold   \n",
       "1  564821  565060           Part  SVHC, WatchListHasSubstanceAboveThreshold   \n",
       "2  565088  564821           Part  SVHC, WatchListHasSubstanceAboveThreshold   \n",
       "3   12476  565088       Material                   SVHC, WatchListCompliant   \n",
       "4  164846  565088  Specification  SVHC, WatchListHasSubstanceAboveThreshold   \n",
       "\n",
       "   Level  \n",
       "0      0  \n",
       "1      1  \n",
       "2      2  \n",
       "3      3  \n",
       "4      3  "
      ]
     },
     "execution_count": 6,
     "metadata": {},
     "output_type": "execute_result"
    }
   ],
   "source": [
    "import pandas as pd\n",
    "\n",
    "data = flatten_bom(part_result.compliance_by_part_and_indicator[0])\n",
    "df_full = pd.DataFrame(data)\n",
    "print(f\"{len(df_full)} rows\")\n",
    "df_full.head()"
   ]
  },
  {
   "cell_type": "markdown",
   "id": "32160657",
   "metadata": {},
   "source": [
    "## Post-processing the DataFrame"
   ]
  },
  {
   "cell_type": "markdown",
   "id": "448b108e",
   "metadata": {},
   "source": [
    "Now we have the data in a `DataFrame` we can perform operations across all levels of the structure more easily.\n",
    "For example, we can delete all rows that are less than the 'Above Threshold' state, retaining only rows that are\n",
    "non-compliant. Note that this reduces the number of rows significantly."
   ]
  },
  {
   "cell_type": "code",
   "execution_count": 7,
   "id": "88e56df5",
   "metadata": {
    "execution": {
     "iopub.execute_input": "2022-01-19T18:14:34.625306Z",
     "iopub.status.busy": "2022-01-19T18:14:34.624831Z",
     "iopub.status.idle": "2022-01-19T18:14:34.630600Z",
     "shell.execute_reply": "2022-01-19T18:14:34.630168Z"
    },
    "tags": []
   },
   "outputs": [
    {
     "name": "stdout",
     "output_type": "stream",
     "text": [
      "18 rows\n"
     ]
    },
    {
     "data": {
      "text/html": [
       "<div>\n",
       "<style scoped>\n",
       "    .dataframe tbody tr th:only-of-type {\n",
       "        vertical-align: middle;\n",
       "    }\n",
       "\n",
       "    .dataframe tbody tr th {\n",
       "        vertical-align: top;\n",
       "    }\n",
       "\n",
       "    .dataframe thead th {\n",
       "        text-align: right;\n",
       "    }\n",
       "</style>\n",
       "<table border=\"1\" class=\"dataframe\">\n",
       "  <thead>\n",
       "    <tr style=\"text-align: right;\">\n",
       "      <th></th>\n",
       "      <th>Item</th>\n",
       "      <th>Parent</th>\n",
       "      <th>Type</th>\n",
       "      <th>SVHC</th>\n",
       "      <th>Level</th>\n",
       "    </tr>\n",
       "  </thead>\n",
       "  <tbody>\n",
       "    <tr>\n",
       "      <th>0</th>\n",
       "      <td>565060</td>\n",
       "      <td>None</td>\n",
       "      <td>Part</td>\n",
       "      <td>SVHC, WatchListHasSubstanceAboveThreshold</td>\n",
       "      <td>0</td>\n",
       "    </tr>\n",
       "    <tr>\n",
       "      <th>1</th>\n",
       "      <td>564821</td>\n",
       "      <td>565060</td>\n",
       "      <td>Part</td>\n",
       "      <td>SVHC, WatchListHasSubstanceAboveThreshold</td>\n",
       "      <td>1</td>\n",
       "    </tr>\n",
       "    <tr>\n",
       "      <th>2</th>\n",
       "      <td>565088</td>\n",
       "      <td>564821</td>\n",
       "      <td>Part</td>\n",
       "      <td>SVHC, WatchListHasSubstanceAboveThreshold</td>\n",
       "      <td>2</td>\n",
       "    </tr>\n",
       "    <tr>\n",
       "      <th>4</th>\n",
       "      <td>164846</td>\n",
       "      <td>565088</td>\n",
       "      <td>Specification</td>\n",
       "      <td>SVHC, WatchListHasSubstanceAboveThreshold</td>\n",
       "      <td>3</td>\n",
       "    </tr>\n",
       "    <tr>\n",
       "      <th>5</th>\n",
       "      <td>83146</td>\n",
       "      <td>164846</td>\n",
       "      <td>Coating</td>\n",
       "      <td>SVHC, WatchListHasSubstanceAboveThreshold</td>\n",
       "      <td>4</td>\n",
       "    </tr>\n",
       "  </tbody>\n",
       "</table>\n",
       "</div>"
      ],
      "text/plain": [
       "     Item  Parent           Type                                       SVHC  \\\n",
       "0  565060    None           Part  SVHC, WatchListHasSubstanceAboveThreshold   \n",
       "1  564821  565060           Part  SVHC, WatchListHasSubstanceAboveThreshold   \n",
       "2  565088  564821           Part  SVHC, WatchListHasSubstanceAboveThreshold   \n",
       "4  164846  565088  Specification  SVHC, WatchListHasSubstanceAboveThreshold   \n",
       "5   83146  164846        Coating  SVHC, WatchListHasSubstanceAboveThreshold   \n",
       "\n",
       "   Level  \n",
       "0      0  \n",
       "1      1  \n",
       "2      2  \n",
       "4      3  \n",
       "5      4  "
      ]
     },
     "execution_count": 7,
     "metadata": {},
     "output_type": "execute_result"
    }
   ],
   "source": [
    "threshold = indicators.WatchListFlag.WatchListAboveThreshold\n",
    "df_non_compliant = df_full.drop(df_full[df_full.SVHC < threshold].index)\n",
    "print(f\"{len(df_non_compliant)} rows\")\n",
    "df_non_compliant.head()"
   ]
  }
 ],
 "metadata": {
  "jupytext": {
   "formats": "ipynb,py:light"
  },
  "kernelspec": {
   "display_name": "Python 3 (ipykernel)",
   "language": "python",
   "name": "python3"
  },
  "language_info": {
   "codemirror_mode": {
    "name": "ipython",
    "version": 3
   },
   "file_extension": ".py",
   "mimetype": "text/x-python",
   "name": "python",
   "nbconvert_exporter": "python",
   "pygments_lexer": "ipython3",
   "version": "3.10.1"
  }
 },
 "nbformat": 4,
 "nbformat_minor": 5
}
